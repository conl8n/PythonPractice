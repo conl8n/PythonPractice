{
 "cells": [
  {
   "cell_type": "markdown",
   "id": "d124807c",
   "metadata": {},
   "source": [
    "# Chapter 6 Exercises"
   ]
  },
  {
   "cell_type": "markdown",
   "id": "b74b72b4",
   "metadata": {},
   "source": [
    "## Algorithm Workbench"
   ]
  },
  {
   "cell_type": "markdown",
   "id": "efffac62",
   "metadata": {},
   "source": [
    "### Question 1\n",
    "\n",
    "Write a program that opens an output file with the filename my_name.txt, writes your name to the file, then closes the file."
   ]
  },
  {
   "cell_type": "code",
   "execution_count": 2,
   "id": "50b33d09",
   "metadata": {},
   "outputs": [
    {
     "name": "stdout",
     "output_type": "stream",
     "text": [
      "Please write your name: Connor\n"
     ]
    }
   ],
   "source": [
    "def name_in_file(name):\n",
    "    #opening the file in writing mode\n",
    "    file_object = open('my_name.txt', 'w')\n",
    "    #writing your name\n",
    "    file_object.write(name)\n",
    "    \n",
    "def main():\n",
    "    #input from user\n",
    "    name = input('Please write your name: ')\n",
    "    name_in_file(name)\n",
    "    \n",
    "if __name__ == \"__main__\":\n",
    "    main()"
   ]
  },
  {
   "cell_type": "markdown",
   "id": "cc2c765f",
   "metadata": {},
   "source": [
    "I started with opening a file in writing mode, and writing my name. Then, in the main function, I got the input from the user, which is the name. I realized I forgot to close the file, So I added a file_object.close()"
   ]
  },
  {
   "cell_type": "code",
   "execution_count": 3,
   "id": "63a04182",
   "metadata": {},
   "outputs": [
    {
     "name": "stdout",
     "output_type": "stream",
     "text": [
      "Please write your name: Connor\n"
     ]
    }
   ],
   "source": [
    "def name_in_file(name):\n",
    "    #opening the file in writing mode\n",
    "    file_object = open('my_name.txt', 'w')\n",
    "    #writing your name\n",
    "    file_object.write(name)\n",
    "    file_object.close()\n",
    "def main():\n",
    "    #input from user\n",
    "    name = input('Please write your name: ')\n",
    "    name_in_file(name)\n",
    "    \n",
    "if __name__ == \"__main__\":\n",
    "    main()"
   ]
  },
  {
   "cell_type": "markdown",
   "id": "f31a03db",
   "metadata": {},
   "source": [
    "after adding the file_object.close, I found  my_name.txt in github already"
   ]
  },
  {
   "cell_type": "markdown",
   "id": "2c14a232",
   "metadata": {},
   "source": [
    "### Question 2\n",
    "\n",
    "Write a program that opens the my_name.txt file that was created by the program\n",
    "in problem 1, reads your name from the file, displays the name on the screen, then\n",
    "closes the file."
   ]
  },
  {
   "cell_type": "code",
   "execution_count": null,
   "id": "b6740e47",
   "metadata": {},
   "outputs": [],
   "source": [
    "#open the file\n",
    "file = open('my_name.txt','r')  \n",
    "#read it and save output to nameFromFile\n",
    "nameFromFile = file.read()\n",
    "# display the name on the screen \n",
    "print(nameFromFile)\n",
    "# close the file   \n",
    "file.close()"
   ]
  },
  {
   "cell_type": "markdown",
   "id": "9c1c636f",
   "metadata": {},
   "source": [
    "## Programming Exercises"
   ]
  },
  {
   "cell_type": "markdown",
   "id": "4ec46f51",
   "metadata": {},
   "source": [
    "### Question 1: File Display\n",
    "\n",
    "Assume a file containing a series of integers is named numbers.txt and exists on the computer’s disk. Write a program that displays all of the numbers in the file."
   ]
  },
  {
   "cell_type": "code",
   "execution_count": null,
   "id": "06634877",
   "metadata": {},
   "outputs": [],
   "source": []
  }
 ],
 "metadata": {
  "kernelspec": {
   "display_name": "Python 3 (ipykernel)",
   "language": "python",
   "name": "python3"
  },
  "language_info": {
   "codemirror_mode": {
    "name": "ipython",
    "version": 3
   },
   "file_extension": ".py",
   "mimetype": "text/x-python",
   "name": "python",
   "nbconvert_exporter": "python",
   "pygments_lexer": "ipython3",
   "version": "3.11.5"
  }
 },
 "nbformat": 4,
 "nbformat_minor": 5
}
