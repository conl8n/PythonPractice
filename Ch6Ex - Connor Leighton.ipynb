{
 "cells": [
  {
   "cell_type": "markdown",
   "id": "d124807c",
   "metadata": {},
   "source": [
    "# Chapter 6 Exercises"
   ]
  },
  {
   "cell_type": "markdown",
   "id": "b74b72b4",
   "metadata": {},
   "source": [
    "## Algorithm Workbench"
   ]
  },
  {
   "cell_type": "markdown",
   "id": "efffac62",
   "metadata": {},
   "source": [
    "### Question 1\n",
    "\n",
    "Write a program that opens an output file with the filename my_name.txt, writes your name to the file, then closes the file."
   ]
  },
  {
   "cell_type": "code",
   "execution_count": 2,
   "id": "50b33d09",
   "metadata": {},
   "outputs": [
    {
     "name": "stdout",
     "output_type": "stream",
     "text": [
      "Please write your name: Connor\n"
     ]
    }
   ],
   "source": [
    "def name_in_file(name):\n",
    "    #opening the file in writing mode\n",
    "    file_object = open('my_name.txt', 'w')\n",
    "    #writing your name\n",
    "    file_object.write(name)\n",
    "    \n",
    "def main():\n",
    "    #input from user\n",
    "    name = input('Please write your name: ')\n",
    "    name_in_file(name)\n",
    "    \n",
    "if __name__ == \"__main__\":\n",
    "    main()"
   ]
  },
  {
   "cell_type": "markdown",
   "id": "cc2c765f",
   "metadata": {},
   "source": [
    "I started with opening a file in writing mode, and writing my name. Then, in the main function, I got the input from the user, which is the name. I realized I forgot to close the file, So I added a file_object.close()"
   ]
  },
  {
   "cell_type": "code",
   "execution_count": 3,
   "id": "63a04182",
   "metadata": {},
   "outputs": [
    {
     "name": "stdout",
     "output_type": "stream",
     "text": [
      "Please write your name: Connor\n"
     ]
    }
   ],
   "source": [
    "def name_in_file(name):\n",
    "    #opening the file in writing mode\n",
    "    file_object = open('my_name.txt', 'w')\n",
    "    #writing your name\n",
    "    file_object.write(name)\n",
    "    file_object.close()\n",
    "def main():\n",
    "    #input from user\n",
    "    name = input('Please write your name: ')\n",
    "    name_in_file(name)\n",
    "    \n",
    "if __name__ == \"__main__\":\n",
    "    main()"
   ]
  },
  {
   "cell_type": "markdown",
   "id": "f31a03db",
   "metadata": {},
   "source": [
    "after adding the file_object.close, I found  my_name.txt in github already"
   ]
  },
  {
   "cell_type": "markdown",
   "id": "2c14a232",
   "metadata": {},
   "source": [
    "### Question 2\n",
    "\n",
    "Write a program that opens the my_name.txt file that was created by the program\n",
    "in problem 1, reads your name from the file, displays the name on the screen, then\n",
    "closes the file."
   ]
  },
  {
   "cell_type": "code",
   "execution_count": 1,
   "id": "b6740e47",
   "metadata": {},
   "outputs": [
    {
     "name": "stdout",
     "output_type": "stream",
     "text": [
      "Connor\n"
     ]
    }
   ],
   "source": [
    "#open the file\n",
    "file = open('my_name.txt','r')  \n",
    "#read it and save to NameInFile\n",
    "NameInFile = file.read()\n",
    "#display the name\n",
    "print(NameInFile)\n",
    "#close the file   \n",
    "file.close()"
   ]
  },
  {
   "cell_type": "markdown",
   "id": "acaa837f",
   "metadata": {},
   "source": [
    "I first started with file = open('my_name.txt', 'r') to open the file in reading mode. I then saved the name to the variable NameInFile, where I could then print it. I ended the program with file.close() to close the file."
   ]
  },
  {
   "cell_type": "markdown",
   "id": "9c1c636f",
   "metadata": {},
   "source": [
    "## Programming Exercises"
   ]
  },
  {
   "cell_type": "markdown",
   "id": "4ec46f51",
   "metadata": {},
   "source": [
    "### Question 1: File Display\n",
    "\n",
    "Assume a file containing a series of integers is named numbers.txt and exists on the computer’s disk. Write a program that displays all of the numbers in the file."
   ]
  },
  {
   "cell_type": "code",
   "execution_count": 2,
   "id": "06634877",
   "metadata": {},
   "outputs": [
    {
     "ename": "SyntaxError",
     "evalue": "expected ':' (1105361649.py, line 10)",
     "output_type": "error",
     "traceback": [
      "\u001b[1;36m  Cell \u001b[1;32mIn[2], line 10\u001b[1;36m\u001b[0m\n\u001b[1;33m    def main()\u001b[0m\n\u001b[1;37m              ^\u001b[0m\n\u001b[1;31mSyntaxError\u001b[0m\u001b[1;31m:\u001b[0m expected ':'\n"
     ]
    }
   ],
   "source": [
    "def NumbersInFile():\n",
    "    #opeining the file in writing mode\n",
    "    file = open('number.txt', 'w')\n",
    "    #writing the numbers\n",
    "    file.write(numbers)\n",
    "    \n",
    "    #opening the file in reading mode\n",
    "    file = open('numbers.txt', 'r')\n",
    "    #saving it to NumbersInFile\n",
    "    NumbersInFile = file.read()\n",
    "    #displaying the numbers\n",
    "    print(NumbersInFile)\n",
    "    #closing the file\n",
    "    file.close()\n",
    "\n",
    "def main()\n",
    "    #getting the input from user\n",
    "    name = input('enter some numbers: ')\n",
    "    NumbersInFile(numbers)\n",
    "    \n",
    "if __name__ == '__main__':\n",
    "    main()"
   ]
  },
  {
   "cell_type": "markdown",
   "id": "d0f7b4ef",
   "metadata": {},
   "source": [
    "I started by opening the file in writing mode and writing the numbers. Then, I opened the file in reading mode and printed the numbers. In the main function, I got the input from the user. I got an error however as I forgot a colon after the main functions."
   ]
  },
  {
   "cell_type": "code",
   "execution_count": 3,
   "id": "ae47a068",
   "metadata": {},
   "outputs": [
    {
     "name": "stdout",
     "output_type": "stream",
     "text": [
      "enter some numbers: 1 5 7 9\n"
     ]
    },
    {
     "ename": "NameError",
     "evalue": "name 'numbers' is not defined",
     "output_type": "error",
     "traceback": [
      "\u001b[1;31m---------------------------------------------------------------------------\u001b[0m",
      "\u001b[1;31mNameError\u001b[0m                                 Traceback (most recent call last)",
      "Cell \u001b[1;32mIn[3], line 15\u001b[0m\n\u001b[0;32m     12\u001b[0m     NumbersInFile(numbers)\n\u001b[0;32m     14\u001b[0m \u001b[38;5;28;01mif\u001b[39;00m \u001b[38;5;18m__name__\u001b[39m \u001b[38;5;241m==\u001b[39m \u001b[38;5;124m'\u001b[39m\u001b[38;5;124m__main__\u001b[39m\u001b[38;5;124m'\u001b[39m:\n\u001b[1;32m---> 15\u001b[0m     main()\n",
      "Cell \u001b[1;32mIn[3], line 12\u001b[0m, in \u001b[0;36mmain\u001b[1;34m()\u001b[0m\n\u001b[0;32m     10\u001b[0m \u001b[38;5;28;01mdef\u001b[39;00m \u001b[38;5;21mmain\u001b[39m():\n\u001b[0;32m     11\u001b[0m     name \u001b[38;5;241m=\u001b[39m \u001b[38;5;28minput\u001b[39m(\u001b[38;5;124m'\u001b[39m\u001b[38;5;124menter some numbers: \u001b[39m\u001b[38;5;124m'\u001b[39m)\n\u001b[1;32m---> 12\u001b[0m     NumbersInFile(numbers)\n",
      "\u001b[1;31mNameError\u001b[0m: name 'numbers' is not defined"
     ]
    }
   ],
   "source": [
    "def NumbersInFile():\n",
    "    #opeining the file in writing mode\n",
    "    file = open('number.txt', 'w')\n",
    "    #writing the numbers\n",
    "    file.write(numbers)\n",
    "    \n",
    "    #opening the file in reading mode\n",
    "    file = open('numbers.txt', 'r')\n",
    "    #saving it to NumbersInFile\n",
    "    NumbersInFile = file.read()\n",
    "    #displaying the numbers\n",
    "    print(NumbersInFile)\n",
    "    #closing the file\n",
    "    file.close()\n",
    "\n",
    "def main():\n",
    "    #getting the input from user\n",
    "    name = input('enter some numbers: ')\n",
    "    NumbersInFile(numbers)\n",
    "    \n",
    "if __name__ == '__main__':\n",
    "    main()"
   ]
  },
  {
   "cell_type": "markdown",
   "id": "f11c2078",
   "metadata": {},
   "source": [
    "After adding the colon, I got another error message about how one of my variables was incorrect. In line 11, I used the variable name instead of numbers."
   ]
  },
  {
   "cell_type": "code",
   "execution_count": 5,
   "id": "b4a154b0",
   "metadata": {},
   "outputs": [
    {
     "name": "stdout",
     "output_type": "stream",
     "text": [
      "enter some numbers: 1 3 5 7\n"
     ]
    },
    {
     "ename": "TypeError",
     "evalue": "NumbersInFile() takes 0 positional arguments but 1 was given",
     "output_type": "error",
     "traceback": [
      "\u001b[1;31m---------------------------------------------------------------------------\u001b[0m",
      "\u001b[1;31mTypeError\u001b[0m                                 Traceback (most recent call last)",
      "Cell \u001b[1;32mIn[5], line 19\u001b[0m\n\u001b[0;32m     16\u001b[0m     NumbersInFile(numbers)\n\u001b[0;32m     18\u001b[0m \u001b[38;5;28;01mif\u001b[39;00m \u001b[38;5;18m__name__\u001b[39m \u001b[38;5;241m==\u001b[39m \u001b[38;5;124m'\u001b[39m\u001b[38;5;124m__main__\u001b[39m\u001b[38;5;124m'\u001b[39m:\n\u001b[1;32m---> 19\u001b[0m     main()\n",
      "Cell \u001b[1;32mIn[5], line 16\u001b[0m, in \u001b[0;36mmain\u001b[1;34m()\u001b[0m\n\u001b[0;32m     14\u001b[0m \u001b[38;5;28;01mdef\u001b[39;00m \u001b[38;5;21mmain\u001b[39m():\n\u001b[0;32m     15\u001b[0m     numbers \u001b[38;5;241m=\u001b[39m \u001b[38;5;28minput\u001b[39m(\u001b[38;5;124m'\u001b[39m\u001b[38;5;124menter some numbers: \u001b[39m\u001b[38;5;124m'\u001b[39m)\n\u001b[1;32m---> 16\u001b[0m     NumbersInFile(numbers)\n",
      "\u001b[1;31mTypeError\u001b[0m: NumbersInFile() takes 0 positional arguments but 1 was given"
     ]
    }
   ],
   "source": [
    "def NumbersInFile():\n",
    "    #opeining the file in writing mode\n",
    "    file = open('number.txt', 'w')\n",
    "    #writing the numbers\n",
    "    file.write(numbers)\n",
    "    \n",
    "    #opening the file in reading mode\n",
    "    file = open('numbers.txt', 'r')\n",
    "    #saving it to NumbersInFile\n",
    "    NumbersInFile = file.read()\n",
    "    #displaying the numbers\n",
    "    print(NumbersInFile)\n",
    "    #closing the file\n",
    "    file.close()\n",
    "\n",
    "def main():\n",
    "    #getting the input from user\n",
    "    numbers = input('enter some numbers: ')\n",
    "    NumbersInFile(numbers)\n",
    "    \n",
    "if __name__ == '__main__':\n",
    "    main()"
   ]
  },
  {
   "cell_type": "markdown",
   "id": "8b94b1d8",
   "metadata": {},
   "source": [
    "After getting a lot of error messages, I realized I was overcomplicating the problem. The problem never states that I need input from the user, and doesn't say I need to write them down in the file. I wanted to try again from scratch with a much simpler code."
   ]
  },
  {
   "cell_type": "code",
   "execution_count": 8,
   "id": "618ad9eb",
   "metadata": {},
   "outputs": [],
   "source": [
    "def main():\n",
    "    #Open the file for reading\n",
    "    with open('numbers.txt', \"r\") as file:\n",
    "        #Read all lines\n",
    "        lines = file.readlines()\n",
    "        #Iterate through each line\n",
    "        for line in lines:\n",
    "            #Convert to integer and print\n",
    "            number = int(line.strip())\n",
    "            print(number)\n",
    "\n",
    "if __name__ == \"__main__\":\n",
    "    main()"
   ]
  },
  {
   "cell_type": "markdown",
   "id": "6a074e25",
   "metadata": {},
   "source": [
    "Now, I didnt get an error message. This time, I started by opening numbers.txt for reading, then it reads all the lines, and for each line, it converts the number into an integer. However, the program is not printing the numbers in the file."
   ]
  },
  {
   "cell_type": "code",
   "execution_count": 23,
   "id": "4d6d4ff7",
   "metadata": {},
   "outputs": [
    {
     "name": "stdout",
     "output_type": "stream",
     "text": [
      "['1\\n', '3\\n', '5']\n",
      "1\n",
      "3\n",
      "5\n"
     ]
    }
   ],
   "source": [
    "def main():\n",
    "    #Open the file for reading\n",
    "    with open('numbers.txt', \"r\") as file:\n",
    "        #Read all lines\n",
    "        lines = file.readlines()\n",
    "        print(lines)\n",
    "        #Iterate through each line\n",
    "        for line in lines:\n",
    "            #Convert to integer and print\n",
    "            number = int(line.strip())\n",
    "            print(number)\n",
    "\n",
    "if __name__ == \"__main__\":\n",
    "    main()"
   ]
  },
  {
   "cell_type": "markdown",
   "id": "8f35e5c3",
   "metadata": {},
   "source": [
    "I realized after testing the code a lot, my main problem was that I did not save numbers.txt after editing it. after saving, the numbers now print"
   ]
  },
  {
   "cell_type": "code",
   "execution_count": 11,
   "id": "c8a4c4d5",
   "metadata": {},
   "outputs": [
    {
     "name": "stdout",
     "output_type": "stream",
     "text": [
      "['Connor']\n"
     ]
    }
   ],
   "source": [
    "def test():\n",
    "    with open('my_name.txt', 'r') as file:\n",
    "        name = file.readlines()\n",
    "        print(name)\n",
    "\n",
    "if __name__ == \"__main__\":\n",
    "    test()"
   ]
  },
  {
   "cell_type": "code",
   "execution_count": 20,
   "id": "85cb9b80",
   "metadata": {},
   "outputs": [
    {
     "name": "stdout",
     "output_type": "stream",
     "text": [
      "hello\n",
      "['dog\\n', 'cat\\n', 'bird']\n"
     ]
    }
   ],
   "source": [
    "def test():\n",
    "    print('hello')\n",
    "    with open('numbers.txt', 'r') as file:\n",
    "        numbers = file.readlines()\n",
    "        print(numbers)\n",
    "\n",
    "if __name__ == \"__main__\":\n",
    "    test()"
   ]
  },
  {
   "cell_type": "markdown",
   "id": "6ba06e8a",
   "metadata": {},
   "source": [
    "these two programs were just me testing things out to try to troubleshoot"
   ]
  },
  {
   "cell_type": "markdown",
   "id": "601cdc7e",
   "metadata": {},
   "source": [
    "### Question 6: Average of Numbers\n",
    "\n",
    "Assume a file containing a series of integers is named numbers.txt and exists on the computer’s disk. Write a program that calculates the average of all the numbers stored in the file."
   ]
  },
  {
   "cell_type": "code",
   "execution_count": 25,
   "id": "cdb04c3d",
   "metadata": {},
   "outputs": [
    {
     "name": "stdout",
     "output_type": "stream",
     "text": [
      "the average is 3.0\n"
     ]
    }
   ],
   "source": [
    "def main():\n",
    "    #initializing the variables\n",
    "    total = 0\n",
    "    amount = 0\n",
    "    \n",
    "    #opening the file for reading\n",
    "    with open('numbers.txt', 'r') as file:\n",
    "        #iterate through each line\n",
    "        for line in file:\n",
    "            #converting each line to integer\n",
    "            number = int(line.strip())\n",
    "            #adding to the total\n",
    "            total += number\n",
    "            #adding to the amount of numbers\n",
    "            amount += 1\n",
    "    \n",
    "    #calculating the average\n",
    "    if amount > 0:\n",
    "        average = total / amount\n",
    "        print(f'the average is {average}')\n",
    "    else:\n",
    "        print('no numbers in the file')\n",
    "        \n",
    "if __name__ == \"__main__\":\n",
    "    main()"
   ]
  },
  {
   "cell_type": "markdown",
   "id": "f932494b",
   "metadata": {},
   "source": [
    "the numbers in numbers.txt are 1, 3, and 5, therefore the average is 3. I started by initializing the variables, by setting the total and the amount of numbers 0. Then, I opened the file for reading, and had the program read each line, and convert each number to a"
   ]
  }
 ],
 "metadata": {
  "kernelspec": {
   "display_name": "Python 3 (ipykernel)",
   "language": "python",
   "name": "python3"
  },
  "language_info": {
   "codemirror_mode": {
    "name": "ipython",
    "version": 3
   },
   "file_extension": ".py",
   "mimetype": "text/x-python",
   "name": "python",
   "nbconvert_exporter": "python",
   "pygments_lexer": "ipython3",
   "version": "3.11.5"
  }
 },
 "nbformat": 4,
 "nbformat_minor": 5
}
