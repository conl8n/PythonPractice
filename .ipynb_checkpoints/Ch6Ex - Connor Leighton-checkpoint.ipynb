{
 "cells": [
  {
   "cell_type": "markdown",
   "id": "d124807c",
   "metadata": {},
   "source": [
    "# Chapter 6 Exercises"
   ]
  },
  {
   "cell_type": "markdown",
   "id": "b74b72b4",
   "metadata": {},
   "source": [
    "## Algorithm Workbench"
   ]
  },
  {
   "cell_type": "markdown",
   "id": "efffac62",
   "metadata": {},
   "source": [
    "### Question 1\n",
    "\n",
    "Write a program that opens an output file with the filename my_name.txt, writes your name to the file, then closes the file."
   ]
  },
  {
   "cell_type": "code",
   "execution_count": 2,
   "id": "50b33d09",
   "metadata": {},
   "outputs": [
    {
     "name": "stdout",
     "output_type": "stream",
     "text": [
      "Please write your name: Connor\n"
     ]
    }
   ],
   "source": [
    "def name_in_file(name):\n",
    "    #opening the file in writing mode\n",
    "    file_object = open('my_name.txt', 'w')\n",
    "    #writing your name\n",
    "    file_object.write(name)\n",
    "    \n",
    "def main():\n",
    "    #input from user\n",
    "    name = input('Please write your name: ')\n",
    "    name_in_file(name)\n",
    "    \n",
    "if __name__ == \"__main__\":\n",
    "    main()"
   ]
  },
  {
   "cell_type": "markdown",
   "id": "cc2c765f",
   "metadata": {},
   "source": [
    "I started with opening a file in writing mode, and writing my name. Then, in the main function, I got the input from the user, which is the name. I realized I forgot to close the file, So I added a file_object.close()"
   ]
  },
  {
   "cell_type": "code",
   "execution_count": 3,
   "id": "63a04182",
   "metadata": {},
   "outputs": [
    {
     "name": "stdout",
     "output_type": "stream",
     "text": [
      "Please write your name: Connor\n"
     ]
    }
   ],
   "source": [
    "def name_in_file(name):\n",
    "    #opening the file in writing mode\n",
    "    file_object = open('my_name.txt', 'w')\n",
    "    #writing your name\n",
    "    file_object.write(name)\n",
    "    file_object.close()\n",
    "def main():\n",
    "    #input from user\n",
    "    name = input('Please write your name: ')\n",
    "    name_in_file(name)\n",
    "    \n",
    "if __name__ == \"__main__\":\n",
    "    main()"
   ]
  },
  {
   "cell_type": "markdown",
   "id": "f31a03db",
   "metadata": {},
   "source": [
    "after adding the file_object.close, I found  my_name.txt in github already"
   ]
  },
  {
   "cell_type": "markdown",
   "id": "2c14a232",
   "metadata": {},
   "source": [
    "### Question 2\n",
    "\n",
    "Write a program that opens the my_name.txt file that was created by the program\n",
    "in problem 1, reads your name from the file, displays the name on the screen, then\n",
    "closes the file."
   ]
  },
  {
   "cell_type": "code",
   "execution_count": 1,
   "id": "b6740e47",
   "metadata": {},
   "outputs": [
    {
     "name": "stdout",
     "output_type": "stream",
     "text": [
      "Connor\n"
     ]
    }
   ],
   "source": [
    "#open the file\n",
    "file = open('my_name.txt','r')  \n",
    "#read it and save to NameInFile\n",
    "NameInFile = file.read()\n",
    "#display the name\n",
    "print(NameInFile)\n",
    "#close the file   \n",
    "file.close()"
   ]
  },
  {
   "cell_type": "markdown",
   "id": "22119b77",
   "metadata": {},
   "source": [
    "I first started with file = open('my_name.txt', 'r') to open the file in reading mode. I then saved the name to the variable NameInFile, where I could then print it. I ended the program with file.close() to close the file."
   ]
  },
  {
   "cell_type": "markdown",
   "id": "9c1c636f",
   "metadata": {},
   "source": [
    "## Programming Exercises"
   ]
  },
  {
   "cell_type": "markdown",
   "id": "4ec46f51",
   "metadata": {},
   "source": [
    "### Question 1: File Display\n",
    "\n",
    "Assume a file containing a series of integers is named numbers.txt and exists on the computer’s disk. Write a program that displays all of the numbers in the file."
   ]
  },
  {
   "cell_type": "code",
   "execution_count": 2,
   "id": "06634877",
   "metadata": {},
   "outputs": [
    {
     "ename": "SyntaxError",
     "evalue": "expected ':' (1105361649.py, line 10)",
     "output_type": "error",
     "traceback": [
      "\u001b[1;36m  Cell \u001b[1;32mIn[2], line 10\u001b[1;36m\u001b[0m\n\u001b[1;33m    def main()\u001b[0m\n\u001b[1;37m              ^\u001b[0m\n\u001b[1;31mSyntaxError\u001b[0m\u001b[1;31m:\u001b[0m expected ':'\n"
     ]
    }
   ],
   "source": [
    "def NumbersInFile():\n",
    "    #opeining the file in writing mode\n",
    "    file = open('number.txt', 'w')\n",
    "    #writing the numbers\n",
    "    file.write(numbers)\n",
    "    \n",
    "    #opening the file in reading mode\n",
    "    file = open('numbers.txt', 'r')\n",
    "    #saving it to NumbersInFile\n",
    "    NumbersInFile = file.read()\n",
    "    #displaying the numbers\n",
    "    print(NumbersInFile)\n",
    "    #closing the file\n",
    "    file.close()\n",
    "\n",
    "def main()\n",
    "    #getting the input from user\n",
    "    name = input('enter some numbers: ')\n",
    "    NumbersInFile(numbers)\n",
    "    \n",
    "if __name__ == '__main__':\n",
    "    main()"
   ]
  },
  {
   "cell_type": "markdown",
   "id": "f71c0aeb",
   "metadata": {},
   "source": [
    "I started by opening the file in writing mode and writing the numbers. Then, I opened the file in reading mode and printed the numbers. In the main function, I got the input from the user. I got an error however as I forgot a colon after the main functions."
   ]
  },
  {
   "cell_type": "code",
   "execution_count": 3,
   "id": "2928ffe1",
   "metadata": {},
   "outputs": [
    {
     "name": "stdout",
     "output_type": "stream",
     "text": [
      "enter some numbers: 1 5 7 9\n"
     ]
    },
    {
     "ename": "NameError",
     "evalue": "name 'numbers' is not defined",
     "output_type": "error",
     "traceback": [
      "\u001b[1;31m---------------------------------------------------------------------------\u001b[0m",
      "\u001b[1;31mNameError\u001b[0m                                 Traceback (most recent call last)",
      "Cell \u001b[1;32mIn[3], line 15\u001b[0m\n\u001b[0;32m     12\u001b[0m     NumbersInFile(numbers)\n\u001b[0;32m     14\u001b[0m \u001b[38;5;28;01mif\u001b[39;00m \u001b[38;5;18m__name__\u001b[39m \u001b[38;5;241m==\u001b[39m \u001b[38;5;124m'\u001b[39m\u001b[38;5;124m__main__\u001b[39m\u001b[38;5;124m'\u001b[39m:\n\u001b[1;32m---> 15\u001b[0m     main()\n",
      "Cell \u001b[1;32mIn[3], line 12\u001b[0m, in \u001b[0;36mmain\u001b[1;34m()\u001b[0m\n\u001b[0;32m     10\u001b[0m \u001b[38;5;28;01mdef\u001b[39;00m \u001b[38;5;21mmain\u001b[39m():\n\u001b[0;32m     11\u001b[0m     name \u001b[38;5;241m=\u001b[39m \u001b[38;5;28minput\u001b[39m(\u001b[38;5;124m'\u001b[39m\u001b[38;5;124menter some numbers: \u001b[39m\u001b[38;5;124m'\u001b[39m)\n\u001b[1;32m---> 12\u001b[0m     NumbersInFile(numbers)\n",
      "\u001b[1;31mNameError\u001b[0m: name 'numbers' is not defined"
     ]
    }
   ],
   "source": [
    "def NumbersInFile():\n",
    "    #opeining the file in writing mode\n",
    "    file = open('number.txt', 'w')\n",
    "    #writing the numbers\n",
    "    file.write(numbers)\n",
    "    \n",
    "    #opening the file in reading mode\n",
    "    file = open('numbers.txt', 'r')\n",
    "    #saving it to NumbersInFile\n",
    "    NumbersInFile = file.read()\n",
    "    #displaying the numbers\n",
    "    print(NumbersInFile)\n",
    "    #closing the file\n",
    "    file.close()\n",
    "\n",
    "def main():\n",
    "    #getting the input from user\n",
    "    name = input('enter some numbers: ')\n",
    "    NumbersInFile(numbers)\n",
    "    \n",
    "if __name__ == '__main__':\n",
    "    main()"
   ]
  },
  {
   "cell_type": "markdown",
   "id": "6df0600f",
   "metadata": {},
   "source": [
    "After adding the colon, I got another error message about how one of my variables was incorrect. In line 11, I used the variable name instead of numbers."
   ]
  },
  {
   "cell_type": "code",
   "execution_count": 5,
   "id": "23674473",
   "metadata": {},
   "outputs": [
    {
     "name": "stdout",
     "output_type": "stream",
     "text": [
      "enter some numbers: 1 3 5 7\n"
     ]
    },
    {
     "ename": "TypeError",
     "evalue": "NumbersInFile() takes 0 positional arguments but 1 was given",
     "output_type": "error",
     "traceback": [
      "\u001b[1;31m---------------------------------------------------------------------------\u001b[0m",
      "\u001b[1;31mTypeError\u001b[0m                                 Traceback (most recent call last)",
      "Cell \u001b[1;32mIn[5], line 19\u001b[0m\n\u001b[0;32m     16\u001b[0m     NumbersInFile(numbers)\n\u001b[0;32m     18\u001b[0m \u001b[38;5;28;01mif\u001b[39;00m \u001b[38;5;18m__name__\u001b[39m \u001b[38;5;241m==\u001b[39m \u001b[38;5;124m'\u001b[39m\u001b[38;5;124m__main__\u001b[39m\u001b[38;5;124m'\u001b[39m:\n\u001b[1;32m---> 19\u001b[0m     main()\n",
      "Cell \u001b[1;32mIn[5], line 16\u001b[0m, in \u001b[0;36mmain\u001b[1;34m()\u001b[0m\n\u001b[0;32m     14\u001b[0m \u001b[38;5;28;01mdef\u001b[39;00m \u001b[38;5;21mmain\u001b[39m():\n\u001b[0;32m     15\u001b[0m     numbers \u001b[38;5;241m=\u001b[39m \u001b[38;5;28minput\u001b[39m(\u001b[38;5;124m'\u001b[39m\u001b[38;5;124menter some numbers: \u001b[39m\u001b[38;5;124m'\u001b[39m)\n\u001b[1;32m---> 16\u001b[0m     NumbersInFile(numbers)\n",
      "\u001b[1;31mTypeError\u001b[0m: NumbersInFile() takes 0 positional arguments but 1 was given"
     ]
    }
   ],
   "source": [
    "def NumbersInFile():\n",
    "    #opeining the file in writing mode\n",
    "    file = open('number.txt', 'w')\n",
    "    #writing the numbers\n",
    "    file.write(numbers)\n",
    "    \n",
    "    #opening the file in reading mode\n",
    "    file = open('numbers.txt', 'r')\n",
    "    #saving it to NumbersInFile\n",
    "    NumbersInFile = file.read()\n",
    "    #displaying the numbers\n",
    "    print(NumbersInFile)\n",
    "    #closing the file\n",
    "    file.close()\n",
    "\n",
    "def main():\n",
    "    #getting the input from user\n",
    "    numbers = input('enter some numbers: ')\n",
    "    NumbersInFile(numbers)\n",
    "    \n",
    "if __name__ == '__main__':\n",
    "    main()"
   ]
  },
  {
   "cell_type": "markdown",
   "id": "c2e2b5d5",
   "metadata": {},
   "source": [
    "After getting a lot of error messages, I realized I was overcomplicating the problem. The problem never states that I need input from the user, and doesn't say I need to write them down in the file. I wanted to try again from scratch with a much simpler code."
   ]
  },
  {
   "cell_type": "code",
   "execution_count": 8,
   "id": "577bfc6e",
   "metadata": {},
   "outputs": [],
   "source": [
    "def main():\n",
    "    #Open the file for reading\n",
    "    with open('numbers.txt', \"r\") as file:\n",
    "        #Read all lines\n",
    "        lines = file.readlines()\n",
    "        #Iterate through each line\n",
    "        for line in lines:\n",
    "            #Convert to integer and print\n",
    "            number = int(line.strip())\n",
    "            print(number)\n",
    "\n",
    "if __name__ == \"__main__\":\n",
    "    main()"
   ]
  },
  {
   "cell_type": "markdown",
   "id": "746674b2",
   "metadata": {},
   "source": [
    "Now, I didnt get an error message. This time, I started by opening numbers.txt for reading, then it reads all the lines, and for each line, it converts the number into an integer. However, the program is not printing the numbers in the file."
   ]
  },
  {
   "cell_type": "code",
   "execution_count": 23,
   "id": "64d53d49",
   "metadata": {},
   "outputs": [
    {
     "name": "stdout",
     "output_type": "stream",
     "text": [
      "['1\\n', '3\\n', '5']\n",
      "1\n",
      "3\n",
      "5\n"
     ]
    }
   ],
   "source": [
    "def main():\n",
    "    #Open the file for reading\n",
    "    with open('numbers.txt', \"r\") as file:\n",
    "        #Read all lines\n",
    "        lines = file.readlines()\n",
    "        print(lines)\n",
    "        #Iterate through each line\n",
    "        for line in lines:\n",
    "            #Convert to integer and print\n",
    "            number = int(line.strip())\n",
    "            print(number)\n",
    "\n",
    "if __name__ == \"__main__\":\n",
    "    main()"
   ]
  },
  {
   "cell_type": "markdown",
   "id": "afdd3e83",
   "metadata": {},
   "source": [
    "I realized after testing the code a lot, my main problem was that I did not save numbers.txt after editing it. after saving, the numbers now print"
   ]
  },
  {
   "cell_type": "code",
   "execution_count": 11,
   "id": "ede295c8",
   "metadata": {},
   "outputs": [
    {
     "name": "stdout",
     "output_type": "stream",
     "text": [
      "['Connor']\n"
     ]
    }
   ],
   "source": [
    "def test():\n",
    "    with open('my_name.txt', 'r') as file:\n",
    "        name = file.readlines()\n",
    "        print(name)\n",
    "\n",
    "if __name__ == \"__main__\":\n",
    "    test()"
   ]
  },
  {
   "cell_type": "code",
   "execution_count": 20,
   "id": "2e9b812f",
   "metadata": {},
   "outputs": [
    {
     "name": "stdout",
     "output_type": "stream",
     "text": [
      "hello\n",
      "['dog\\n', 'cat\\n', 'bird']\n"
     ]
    }
   ],
   "source": [
    "def test():\n",
    "    print('hello')\n",
    "    with open('numbers.txt', 'r') as file:\n",
    "        numbers = file.readlines()\n",
    "        print(numbers)\n",
    "\n",
    "if __name__ == \"__main__\":\n",
    "    test()"
   ]
  },
  {
   "cell_type": "markdown",
   "id": "cef919c2",
   "metadata": {},
   "source": [
    "these two programs were just me testing things out to try to troubleshoot"
   ]
  },
  {
   "cell_type": "markdown",
   "id": "b66ee8a9",
   "metadata": {},
   "source": [
    "### Question 6: Average of Numbers\n",
    "\n",
    "Assume a file containing a series of integers is named numbers.txt and exists on the computer’s disk. Write a program that calculates the average of all the numbers stored in the file."
   ]
  },
  {
   "cell_type": "code",
   "execution_count": 25,
   "id": "6f06e631",
   "metadata": {},
   "outputs": [
    {
     "name": "stdout",
     "output_type": "stream",
     "text": [
      "the average is 3.0\n"
     ]
    }
   ],
   "source": [
    "def main():\n",
    "    #initializing the variables\n",
    "    total = 0\n",
    "    amount = 0\n",
    "    \n",
    "    #opening the file for reading\n",
    "    with open('numbers.txt', 'r') as file:\n",
    "        #iterate through each line\n",
    "        for line in file:\n",
    "            #converting each line to integer\n",
    "            number = int(line.strip())\n",
    "            #adding to the total\n",
    "            total += number\n",
    "            #adding to the amount of numbers\n",
    "            amount += 1\n",
    "    \n",
    "    #calculating the average\n",
    "    if amount > 0:\n",
    "        average = total / amount\n",
    "        print(f'the average is {average}')\n",
    "    else:\n",
    "        print('no numbers in the file')\n",
    "        \n",
    "if __name__ == \"__main__\":\n",
    "    main()"
   ]
  },
  {
   "cell_type": "markdown",
   "id": "6ee41527",
   "metadata": {},
   "source": [
    "the numbers in numbers.txt are 1, 3, and 5, therefore the average is 3. I started by initializing the variables, by setting the total and the amount of numbers 0. Then, I opened the file for reading, and had the program read each line, and convert each number to an integer. I then added all the numbers to the total, and added 3 to the amount of numbers. I then performed the calculations to find the average."
   ]
  },
  {
   "cell_type": "markdown",
   "id": "4251d786",
   "metadata": {},
   "source": [
    "### Question 9: Exception Handling\n",
    "\n",
    "Modify the program that you wrote for Exercise 6 so it handles the following exceptions:\n",
    "\n",
    "• It should handle any IOError exceptions that are raised when the file is opened and data is read from it.\n",
    "\n",
    "• It should handle any ValueError exceptions that are raised when the items that are read from the file are converted to a number.\n"
   ]
  },
  {
   "cell_type": "code",
   "execution_count": 26,
   "id": "414a221b",
   "metadata": {},
   "outputs": [
    {
     "name": "stdout",
     "output_type": "stream",
     "text": [
      "the average is 3.0\n"
     ]
    }
   ],
   "source": [
    "def main():\n",
    "    #initializing the variables\n",
    "    total = 0\n",
    "    amount = 0\n",
    "    \n",
    "    try:\n",
    "        #opening the file for reading\n",
    "        with open('numbers.txt', 'r') as file:\n",
    "            #iterate through each line\n",
    "            for line in file:\n",
    "                try:\n",
    "                    #converting each line to integer\n",
    "                    number = int(line.strip())\n",
    "                    #adding to the total\n",
    "                    total += number\n",
    "                    #adding to the amount of numbers\n",
    "                    amount += 1\n",
    "                except ValueError:\n",
    "                    #when conversion to int fails\n",
    "                    print('Found non-integer value in the file. Skipping.')\n",
    "    except IOError:\n",
    "        #file not found, permission issues, etc\n",
    "        print('Unable to read the file.')\n",
    "    #calculating the average\n",
    "    if amount > 0:\n",
    "        average = total / amount\n",
    "        print(f'the average is {average}')\n",
    "    else:\n",
    "        print('no numbers in the file')\n",
    "        \n",
    "if __name__ == \"__main__\":\n",
    "    main()"
   ]
  },
  {
   "cell_type": "markdown",
   "id": "8507c9db",
   "metadata": {},
   "source": [
    "I used Try and Except for IOErrors and ValueErrors. The outside try/except was for IOErrors which is when the file is not found, of if there are permission issues. the inside try/except was for ValueErrors which is when conversion to integer fails."
   ]
  },
  {
   "cell_type": "markdown",
   "id": "8b56be8e",
   "metadata": {},
   "source": [
    "### Question 10: Golf Scores\n",
    "\n",
    "The Springfork Amateur Golf Club has a tournament every weekend. The club president has asked you to write two programs:\n",
    "\n",
    "1. A program that will read each player’s name and golf score as keyboard input, then save these as records in a file named golf.txt. (Each record will have a field for the player’s name and a field for the player’s score.)\n",
    "\n",
    "2. A program that reads the records from the golf.txt file and displays them."
   ]
  },
  {
   "cell_type": "markdown",
   "id": "a59cdc15",
   "metadata": {},
   "source": [
    "#### Part 1"
   ]
  },
  {
   "cell_type": "code",
   "execution_count": 27,
   "id": "9f5661df",
   "metadata": {},
   "outputs": [
    {
     "name": "stdout",
     "output_type": "stream",
     "text": [
      "Enter the number of players: 2\n",
      "Enter player's name: george\n",
      "Enter player's score: 4\n",
      "Enter player's name: john\n",
      "Enter player's score: 3\n",
      "saved to golf.txt.\n"
     ]
    }
   ],
   "source": [
    "def main():\n",
    "    #open file for writing\n",
    "    with open('golf.txt', 'w') as file:\n",
    "        #get number of players from user\n",
    "        NumberOfPlayers = int(input(\"Enter the number of players: \"))\n",
    "        #input player names and scores and save them to the file\n",
    "        for number in range(NumberOfPlayers):\n",
    "            name = input(\"Enter player's name: \")\n",
    "            score = int(input(\"Enter player's score: \"))\n",
    "            file.write(f'{name},{score}\\n')\n",
    "\n",
    "    print('saved to golf.txt.')\n",
    "\n",
    "if __name__ == \"__main__\":\n",
    "    main()"
   ]
  },
  {
   "cell_type": "markdown",
   "id": "80152b93",
   "metadata": {},
   "source": [
    "I started by opening a file called golf.txt for writing. I then got the amount of players from the user. I then asked the user for names and scores however many times they inputed. I then saved it to a file called golf.txt"
   ]
  },
  {
   "cell_type": "markdown",
   "id": "152c3ef5",
   "metadata": {},
   "source": [
    "#### Part 2"
   ]
  },
  {
   "cell_type": "code",
   "execution_count": 31,
   "id": "7b6ee3ab",
   "metadata": {},
   "outputs": [
    {
     "name": "stdout",
     "output_type": "stream",
     "text": [
      "Player Name\tScore\n",
      "george\t4\n",
      "john\t3\n"
     ]
    }
   ],
   "source": [
    "def main():\n",
    "    try:\n",
    "        # Open the file for reading\n",
    "        with open('golf.txt', 'r') as file:\n",
    "            # Read and display each record\n",
    "            print('Player Name\\tScore')\n",
    "            for line in file:\n",
    "                name, score = line.strip().split(\",\")\n",
    "                print(f'{name}\\t{score}')\n",
    "    except FileNotFoundError:\n",
    "        print(\"Error: File 'golf.txt' not found.\")\n",
    "\n",
    "if __name__ == \"__main__\":\n",
    "    main()"
   ]
  },
  {
   "cell_type": "markdown",
   "id": "3761da7b",
   "metadata": {},
   "source": [
    "I opened the file for reading, and printed player name and score separated by \\t. I then printed the name and score for each player inputted in the previous program. I then added try/except for FileNotFoundError if the file was not found. When the names and scores were printed, I saw that the scores were not separated enough from the names. to change this, I added another \\t"
   ]
  },
  {
   "cell_type": "code",
   "execution_count": 32,
   "id": "4f9c57d8",
   "metadata": {},
   "outputs": [
    {
     "name": "stdout",
     "output_type": "stream",
     "text": [
      "Player Name\tScore\n",
      "george\t\t4\n",
      "john\t\t3\n"
     ]
    }
   ],
   "source": [
    "def main():\n",
    "    try:\n",
    "        # Open the file for reading\n",
    "        with open('golf.txt', 'r') as file:\n",
    "            # Read and display each record\n",
    "            print('Player Name\\tScore')\n",
    "            for line in file:\n",
    "                name, score = line.strip().split(\",\")\n",
    "                print(f'{name}\\t\\t{score}')\n",
    "    except FileNotFoundError:\n",
    "        print(\"Error: File 'golf.txt' not found.\")\n",
    "\n",
    "if __name__ == \"__main__\":\n",
    "    main()"
   ]
  },
  {
   "cell_type": "code",
   "execution_count": null,
   "id": "e7572aa3",
   "metadata": {},
   "outputs": [],
   "source": []
  }
 ],
 "metadata": {
  "kernelspec": {
   "display_name": "Python 3 (ipykernel)",
   "language": "python",
   "name": "python3"
  },
  "language_info": {
   "codemirror_mode": {
    "name": "ipython",
    "version": 3
   },
   "file_extension": ".py",
   "mimetype": "text/x-python",
   "name": "python",
   "nbconvert_exporter": "python",
   "pygments_lexer": "ipython3",
   "version": "3.11.5"
  }
 },
 "nbformat": 4,
 "nbformat_minor": 5
}
