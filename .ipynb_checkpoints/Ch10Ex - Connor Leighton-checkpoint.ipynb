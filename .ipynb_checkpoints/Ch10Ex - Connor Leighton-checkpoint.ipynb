{
 "cells": [
  {
   "cell_type": "markdown",
   "id": "d0763fd5",
   "metadata": {},
   "source": [
    "# Chapter 10 Exercises"
   ]
  },
  {
   "cell_type": "markdown",
   "id": "e0008e22",
   "metadata": {},
   "source": [
    "## Programming Exercises"
   ]
  },
  {
   "cell_type": "markdown",
   "id": "5f682b40",
   "metadata": {},
   "source": [
    "### Question 1: Pet Class\n",
    "\n",
    "Write a class named Pet, which should have the following data attributes:\n",
    "\n",
    "• _ _name (for the name of a pet)\n",
    "\n",
    "• _ _animal_type (for the type of animal that a pet is. Example values are ‘Dog’, ‘Cat’, and ‘Bird’)\n",
    "\n",
    "• _ _age (for the pet’s age)\n",
    "\n",
    "\n",
    "The Pet class should have an _ _init_ _ method that creates these attributes. It should also have the following methods:\n",
    "\n",
    "• set_name\n",
    "\n",
    "This method assigns a value to the _ _name field.\n",
    "\n",
    "• set_animal_type\n",
    "\n",
    "This method assigns a value to the _ _animal_type field.\n",
    "\n",
    "• set_age\n",
    "\n",
    "This method assigns a value to the _ _age field.\n",
    "\n",
    "• get_name\n",
    "\n",
    "This method returns the value of the _ _ name field.\n",
    "\n",
    "• get_animal_type\n",
    "\n",
    "This method returns the value of the _ _animal_type field.\n",
    "\n",
    "• get_age\n",
    "\n",
    "This method returns the value of the _ _age field.\n",
    "\n",
    "\n",
    "Once you have written the class, write a program that creates an object of the class and prompts the user to enter the name, type, and age of his or her pet. This data should be stored as the object’s attributes. Use the object’s accessor methods to retrieve the pet’s name, type, and age and display this data on the screen."
   ]
  },
  {
   "cell_type": "code",
   "execution_count": 2,
   "id": "9258f864",
   "metadata": {},
   "outputs": [
    {
     "name": "stdout",
     "output_type": "stream",
     "text": [
      "enter the name of your pet: John\n",
      "enter the type of your pet: Dog\n",
      "enter the age of your pet: 6\n",
      "\n",
      "Pet's information:\n",
      "name: John\n",
      "animal type: Dog\n",
      "age: 6\n"
     ]
    }
   ],
   "source": [
    "class pet:\n",
    "    def __init__(self):\n",
    "        self.__name = ''\n",
    "        self.__animal_type = ''\n",
    "        self.__age = 0\n",
    "    \n",
    "    def set_name(self, name):\n",
    "        self.__name = name\n",
    "    \n",
    "    def set_animal_type(self, animal_type):\n",
    "        self.__animal_type = animal_type\n",
    "        \n",
    "    def set_age(self, age):\n",
    "        self.__age = age\n",
    "        \n",
    "    def get_name(self):\n",
    "        return self.__name\n",
    "    \n",
    "    def get_animal_type(self):\n",
    "        return self.__animal_type\n",
    "    \n",
    "    def get_age(self):\n",
    "        return self.__age\n",
    "    \n",
    "def main():\n",
    "    my_pet = pet()\n",
    "    \n",
    "    name = input('enter the name of your pet: ')\n",
    "    animal_type = input('enter the type of your pet: ')\n",
    "    age = input('enter the age of your pet: ')\n",
    "    \n",
    "    my_pet.set_name(name)\n",
    "    my_pet.set_animal_type(animal_type)\n",
    "    my_pet.set_age(age)\n",
    "    \n",
    "    print(\"\\nPet's information:\")\n",
    "    print('name:', my_pet.get_name())\n",
    "    print('animal type:', my_pet.get_animal_type())\n",
    "    print('age:', my_pet.get_age())\n",
    "    \n",
    "if __name__ == '__main__':\n",
    "    main()"
   ]
  },
  {
   "cell_type": "code",
   "execution_count": null,
   "id": "617017bd",
   "metadata": {},
   "outputs": [],
   "source": []
  }
 ],
 "metadata": {
  "kernelspec": {
   "display_name": "Python 3 (ipykernel)",
   "language": "python",
   "name": "python3"
  },
  "language_info": {
   "codemirror_mode": {
    "name": "ipython",
    "version": 3
   },
   "file_extension": ".py",
   "mimetype": "text/x-python",
   "name": "python",
   "nbconvert_exporter": "python",
   "pygments_lexer": "ipython3",
   "version": "3.11.5"
  }
 },
 "nbformat": 4,
 "nbformat_minor": 5
}
