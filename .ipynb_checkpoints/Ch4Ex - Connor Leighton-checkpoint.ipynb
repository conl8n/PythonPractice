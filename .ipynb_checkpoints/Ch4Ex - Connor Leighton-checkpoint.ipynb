{
 "cells": [
  {
   "cell_type": "markdown",
   "id": "4368ce53",
   "metadata": {},
   "source": [
    "# Chapter 4 Exercies"
   ]
  },
  {
   "cell_type": "markdown",
   "id": "0c349a12",
   "metadata": {},
   "source": [
    "## Algorithm Workbench"
   ]
  },
  {
   "cell_type": "markdown",
   "id": "c1a61d4a",
   "metadata": {},
   "source": [
    "### Problem 1\n",
    "\n",
    "Write a while loop that lets the user enter a number. The number should be multiplied\n",
    "by 10, and the result assigned to a variable named product. The loop should iterate as\n",
    "long as product is less than 100."
   ]
  },
  {
   "cell_type": "code",
   "execution_count": 1,
   "id": "744b3ca2",
   "metadata": {},
   "outputs": [
    {
     "name": "stdout",
     "output_type": "stream",
     "text": [
      "Please enter a number: 5\n"
     ]
    }
   ],
   "source": [
    "#getting input from user\n",
    "n = int(input('Please enter a number: '))\n",
    "#when the input is less than ten, the program multiplies n by 10\n",
    "while n < 10: n *= n"
   ]
  },
  {
   "cell_type": "markdown",
   "id": "0ed681bd",
   "metadata": {},
   "source": [
    "I made a few mistakes in this program. The first one was making n < 10 rather than n < 100. the second one was i said n *= n rather than n *= 10. I will fix this and add an output"
   ]
  },
  {
   "cell_type": "code",
   "execution_count": 2,
   "id": "e5648eff",
   "metadata": {},
   "outputs": [
    {
     "name": "stdout",
     "output_type": "stream",
     "text": [
      "Please enter a number: 3\n"
     ]
    }
   ],
   "source": [
    "#getting input from user\n",
    "n = int(input('Please enter a number: '))\n",
    "#when the input is less than a hundred, the program multiplies n by 10\n",
    "while n < 100: \n",
    "    n *= 10"
   ]
  },
  {
   "cell_type": "markdown",
   "id": "612b1447",
   "metadata": {},
   "source": [
    "I fixed all the errors in the previous iteration. Now I need to make a print statement for the output"
   ]
  },
  {
   "cell_type": "code",
   "execution_count": 3,
   "id": "95928974",
   "metadata": {},
   "outputs": [
    {
     "name": "stdout",
     "output_type": "stream",
     "text": [
      "Please enter a number: 4\n",
      "your new number is 400\n"
     ]
    }
   ],
   "source": [
    "#getting input from user\n",
    "n = int(input('Please enter a number: '))\n",
    "#when the input is less than a hundred, the program multiplies n by 10\n",
    "while n < 100: \n",
    "    n *= 10\n",
    "#output\n",
    "print(f'your new number is {n}')"
   ]
  },
  {
   "cell_type": "markdown",
   "id": "05e594be",
   "metadata": {},
   "source": [
    "Now the program works. However, I thought of if the number the user inputs is a decimal. I then changed the int to a float"
   ]
  },
  {
   "cell_type": "code",
   "execution_count": 4,
   "id": "731755ab",
   "metadata": {},
   "outputs": [
    {
     "name": "stdout",
     "output_type": "stream",
     "text": [
      "Please enter a number: 7.83\n",
      "your new number is 783.0\n"
     ]
    }
   ],
   "source": [
    "#getting input from user\n",
    "n = float(input('Please enter a number: '))\n",
    "#when the input is less than a hundred, the program multiplies n by 10\n",
    "while n < 100.0: \n",
    "    n *= 10.0\n",
    "#output\n",
    "print(f'your new number is {n}')"
   ]
  },
  {
   "cell_type": "markdown",
   "id": "7851685a",
   "metadata": {},
   "source": [
    "This program now works for float values. Now I just want to test some more numbers"
   ]
  },
  {
   "cell_type": "code",
   "execution_count": 5,
   "id": "0e10eb73",
   "metadata": {},
   "outputs": [
    {
     "name": "stdout",
     "output_type": "stream",
     "text": [
      "Please enter a number: 77.82\n",
      "your new number is 778.1999999999999\n"
     ]
    }
   ],
   "source": [
    "#getting input from user\n",
    "n = float(input('Please enter a number: '))\n",
    "#when the input is less than a hundred, the program multiplies n by 10\n",
    "while n < 100.0: \n",
    "    n *= 10.0\n",
    "#output\n",
    "print(f'your new number is {n}')"
   ]
  },
  {
   "cell_type": "markdown",
   "id": "73fb55ce",
   "metadata": {},
   "source": [
    "I now got the program working for all values."
   ]
  },
  {
   "cell_type": "markdown",
   "id": "555979e2",
   "metadata": {},
   "source": [
    "### Problem 5\n",
    "\n",
    "Write a loop that calculates the total of the following series of numbers:\n",
    "\n",
    "1/30 + 2/29 + 3/28 + ... + 30/1"
   ]
  },
  {
   "cell_type": "code",
   "execution_count": 6,
   "id": "ac3acddc",
   "metadata": {},
   "outputs": [
    {
     "name": "stdout",
     "output_type": "stream",
     "text": [
      "The sum of the following numvers is 93.84460105853213\n"
     ]
    }
   ],
   "source": [
    "#trying to set up numbers and the range\n",
    "total = 0\n",
    "numerator = 1\n",
    "denominator = 30\n",
    "while numerator <= 30 and denominator >= 1:\n",
    "    fraction = numerator/denominator\n",
    "    total += fraction\n",
    "    numerator += 1\n",
    "    denominator -= 1\n",
    "print(f'The sum of the following numvers is {total}')"
   ]
  },
  {
   "cell_type": "code",
   "execution_count": null,
   "id": "1d756cbb",
   "metadata": {},
   "outputs": [],
   "source": []
  }
 ],
 "metadata": {
  "kernelspec": {
   "display_name": "Python 3 (ipykernel)",
   "language": "python",
   "name": "python3"
  },
  "language_info": {
   "codemirror_mode": {
    "name": "ipython",
    "version": 3
   },
   "file_extension": ".py",
   "mimetype": "text/x-python",
   "name": "python",
   "nbconvert_exporter": "python",
   "pygments_lexer": "ipython3",
   "version": "3.11.5"
  }
 },
 "nbformat": 4,
 "nbformat_minor": 5
}
