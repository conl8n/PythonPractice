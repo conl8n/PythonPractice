{
 "cells": [
  {
   "cell_type": "markdown",
   "id": "74a879d5",
   "metadata": {},
   "source": [
    "# Chapter 5 Exercises"
   ]
  },
  {
   "cell_type": "markdown",
   "id": "d05b0f17",
   "metadata": {},
   "source": [
    "## Algorithm Workbench"
   ]
  },
  {
   "cell_type": "markdown",
   "id": "85647cb1",
   "metadata": {},
   "source": [
    "### Question 1\n",
    "\n",
    "Write a function named times_ten. The function should accept an argument and display the product of its argument multiplied times 10."
   ]
  },
  {
   "cell_type": "code",
   "execution_count": 1,
   "id": "c22f38b4",
   "metadata": {},
   "outputs": [
    {
     "ename": "SyntaxError",
     "evalue": "expected ':' (1966247194.py, line 1)",
     "output_type": "error",
     "traceback": [
      "\u001b[1;36m  Cell \u001b[1;32mIn[1], line 1\u001b[1;36m\u001b[0m\n\u001b[1;33m    def times_ten(number)\u001b[0m\n\u001b[1;37m                         ^\u001b[0m\n\u001b[1;31mSyntaxError\u001b[0m\u001b[1;31m:\u001b[0m expected ':'\n"
     ]
    }
   ],
   "source": [
    "def times_ten(number)\n",
    "product = number * 10\n",
    "print(f'your number multiplied by 10 is {product}')"
   ]
  },
  {
   "cell_type": "markdown",
   "id": "1ec9a593",
   "metadata": {},
   "source": [
    "I started out with defining the function times_ten. I then made the variable product = number * 10. Finally, I addded a print statement for the output. When I tried running this code, an error popped up, as I forgot a colon in line one."
   ]
  },
  {
   "cell_type": "code",
   "execution_count": 3,
   "id": "0fb8d149",
   "metadata": {},
   "outputs": [],
   "source": [
    "def times_ten(number):\n",
    "    product = number * 10\n",
    "    print(f'your number multiplied by 10 is {product}')"
   ]
  },
  {
   "cell_type": "markdown",
   "id": "b53a14bc",
   "metadata": {},
   "source": [
    "Now that there are no errors, I want to add where you put in a number"
   ]
  },
  {
   "cell_type": "code",
   "execution_count": 4,
   "id": "ce2919a8",
   "metadata": {},
   "outputs": [
    {
     "name": "stdout",
     "output_type": "stream",
     "text": [
      "your number multiplied by 10 is 70\n"
     ]
    }
   ],
   "source": [
    "times_ten(7)"
   ]
  },
  {
   "cell_type": "code",
   "execution_count": 5,
   "id": "6ee54319",
   "metadata": {},
   "outputs": [
    {
     "name": "stdout",
     "output_type": "stream",
     "text": [
      "your number multiplied by 10 is 82730\n"
     ]
    }
   ],
   "source": [
    "times_ten(8273)"
   ]
  },
  {
   "cell_type": "markdown",
   "id": "4c4315e5",
   "metadata": {},
   "source": [
    "When you type in times_ten(your number), you now should recieve your number multiplied by 10"
   ]
  },
  {
   "cell_type": "markdown",
   "id": "58130443",
   "metadata": {},
   "source": [
    "### Question 6\n",
    "\n",
    "Write a statement that generates a random number in the range of 1 through 100 and assigns it to a variable named rand."
   ]
  },
  {
   "cell_type": "code",
   "execution_count": 6,
   "id": "0bd91063",
   "metadata": {},
   "outputs": [],
   "source": [
    "import random\n",
    "\n",
    "number = random.randint(1, 100)"
   ]
  },
  {
   "cell_type": "markdown",
   "id": "1a8fab58",
   "metadata": {},
   "source": [
    "Reading the textbook, I saw they had a similar question and I followed along with their code. I started with importing the random module, and then assingning the generated number to the variable number."
   ]
  },
  {
   "cell_type": "code",
   "execution_count": 8,
   "id": "977cf01a",
   "metadata": {},
   "outputs": [
    {
     "name": "stdout",
     "output_type": "stream",
     "text": [
      "a random number between 1 and 100 is 28\n"
     ]
    }
   ],
   "source": [
    "import random\n",
    "\n",
    "number = random.randint(1, 100)\n",
    "print(f'a random number between 1 and 100 is {number}')"
   ]
  },
  {
   "cell_type": "markdown",
   "id": "7e9eb8b8",
   "metadata": {},
   "source": [
    "I added a print statement so that we could actually see the number that was generated"
   ]
  },
  {
   "cell_type": "code",
   "execution_count": 9,
   "id": "7498002b",
   "metadata": {},
   "outputs": [
    {
     "name": "stdout",
     "output_type": "stream",
     "text": [
      "a random number between 1 and 100 is 42\n"
     ]
    }
   ],
   "source": [
    "import random\n",
    "\n",
    "rand = random.randint(1, 100)\n",
    "print(f'a random number between 1 and 100 is {rand}')"
   ]
  },
  {
   "cell_type": "markdown",
   "id": "4bc3f719",
   "metadata": {},
   "source": [
    "I just reallized that the question asks me to assign it to a variable named rand, so I changed the variable number to rand."
   ]
  },
  {
   "cell_type": "markdown",
   "id": "4cbd75ec",
   "metadata": {},
   "source": [
    "## Programming Exercises"
   ]
  },
  {
   "cell_type": "markdown",
   "id": "972280d0",
   "metadata": {},
   "source": [
    "### Question 1: Kilometer Converter\n",
    "\n",
    "Write a program that asks the user to enter a distance in kilometers, then converts that distance to miles. The conversion formula is as follows: \n",
    "\n",
    "Miles = Kilometers * 0.6214"
   ]
  },
  {
   "cell_type": "code",
   "execution_count": 10,
   "id": "6202267e",
   "metadata": {},
   "outputs": [],
   "source": [
    "def km_to_miles(km):\n",
    "    return km * 0.06214\n",
    "\n",
    "def main():\n",
    "    km = float(input('Enter the distance in kilometers: '))\n",
    "    miles = km_to_miles(km)\n",
    "    print(f'{km} kilometers is equal to {miles} miles')"
   ]
  },
  {
   "cell_type": "markdown",
   "id": "1a86b45c",
   "metadata": {},
   "source": [
    "I started by defining km_to_miles so it returns in miles. I then asked the user for an input, and set up the print statement. Now, I just need the code to produce an output"
   ]
  },
  {
   "cell_type": "code",
   "execution_count": 11,
   "id": "0756bafe",
   "metadata": {},
   "outputs": [
    {
     "name": "stdout",
     "output_type": "stream",
     "text": [
      "Enter the distance in kilometers: 5\n",
      "5.0 kilometers is equal to 0.3107 miles\n"
     ]
    }
   ],
   "source": [
    "def km_to_miles(km):\n",
    "    return km * 0.06214\n",
    "\n",
    "def main():\n",
    "    km = float(input('Enter the distance in kilometers: '))\n",
    "    miles = km_to_miles(km)\n",
    "    print(f'{km} kilometers is equal to {miles} miles')\n",
    "    \n",
    "if __name__ == '__main__':\n",
    "    main()"
   ]
  },
  {
   "cell_type": "markdown",
   "id": "264eb689",
   "metadata": {},
   "source": [
    "I needed to conditionally execute the main function, so I added the if statement from the textbook to the bottom. I realized the output was not correct however, as I added an extra 0 before the 6214 in the calcualtions"
   ]
  },
  {
   "cell_type": "code",
   "execution_count": 12,
   "id": "fbecaee0",
   "metadata": {},
   "outputs": [
    {
     "name": "stdout",
     "output_type": "stream",
     "text": [
      "Enter the distance in kilometers: 5\n",
      "5.0 kilometers is equal to 3.1069999999999998 miles\n"
     ]
    }
   ],
   "source": [
    "def km_to_miles(km):\n",
    "    return km * 0.6214\n",
    "\n",
    "def main():\n",
    "    km = float(input('Enter the distance in kilometers: '))\n",
    "    miles = km_to_miles(km)\n",
    "    print(f'{km} kilometers is equal to {miles} miles')\n",
    "    \n",
    "if __name__ == '__main__':\n",
    "    main()"
   ]
  },
  {
   "cell_type": "markdown",
   "id": "23ffe27a",
   "metadata": {},
   "source": [
    "### Question 17: Prime Numbers\n",
    "\n",
    "A prime number is a number that is only evenly divisible by itself and 1. For example, the number 5 is prime because it can only be evenly divided by 1 and 5. The number 6, however, is not prime because it can be divided evenly by 1, 2, 3, and 6.\n",
    "\n",
    "\n",
    "Write a Boolean function named is_prime which takes an integer as an argument and returns true if the argument is a prime number, or false otherwise. Use the function in a program that prompts the user to enter a number then displays a message indicating whether the number is prime."
   ]
  },
  {
   "cell_type": "code",
   "execution_count": 14,
   "id": "0b590987",
   "metadata": {},
   "outputs": [
    {
     "ename": "SyntaxError",
     "evalue": "expected ':' (3114938787.py, line 8)",
     "output_type": "error",
     "traceback": [
      "\u001b[1;36m  Cell \u001b[1;32mIn[14], line 8\u001b[1;36m\u001b[0m\n\u001b[1;33m    for a in range(2, int(integer ** 0.5) + 1)\u001b[0m\n\u001b[1;37m                                              ^\u001b[0m\n\u001b[1;31mSyntaxError\u001b[0m\u001b[1;31m:\u001b[0m expected ':'\n"
     ]
    }
   ],
   "source": [
    "def is_prime(integer):\n",
    "    if integer == 1:\n",
    "        return false\n",
    "    #The most simple way i found for finding a prime number and putting it in code is you only need to check up to the square \n",
    "    #root of a number to know if its prime. for example, the number 16 is not prime because we know its divisible by 1, 2, 4, \n",
    "    #8, and 16. we only need to check up to the square root (2 and 4) becuase any number we check above 4 will have a factor \n",
    "    #below 4 (8 and 2)\n",
    "    for a in range(2, int(integer ** 0.5) + 1)\n",
    "        if integer % a == 0:\n",
    "            return false\n",
    "return true\n",
    "\n",
    "def main():\n",
    "    number = int(input('Enter a number: '))\n",
    "    if is_prime(number):\n",
    "        print(f'{number} is a prime number')\n",
    "    else:\n",
    "        print(f'{number} is not a prime number')\n",
    "        \n",
    "if __name__ == \"__main__\":\n",
    "    main()"
   ]
  },
  {
   "cell_type": "markdown",
   "id": "7e1adb79",
   "metadata": {},
   "source": [
    "I started by defining the function is_prime. I made it so if the integer is equal to 1, the function would return false. then, I set a range from 2 and the square root of the number, as explained in the comments above. if the integer was divisible by any number in that range, it would return false, and everything else would return true. I then set up the inputs where if the function was true, it would print out this is a prime number."
   ]
  },
  {
   "cell_type": "code",
   "execution_count": 15,
   "id": "c9a1591a",
   "metadata": {},
   "outputs": [
    {
     "name": "stdout",
     "output_type": "stream",
     "text": [
      "Enter a number: 17\n"
     ]
    },
    {
     "ename": "NameError",
     "evalue": "name 'true' is not defined",
     "output_type": "error",
     "traceback": [
      "\u001b[1;31m---------------------------------------------------------------------------\u001b[0m",
      "\u001b[1;31mNameError\u001b[0m                                 Traceback (most recent call last)",
      "Cell \u001b[1;32mIn[15], line 21\u001b[0m\n\u001b[0;32m     18\u001b[0m         \u001b[38;5;28mprint\u001b[39m(\u001b[38;5;124mf\u001b[39m\u001b[38;5;124m'\u001b[39m\u001b[38;5;132;01m{\u001b[39;00mnumber\u001b[38;5;132;01m}\u001b[39;00m\u001b[38;5;124m is not a prime number\u001b[39m\u001b[38;5;124m'\u001b[39m)\n\u001b[0;32m     20\u001b[0m \u001b[38;5;28;01mif\u001b[39;00m \u001b[38;5;18m__name__\u001b[39m \u001b[38;5;241m==\u001b[39m \u001b[38;5;124m\"\u001b[39m\u001b[38;5;124m__main__\u001b[39m\u001b[38;5;124m\"\u001b[39m:\n\u001b[1;32m---> 21\u001b[0m     main()\n",
      "Cell \u001b[1;32mIn[15], line 15\u001b[0m, in \u001b[0;36mmain\u001b[1;34m()\u001b[0m\n\u001b[0;32m     13\u001b[0m \u001b[38;5;28;01mdef\u001b[39;00m \u001b[38;5;21mmain\u001b[39m():\n\u001b[0;32m     14\u001b[0m     number \u001b[38;5;241m=\u001b[39m \u001b[38;5;28mint\u001b[39m(\u001b[38;5;28minput\u001b[39m(\u001b[38;5;124m'\u001b[39m\u001b[38;5;124mEnter a number: \u001b[39m\u001b[38;5;124m'\u001b[39m))\n\u001b[1;32m---> 15\u001b[0m     \u001b[38;5;28;01mif\u001b[39;00m is_prime(number):\n\u001b[0;32m     16\u001b[0m         \u001b[38;5;28mprint\u001b[39m(\u001b[38;5;124mf\u001b[39m\u001b[38;5;124m'\u001b[39m\u001b[38;5;132;01m{\u001b[39;00mnumber\u001b[38;5;132;01m}\u001b[39;00m\u001b[38;5;124m is a prime number\u001b[39m\u001b[38;5;124m'\u001b[39m)\n\u001b[0;32m     17\u001b[0m     \u001b[38;5;28;01melse\u001b[39;00m:\n",
      "Cell \u001b[1;32mIn[15], line 11\u001b[0m, in \u001b[0;36mis_prime\u001b[1;34m(integer)\u001b[0m\n\u001b[0;32m      9\u001b[0m     \u001b[38;5;28;01mif\u001b[39;00m integer \u001b[38;5;241m%\u001b[39m a \u001b[38;5;241m==\u001b[39m \u001b[38;5;241m0\u001b[39m:\n\u001b[0;32m     10\u001b[0m         \u001b[38;5;28;01mreturn\u001b[39;00m false\n\u001b[1;32m---> 11\u001b[0m \u001b[38;5;28;01mreturn\u001b[39;00m true\n",
      "\u001b[1;31mNameError\u001b[0m: name 'true' is not defined"
     ]
    }
   ],
   "source": [
    "def is_prime(integer):\n",
    "    if integer == 1:\n",
    "        return false\n",
    "    #The most simple way i found for finding a prime number and putting it in code is you only need to check up to the square \n",
    "    #root of a number to know if its prime. for example, the number 16 is not prime because we know its divisible by 1, 2, 4, \n",
    "    #8, and 16. we only need to check up to the square root (2 and 4) becuase any number we check above 4 will have a factor \n",
    "    #below 4 (8 and 2)\n",
    "    for a in range(2, int(integer ** 0.5) + 1):\n",
    "        if integer % a == 0:\n",
    "            return false\n",
    "    return true\n",
    "\n",
    "def main():\n",
    "    number = int(input('Enter a number: '))\n",
    "    if is_prime(number):\n",
    "        print(f'{number} is a prime number')\n",
    "    else:\n",
    "        print(f'{number} is not a prime number')\n",
    "        \n",
    "if __name__ == \"__main__\":\n",
    "    main()"
   ]
  },
  {
   "cell_type": "code",
   "execution_count": 16,
   "id": "c257fa08",
   "metadata": {},
   "outputs": [
    {
     "name": "stdout",
     "output_type": "stream",
     "text": [
      "Enter a number: 16\n"
     ]
    },
    {
     "ename": "NameError",
     "evalue": "name 'false' is not defined",
     "output_type": "error",
     "traceback": [
      "\u001b[1;31m---------------------------------------------------------------------------\u001b[0m",
      "\u001b[1;31mNameError\u001b[0m                                 Traceback (most recent call last)",
      "Cell \u001b[1;32mIn[16], line 21\u001b[0m\n\u001b[0;32m     18\u001b[0m         \u001b[38;5;28mprint\u001b[39m(\u001b[38;5;124mf\u001b[39m\u001b[38;5;124m'\u001b[39m\u001b[38;5;132;01m{\u001b[39;00mnumber\u001b[38;5;132;01m}\u001b[39;00m\u001b[38;5;124m is not a prime number\u001b[39m\u001b[38;5;124m'\u001b[39m)\n\u001b[0;32m     20\u001b[0m \u001b[38;5;28;01mif\u001b[39;00m \u001b[38;5;18m__name__\u001b[39m \u001b[38;5;241m==\u001b[39m \u001b[38;5;124m\"\u001b[39m\u001b[38;5;124m__main__\u001b[39m\u001b[38;5;124m\"\u001b[39m:\n\u001b[1;32m---> 21\u001b[0m     main()\n",
      "Cell \u001b[1;32mIn[16], line 15\u001b[0m, in \u001b[0;36mmain\u001b[1;34m()\u001b[0m\n\u001b[0;32m     13\u001b[0m \u001b[38;5;28;01mdef\u001b[39;00m \u001b[38;5;21mmain\u001b[39m():\n\u001b[0;32m     14\u001b[0m     number \u001b[38;5;241m=\u001b[39m \u001b[38;5;28mint\u001b[39m(\u001b[38;5;28minput\u001b[39m(\u001b[38;5;124m'\u001b[39m\u001b[38;5;124mEnter a number: \u001b[39m\u001b[38;5;124m'\u001b[39m))\n\u001b[1;32m---> 15\u001b[0m     \u001b[38;5;28;01mif\u001b[39;00m is_prime(number):\n\u001b[0;32m     16\u001b[0m         \u001b[38;5;28mprint\u001b[39m(\u001b[38;5;124mf\u001b[39m\u001b[38;5;124m'\u001b[39m\u001b[38;5;132;01m{\u001b[39;00mnumber\u001b[38;5;132;01m}\u001b[39;00m\u001b[38;5;124m is a prime number\u001b[39m\u001b[38;5;124m'\u001b[39m)\n\u001b[0;32m     17\u001b[0m     \u001b[38;5;28;01melse\u001b[39;00m:\n",
      "Cell \u001b[1;32mIn[16], line 10\u001b[0m, in \u001b[0;36mis_prime\u001b[1;34m(integer)\u001b[0m\n\u001b[0;32m      8\u001b[0m \u001b[38;5;28;01mfor\u001b[39;00m a \u001b[38;5;129;01min\u001b[39;00m \u001b[38;5;28mrange\u001b[39m(\u001b[38;5;241m2\u001b[39m, \u001b[38;5;28mint\u001b[39m(integer \u001b[38;5;241m*\u001b[39m\u001b[38;5;241m*\u001b[39m \u001b[38;5;241m0.5\u001b[39m) \u001b[38;5;241m+\u001b[39m \u001b[38;5;241m1\u001b[39m):\n\u001b[0;32m      9\u001b[0m     \u001b[38;5;28;01mif\u001b[39;00m integer \u001b[38;5;241m%\u001b[39m a \u001b[38;5;241m==\u001b[39m \u001b[38;5;241m0\u001b[39m:\n\u001b[1;32m---> 10\u001b[0m         \u001b[38;5;28;01mreturn\u001b[39;00m false\n\u001b[0;32m     11\u001b[0m \u001b[38;5;28;01mreturn\u001b[39;00m true\n",
      "\u001b[1;31mNameError\u001b[0m: name 'false' is not defined"
     ]
    }
   ],
   "source": [
    "def is_prime(integer):\n",
    "    if integer == 1:\n",
    "        return false\n",
    "    #The most simple way i found for finding a prime number and putting it in code is you only need to check up to the square \n",
    "    #root of a number to know if its prime. for example, the number 16 is not prime because we know its divisible by 1, 2, 4, \n",
    "    #8, and 16. we only need to check up to the square root (2 and 4) becuase any number we check above 4 will have a factor \n",
    "    #below 4 (8 and 2)\n",
    "    for a in range(2, int(integer ** 0.5) + 1):\n",
    "        if integer % a == 0:\n",
    "            return false\n",
    "    return true\n",
    "\n",
    "def main():\n",
    "    number = int(input('Enter a number: '))\n",
    "    if is_prime(number):\n",
    "        print(f'{number} is a prime number')\n",
    "    else:\n",
    "        print(f'{number} is not a prime number')\n",
    "        \n",
    "if __name__ == \"__main__\":\n",
    "    main()"
   ]
  },
  {
   "cell_type": "markdown",
   "id": "bbc0c39f",
   "metadata": {},
   "source": [
    "so I tried 2 numbers and found that true and false were not defined. I then realized true and false need to be capitalized"
   ]
  },
  {
   "cell_type": "code",
   "execution_count": 17,
   "id": "6be999b5",
   "metadata": {
    "scrolled": true
   },
   "outputs": [
    {
     "name": "stdout",
     "output_type": "stream",
     "text": [
      "Enter a number: 16\n",
      "16 is not a prime number\n"
     ]
    }
   ],
   "source": [
    "def is_prime(integer):\n",
    "    if integer == 1:\n",
    "        return False\n",
    "    #The most simple way i found for finding a prime number and putting it in code is you only need to check up to the square \n",
    "    #root of a number to know if its prime. for example, the number 16 is not prime because we know its divisible by 1, 2, 4, \n",
    "    #8, and 16. we only need to check up to the square root (2 and 4) becuase any number we check above 4 will have a factor \n",
    "    #below 4 (8 and 2)\n",
    "    for a in range(2, int(integer ** 0.5) + 1):\n",
    "        if integer % a == 0:\n",
    "            return False\n",
    "    return True\n",
    "\n",
    "def main():\n",
    "    number = int(input('Enter a number: '))\n",
    "    if is_prime(number):\n",
    "        print(f'{number} is a prime number')\n",
    "    else:\n",
    "        print(f'{number} is not a prime number')\n",
    "        \n",
    "if __name__ == \"__main__\":\n",
    "    main()"
   ]
  },
  {
   "cell_type": "code",
   "execution_count": 18,
   "id": "d12ee136",
   "metadata": {},
   "outputs": [
    {
     "name": "stdout",
     "output_type": "stream",
     "text": [
      "Enter a number: 17\n",
      "17 is a prime number\n"
     ]
    }
   ],
   "source": [
    "def is_prime(integer):\n",
    "    if integer == 1:\n",
    "        return False\n",
    "    #The most simple way i found for finding a prime number and putting it in code is you only need to check up to the square \n",
    "    #root of a number to know if its prime. for example, the number 16 is not prime because we know its divisible by 1, 2, 4, \n",
    "    #8, and 16. we only need to check up to the square root (2 and 4) becuase any number we check above 4 will have a factor \n",
    "    #below 4 (8 and 2)\n",
    "    for a in range(2, int(integer ** 0.5) + 1):\n",
    "        if integer % a == 0:\n",
    "            return False\n",
    "    return True\n",
    "\n",
    "def main():\n",
    "    number = int(input('Enter a number: '))\n",
    "    if is_prime(number):\n",
    "        print(f'{number} is a prime number')\n",
    "    else:\n",
    "        print(f'{number} is not a prime number')\n",
    "        \n",
    "if __name__ == \"__main__\":\n",
    "    main()"
   ]
  },
  {
   "cell_type": "code",
   "execution_count": 19,
   "id": "e300fbcc",
   "metadata": {},
   "outputs": [
    {
     "name": "stdout",
     "output_type": "stream",
     "text": [
      "Enter a number: 137\n",
      "137 is a prime number\n"
     ]
    }
   ],
   "source": [
    "def is_prime(integer):\n",
    "    if integer == 1:\n",
    "        return False\n",
    "    #The most simple way i found for finding a prime number and putting it in code is you only need to check up to the square \n",
    "    #root of a number to know if its prime. for example, the number 16 is not prime because we know its divisible by 1, 2, 4, \n",
    "    #8, and 16. we only need to check up to the square root (2 and 4) becuase any number we check above 4 will have a factor \n",
    "    #below 4 (8 and 2)\n",
    "    for a in range(2, int(integer ** 0.5) + 1):\n",
    "        if integer % a == 0:\n",
    "            return False\n",
    "    return True\n",
    "\n",
    "def main():\n",
    "    number = int(input('Enter a number: '))\n",
    "    if is_prime(number):\n",
    "        print(f'{number} is a prime number')\n",
    "    else:\n",
    "        print(f'{number} is not a prime number')\n",
    "        \n",
    "if __name__ == \"__main__\":\n",
    "    main()"
   ]
  },
  {
   "cell_type": "markdown",
   "id": "5bfec3c9",
   "metadata": {},
   "source": [
    "### Question 18: Prime Number List\n",
    "\n",
    "This exercise assumes that you have already written the is_prime function in Programming Exercise 17. Write another program that displays all of the prime numbers from 1 to 100. The program should have a loop that calls the is_prime function."
   ]
  },
  {
   "cell_type": "code",
   "execution_count": 21,
   "id": "ece9d158",
   "metadata": {},
   "outputs": [
    {
     "name": "stdout",
     "output_type": "stream",
     "text": [
      "Enter a number: 17\n",
      "17 is a prime number\n"
     ]
    }
   ],
   "source": [
    "def is_prime(integer):\n",
    "    if integer == 1:\n",
    "        return False\n",
    "    for a in range(2, int(integer ** 0.5) + 1):\n",
    "        if integer % a == 0:\n",
    "            return False\n",
    "    return True\n",
    "\n",
    "def display_primes():\n",
    "    print(\"Prime numbers from 1 to 100: \")\n",
    "    for number in range(1, 101):\n",
    "        if is_prime(number):\n",
    "            print(number)\n",
    "            \n",
    "if __name__ == \"__main__\":\n",
    "    main()"
   ]
  },
  {
   "cell_type": "markdown",
   "id": "ef24c025",
   "metadata": {},
   "source": [
    "I thought writing this code would be easy as it should be very similar to the previous one. However, It still asks me to enter a number, because of the main function. I then realized I just copy and pasted the last two lines from my previous code, and it still says main() instead of display_primes()"
   ]
  },
  {
   "cell_type": "code",
   "execution_count": 22,
   "id": "bbd053c1",
   "metadata": {},
   "outputs": [
    {
     "name": "stdout",
     "output_type": "stream",
     "text": [
      "Prime numbers from 1 to 100: \n",
      "2\n",
      "3\n",
      "5\n",
      "7\n",
      "11\n",
      "13\n",
      "17\n",
      "19\n",
      "23\n",
      "29\n",
      "31\n",
      "37\n",
      "41\n",
      "43\n",
      "47\n",
      "53\n",
      "59\n",
      "61\n",
      "67\n",
      "71\n",
      "73\n",
      "79\n",
      "83\n",
      "89\n",
      "97\n"
     ]
    }
   ],
   "source": [
    "def is_prime(integer):\n",
    "    if integer == 1:\n",
    "        return False\n",
    "    for a in range(2, int(integer ** 0.5) + 1):\n",
    "        if integer % a == 0:\n",
    "            return False\n",
    "    return True\n",
    "\n",
    "def display_primes():\n",
    "    print(\"Prime numbers from 1 to 100: \")\n",
    "    for number in range(1, 101):\n",
    "        if is_prime(number):\n",
    "            print(number)\n",
    "            \n",
    "if __name__ == \"__main__\":\n",
    "    display_primes()"
   ]
  },
  {
   "cell_type": "markdown",
   "id": "fad0bdf9",
   "metadata": {},
   "source": [
    "### Question 21: Rock, Paper, Scissors Game\n",
    "\n",
    "Write a program that lets the user play the game of Rock, Paper, Scissors against the computer. The program should work as follows:\n",
    "\n",
    "\n",
    "1. When the program begins, a random number in the range of 1 through 3 is generated. If the number is 1, then the computer has chosen rock. If the number is 2, then the computer has chosen paper. If the number is 3, then the computer has chosen scissors (Don’t display the computer’s choice yet.)\n",
    "\n",
    "\n",
    "2. The user enters his or her choice of “rock,” “paper,” or “scissors” at the keyboard.\n",
    "\n",
    "\n",
    "3. The computer’s choice is displayed.\n",
    "\n",
    "\n",
    "4. A winner is selected according to the following rules:\n",
    "\n",
    "    • If one player chooses rock and the other player chooses scissors, then rock wins. (Rock smashes scissors.)\n",
    "    \n",
    "    • If one player chooses scissors and the other player chooses paper, then scissors wins. (Scissors cuts paper.)\n",
    "\n",
    "    • If one player chooses paper and the other player chooses rock, then paper wins. (Paper wraps rock.)    \n",
    "    \n",
    "    • If both players make the same choice, the game must be played again to determine the winner."
   ]
  },
  {
   "cell_type": "code",
   "execution_count": 23,
   "id": "fae002c0",
   "metadata": {},
   "outputs": [
    {
     "ename": "SyntaxError",
     "evalue": "expected ':' (120500810.py, line 1)",
     "output_type": "error",
     "traceback": [
      "\u001b[1;36m  Cell \u001b[1;32mIn[23], line 1\u001b[1;36m\u001b[0m\n\u001b[1;33m    def get_computer_choice()\u001b[0m\n\u001b[1;37m                             ^\u001b[0m\n\u001b[1;31mSyntaxError\u001b[0m\u001b[1;31m:\u001b[0m expected ':'\n"
     ]
    }
   ],
   "source": [
    "def get_computer_choice()\n",
    "    return random.choice(['rock', 'paper', 'scissors'])\n",
    "\n",
    "def determine_winner(user_choice, computer_choice):\n",
    "    if user_choice == computer_choice:\n",
    "        return 'It is a tie'\n",
    "    elif (user_choice == \"rock\" and computer_choice == \"scissors\") or \\\n",
    "         (user_choice == \"scissors\" and computer_choice == \"paper\") or \\\n",
    "         (user_choice == \"paper\" and computer_choice == \"rock\"):\n",
    "        return 'You win'\n",
    "    else:\n",
    "        return 'Computer wins'\n",
    "\n",
    "def main():\n",
    "    user_choice = input('Enter your choice (rock, paper, scissors): ')\n",
    "    \n",
    "    computer_choice = get_computer_choice()\n",
    "    \n",
    "    print(\"Computer's choice:\", computer_choice)\n",
    "    \n",
    "    winner = determine_winner(user_choice, computer_choice)\n",
    "    print(winner)\n",
    "\n",
    "if __name__ == \"__main__\":\n",
    "    main()"
   ]
  },
  {
   "cell_type": "markdown",
   "id": "3799f191",
   "metadata": {},
   "source": [
    "I started by defining the computer choice by giving it the 3 options. Then, to determine the winner, I made it return as a tie if it was a tie, return as a win if the user won, and return as a loss for anything else. then, I added the input, which would be user choice, and the computer choice, to print the winner. I recieved an error message as I forgot the colon in the first line"
   ]
  },
  {
   "cell_type": "code",
   "execution_count": 25,
   "id": "ae69cd5a",
   "metadata": {},
   "outputs": [
    {
     "name": "stdout",
     "output_type": "stream",
     "text": [
      "Enter your choice (rock, paper, scissors): rock\n",
      "Computer's choice: rock\n",
      "It is a tie\n"
     ]
    }
   ],
   "source": [
    "def get_computer_choice():\n",
    "    return random.choice(['rock', 'paper', 'scissors'])\n",
    "\n",
    "def determine_winner(user_choice, computer_choice):\n",
    "    if user_choice == computer_choice:\n",
    "        return 'It is a tie'\n",
    "    elif (user_choice == \"rock\" and computer_choice == \"scissors\") or \\\n",
    "         (user_choice == \"scissors\" and computer_choice == \"paper\") or \\\n",
    "         (user_choice == \"paper\" and computer_choice == \"rock\"):\n",
    "        return 'You win'\n",
    "    else:\n",
    "        return 'Computer wins'\n",
    "\n",
    "def main():\n",
    "    user_choice = input('Enter your choice (rock, paper, scissors): ')\n",
    "    \n",
    "    computer_choice = get_computer_choice()\n",
    "    \n",
    "    print(\"Computer's choice:\", computer_choice)\n",
    "    \n",
    "    winner = determine_winner(user_choice, computer_choice)\n",
    "    print(winner)\n",
    "\n",
    "if __name__ == \"__main__\":\n",
    "    main()"
   ]
  },
  {
   "cell_type": "code",
   "execution_count": 26,
   "id": "5e67cd64",
   "metadata": {},
   "outputs": [
    {
     "name": "stdout",
     "output_type": "stream",
     "text": [
      "Enter your choice (rock, paper, scissors): paper\n",
      "Computer's choice: scissors\n",
      "Computer wins\n"
     ]
    }
   ],
   "source": [
    "def get_computer_choice():\n",
    "    return random.choice(['rock', 'paper', 'scissors'])\n",
    "\n",
    "def determine_winner(user_choice, computer_choice):\n",
    "    if user_choice == computer_choice:\n",
    "        return 'It is a tie'\n",
    "    elif (user_choice == \"rock\" and computer_choice == \"scissors\") or \\\n",
    "         (user_choice == \"scissors\" and computer_choice == \"paper\") or \\\n",
    "         (user_choice == \"paper\" and computer_choice == \"rock\"):\n",
    "        return 'You win'\n",
    "    else:\n",
    "        return 'Computer wins'\n",
    "\n",
    "def main():\n",
    "    user_choice = input('Enter your choice (rock, paper, scissors): ')\n",
    "    \n",
    "    computer_choice = get_computer_choice()\n",
    "    \n",
    "    print(\"Computer's choice:\", computer_choice)\n",
    "    \n",
    "    winner = determine_winner(user_choice, computer_choice)\n",
    "    print(winner)\n",
    "\n",
    "if __name__ == \"__main__\":\n",
    "    main()"
   ]
  },
  {
   "cell_type": "code",
   "execution_count": 27,
   "id": "be529afc",
   "metadata": {},
   "outputs": [
    {
     "name": "stdout",
     "output_type": "stream",
     "text": [
      "Enter your choice (rock, paper, scissors): scissors\n",
      "Computer's choice: paper\n",
      "You win\n"
     ]
    }
   ],
   "source": [
    "def get_computer_choice():\n",
    "    return random.choice(['rock', 'paper', 'scissors'])\n",
    "\n",
    "def determine_winner(user_choice, computer_choice):\n",
    "    if user_choice == computer_choice:\n",
    "        return 'It is a tie'\n",
    "    elif (user_choice == \"rock\" and computer_choice == \"scissors\") or \\\n",
    "         (user_choice == \"scissors\" and computer_choice == \"paper\") or \\\n",
    "         (user_choice == \"paper\" and computer_choice == \"rock\"):\n",
    "        return 'You win'\n",
    "    else:\n",
    "        return 'Computer wins'\n",
    "\n",
    "def main():\n",
    "    user_choice = input('Enter your choice (rock, paper, scissors): ')\n",
    "    \n",
    "    computer_choice = get_computer_choice()\n",
    "    \n",
    "    print(\"Computer's choice:\", computer_choice)\n",
    "    \n",
    "    winner = determine_winner(user_choice, computer_choice)\n",
    "    print(winner)\n",
    "\n",
    "if __name__ == \"__main__\":\n",
    "    main()"
   ]
  },
  {
   "cell_type": "code",
   "execution_count": null,
   "id": "14c3ca52",
   "metadata": {},
   "outputs": [],
   "source": []
  }
 ],
 "metadata": {
  "kernelspec": {
   "display_name": "Python 3 (ipykernel)",
   "language": "python",
   "name": "python3"
  },
  "language_info": {
   "codemirror_mode": {
    "name": "ipython",
    "version": 3
   },
   "file_extension": ".py",
   "mimetype": "text/x-python",
   "name": "python",
   "nbconvert_exporter": "python",
   "pygments_lexer": "ipython3",
   "version": "3.11.5"
  }
 },
 "nbformat": 4,
 "nbformat_minor": 5
}
