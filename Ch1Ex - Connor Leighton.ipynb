{
 "cells": [
  {
   "cell_type": "markdown",
   "id": "0e07dd98",
   "metadata": {},
   "source": [
    "# Chapter 1 exercises\n",
    "Problems 1, 3, 4"
   ]
  },
  {
   "cell_type": "markdown",
   "id": "f536cd34",
   "metadata": {},
   "source": [
    "## Exercise 1\n",
    "\n",
    "The textbook asks us to use the python print statement with this particular string"
   ]
  },
  {
   "cell_type": "code",
   "execution_count": 10,
   "id": "063e95a7",
   "metadata": {},
   "outputs": [
    {
     "name": "stdout",
     "output_type": "stream",
     "text": [
      "This is a test of the Python interpreter.\n"
     ]
    }
   ],
   "source": [
    "# demonstrating the print function\n",
    "print('This is a test of the Python interpreter.')"
   ]
  },
  {
   "cell_type": "code",
   "execution_count": 11,
   "id": "80f7ac5a",
   "metadata": {},
   "outputs": [
    {
     "name": "stdout",
     "output_type": "stream",
     "text": [
      "Connor\n"
     ]
    }
   ],
   "source": [
    "# trying other words\n",
    "print('Connor')"
   ]
  },
  {
   "cell_type": "code",
   "execution_count": 13,
   "id": "2a764692",
   "metadata": {},
   "outputs": [
    {
     "name": "stdout",
     "output_type": "stream",
     "text": [
      "This might work: 9\n"
     ]
    }
   ],
   "source": [
    "# trying a comma to separate\n",
    "print('This might work:' , 9)"
   ]
  },
  {
   "cell_type": "code",
   "execution_count": 12,
   "id": "d625abac",
   "metadata": {},
   "outputs": [
    {
     "name": "stdout",
     "output_type": "stream",
     "text": [
      "This might work: 8\n"
     ]
    }
   ],
   "source": [
    "# putting quotes around the number to get the same result\n",
    "print('This might work:' , '8')"
   ]
  },
  {
   "cell_type": "code",
   "execution_count": 14,
   "id": "b89fc67b",
   "metadata": {},
   "outputs": [
    {
     "name": "stdout",
     "output_type": "stream",
     "text": [
      "testanother test\n"
     ]
    }
   ],
   "source": [
    "# trying without a comma and using words\n",
    "print('test' 'another test')"
   ]
  },
  {
   "cell_type": "code",
   "execution_count": 15,
   "id": "9727dd20",
   "metadata": {},
   "outputs": [
    {
     "name": "stdout",
     "output_type": "stream",
     "text": [
      "test another test\n"
     ]
    }
   ],
   "source": [
    "# separating with the comma\n",
    "print('test' , 'another test')"
   ]
  },
  {
   "cell_type": "code",
   "execution_count": 16,
   "id": "50cbe86d",
   "metadata": {},
   "outputs": [
    {
     "ename": "NameError",
     "evalue": "name 'test' is not defined",
     "output_type": "error",
     "traceback": [
      "\u001b[1;31m---------------------------------------------------------------------------\u001b[0m",
      "\u001b[1;31mNameError\u001b[0m                                 Traceback (most recent call last)",
      "Cell \u001b[1;32mIn[16], line 2\u001b[0m\n\u001b[0;32m      1\u001b[0m \u001b[38;5;66;03m# trying not using quotes for \"test\"\u001b[39;00m\n\u001b[1;32m----> 2\u001b[0m \u001b[38;5;28mprint\u001b[39m(\u001b[38;5;124m'\u001b[39m\u001b[38;5;124manother test\u001b[39m\u001b[38;5;124m'\u001b[39m , test)\n",
      "\u001b[1;31mNameError\u001b[0m: name 'test' is not defined"
     ]
    }
   ],
   "source": [
    "# trying not using quotes for \"test\"\n",
    "print('another test' , test)"
   ]
  },
  {
   "cell_type": "code",
   "execution_count": 17,
   "id": "65661eb8",
   "metadata": {},
   "outputs": [
    {
     "name": "stdout",
     "output_type": "stream",
     "text": [
      "test 89\n"
     ]
    }
   ],
   "source": [
    "# using double digits instead of single digits\n",
    "print('test' , 89)"
   ]
  },
  {
   "cell_type": "code",
   "execution_count": 18,
   "id": "6f8636f4",
   "metadata": {},
   "outputs": [
    {
     "name": "stdout",
     "output_type": "stream",
     "text": [
      "test 17\n"
     ]
    }
   ],
   "source": [
    "# implementing math\n",
    "print('test' , 8+9)"
   ]
  },
  {
   "cell_type": "code",
   "execution_count": 19,
   "id": "e6b43cc2",
   "metadata": {},
   "outputs": [
    {
     "name": "stdout",
     "output_type": "stream",
     "text": [
      "math 14\n"
     ]
    }
   ],
   "source": [
    "# trying differnt kinds of math\n",
    "print('math' , 2*4+6)"
   ]
  },
  {
   "cell_type": "markdown",
   "id": "1a91cfda",
   "metadata": {},
   "source": [
    "## Exercise 3\n",
    "\n",
    "The textbook asks us to convert the following decimal numbers to binary"
   ]
  },
  {
   "cell_type": "markdown",
   "id": "676bd5df",
   "metadata": {},
   "source": [
    "convert 11 to binary:\n",
    "1011"
   ]
  },
  {
   "cell_type": "markdown",
   "id": "57083763",
   "metadata": {},
   "source": [
    "convert 65 to binary:\n",
    "1000001"
   ]
  },
  {
   "cell_type": "markdown",
   "id": "09be0e67",
   "metadata": {},
   "source": [
    "convert 100 to binary:\n",
    "1100100"
   ]
  },
  {
   "cell_type": "markdown",
   "id": "e6ab8326",
   "metadata": {},
   "source": [
    "convert 255 to binary:\n",
    "11111111"
   ]
  },
  {
   "cell_type": "markdown",
   "id": "2d037ef5",
   "metadata": {},
   "source": [
    "## Exercise 4\n",
    "\n",
    "The textbook asks us to convert the following binary numbers to decimal"
   ]
  },
  {
   "cell_type": "markdown",
   "id": "492bde43",
   "metadata": {},
   "source": [
    "convert 1101 to decimal:\n",
    "13"
   ]
  },
  {
   "cell_type": "markdown",
   "id": "1c10e5bb",
   "metadata": {},
   "source": [
    "convert 1000 to decimal: 8"
   ]
  },
  {
   "cell_type": "markdown",
   "id": "109f5d6e",
   "metadata": {},
   "source": [
    "convert 101011 to decimal: 43"
   ]
  }
 ],
 "metadata": {
  "kernelspec": {
   "display_name": "Python 3 (ipykernel)",
   "language": "python",
   "name": "python3"
  },
  "language_info": {
   "codemirror_mode": {
    "name": "ipython",
    "version": 3
   },
   "file_extension": ".py",
   "mimetype": "text/x-python",
   "name": "python",
   "nbconvert_exporter": "python",
   "pygments_lexer": "ipython3",
   "version": "3.11.5"
  }
 },
 "nbformat": 4,
 "nbformat_minor": 5
}
