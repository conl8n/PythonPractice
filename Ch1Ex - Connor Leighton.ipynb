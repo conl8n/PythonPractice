{
 "cells": [
  {
   "cell_type": "markdown",
   "id": "ff7567ef",
   "metadata": {},
   "source": [
    "# Chapter 1 EX.\n",
    "Problems 1, 3, "
   ]
  },
  {
   "cell_type": "markdown",
   "id": "3becce63",
   "metadata": {},
   "source": [
    "## Ex 1"
   ]
  },
  {
   "cell_type": "code",
   "execution_count": 1,
   "id": "133e67e8",
   "metadata": {},
   "outputs": [
    {
     "name": "stdout",
     "output_type": "stream",
     "text": [
      "This is a test of the Python interpreter.\n"
     ]
    }
   ],
   "source": [
    "print('This is a test of the Python interpreter.')"
   ]
  },
  {
   "cell_type": "code",
   "execution_count": 2,
   "id": "8e2444fd",
   "metadata": {},
   "outputs": [
    {
     "name": "stdout",
     "output_type": "stream",
     "text": [
      "Connor\n"
     ]
    }
   ],
   "source": [
    "print('Connor')"
   ]
  },
  {
   "cell_type": "code",
   "execution_count": 3,
   "id": "345872ae",
   "metadata": {},
   "outputs": [
    {
     "name": "stdout",
     "output_type": "stream",
     "text": [
      "This might work: 9\n"
     ]
    }
   ],
   "source": [
    "print('This might work:' , 9)"
   ]
  },
  {
   "cell_type": "code",
   "execution_count": 4,
   "id": "407f4632",
   "metadata": {},
   "outputs": [
    {
     "name": "stdout",
     "output_type": "stream",
     "text": [
      "This might work: 8\n"
     ]
    }
   ],
   "source": [
    "print('This might work:' , '8')"
   ]
  },
  {
   "cell_type": "code",
   "execution_count": 5,
   "id": "c119dda9",
   "metadata": {},
   "outputs": [
    {
     "name": "stdout",
     "output_type": "stream",
     "text": [
      "testanother test\n"
     ]
    }
   ],
   "source": [
    "print('test' 'another test')"
   ]
  },
  {
   "cell_type": "code",
   "execution_count": 6,
   "id": "d2422038",
   "metadata": {},
   "outputs": [
    {
     "name": "stdout",
     "output_type": "stream",
     "text": [
      "test another test\n"
     ]
    }
   ],
   "source": [
    "print('test' , 'another test')"
   ]
  },
  {
   "cell_type": "code",
   "execution_count": 7,
   "id": "f3919c8e",
   "metadata": {},
   "outputs": [
    {
     "ename": "NameError",
     "evalue": "name 'test' is not defined",
     "output_type": "error",
     "traceback": [
      "\u001b[1;31m---------------------------------------------------------------------------\u001b[0m",
      "\u001b[1;31mNameError\u001b[0m                                 Traceback (most recent call last)",
      "Cell \u001b[1;32mIn[7], line 1\u001b[0m\n\u001b[1;32m----> 1\u001b[0m \u001b[38;5;28mprint\u001b[39m(\u001b[38;5;124m'\u001b[39m\u001b[38;5;124manother test\u001b[39m\u001b[38;5;124m'\u001b[39m , test)\n",
      "\u001b[1;31mNameError\u001b[0m: name 'test' is not defined"
     ]
    }
   ],
   "source": [
    "print('another test' , test)"
   ]
  },
  {
   "cell_type": "code",
   "execution_count": 8,
   "id": "7347c6a0",
   "metadata": {},
   "outputs": [
    {
     "name": "stdout",
     "output_type": "stream",
     "text": [
      "test 89\n"
     ]
    }
   ],
   "source": [
    "print('test' , 89)"
   ]
  },
  {
   "cell_type": "code",
   "execution_count": 9,
   "id": "2bca9256",
   "metadata": {},
   "outputs": [
    {
     "name": "stdout",
     "output_type": "stream",
     "text": [
      "test 17\n"
     ]
    }
   ],
   "source": [
    "print('test' , 8+9)"
   ]
  },
  {
   "cell_type": "markdown",
   "id": "ec248eec",
   "metadata": {},
   "source": [
    "## Ex 3"
   ]
  },
  {
   "cell_type": "markdown",
   "id": "395cf1d7",
   "metadata": {},
   "source": []
  }
 ],
 "metadata": {
  "kernelspec": {
   "display_name": "Python 3 (ipykernel)",
   "language": "python",
   "name": "python3"
  },
  "language_info": {
   "codemirror_mode": {
    "name": "ipython",
    "version": 3
   },
   "file_extension": ".py",
   "mimetype": "text/x-python",
   "name": "python",
   "nbconvert_exporter": "python",
   "pygments_lexer": "ipython3",
   "version": "3.11.5"
  }
 },
 "nbformat": 4,
 "nbformat_minor": 5
}
