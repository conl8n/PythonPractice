{
 "cells": [
  {
   "cell_type": "markdown",
   "id": "fad6d09b",
   "metadata": {},
   "source": [
    "# Chapter 4 Exercies"
   ]
  },
  {
   "cell_type": "markdown",
   "id": "f0244558",
   "metadata": {},
   "source": [
    "## Algorithm Workbench"
   ]
  },
  {
   "cell_type": "markdown",
   "id": "06bb623e",
   "metadata": {},
   "source": [
    "### Problem 1\n",
    "\n",
    "Write a while loop that lets the user enter a number. The number should be multiplied\n",
    "by 10, and the result assigned to a variable named product. The loop should iterate as\n",
    "long as product is less than 100."
   ]
  },
  {
   "cell_type": "code",
   "execution_count": null,
   "id": "2d7c73a5",
   "metadata": {},
   "outputs": [],
   "source": [
    "#getting input from user\n",
    "n = int(input('Please enter a number: '))\n",
    "#when the input is less than ten, the program multiplies n by 10\n",
    "while n < 10:\n",
    "    n *= n\n",
    "    "
   ]
  }
 ],
 "metadata": {
  "kernelspec": {
   "display_name": "Python 3 (ipykernel)",
   "language": "python",
   "name": "python3"
  },
  "language_info": {
   "codemirror_mode": {
    "name": "ipython",
    "version": 3
   },
   "file_extension": ".py",
   "mimetype": "text/x-python",
   "name": "python",
   "nbconvert_exporter": "python",
   "pygments_lexer": "ipython3",
   "version": "3.11.5"
  }
 },
 "nbformat": 4,
 "nbformat_minor": 5
}
