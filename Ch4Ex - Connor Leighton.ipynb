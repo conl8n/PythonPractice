{
 "cells": [
  {
   "cell_type": "markdown",
   "id": "508faff9",
   "metadata": {},
   "source": [
    "# Chapter 4 Exercies"
   ]
  },
  {
   "cell_type": "markdown",
   "id": "e516cf4c",
   "metadata": {},
   "source": [
    "## Algorithm Workbench"
   ]
  },
  {
   "cell_type": "markdown",
   "id": "e838a0f4",
   "metadata": {},
   "source": [
    "### Problem 1\n",
    "\n",
    "Write a while loop that lets the user enter a number. The number should be multiplied\n",
    "by 10, and the result assigned to a variable named product. The loop should iterate as\n",
    "long as product is less than 100."
   ]
  },
  {
   "cell_type": "code",
   "execution_count": 1,
   "id": "f7db5e13",
   "metadata": {},
   "outputs": [
    {
     "name": "stdout",
     "output_type": "stream",
     "text": [
      "Please enter a number: 5\n"
     ]
    }
   ],
   "source": [
    "#getting input from user\n",
    "n = int(input('Please enter a number: '))\n",
    "#when the input is less than ten, the program multiplies n by 10\n",
    "while n < 10: n *= n"
   ]
  },
  {
   "cell_type": "markdown",
   "id": "c391b81c",
   "metadata": {},
   "source": [
    "I made a few mistakes in this program. The first one was making n < 10 rather than n < 100. the second one was i said n *= n rather than n *= 10. I will fix this and add an output"
   ]
  },
  {
   "cell_type": "code",
   "execution_count": 2,
   "id": "d3e13748",
   "metadata": {},
   "outputs": [
    {
     "name": "stdout",
     "output_type": "stream",
     "text": [
      "Please enter a number: 3\n"
     ]
    }
   ],
   "source": [
    "#getting input from user\n",
    "n = int(input('Please enter a number: '))\n",
    "#when the input is less than a hundred, the program multiplies n by 10\n",
    "while n < 100: \n",
    "    n *= 10"
   ]
  },
  {
   "cell_type": "markdown",
   "id": "909f492e",
   "metadata": {},
   "source": [
    "I fixed all the errors in the previous iteration. Now I need to make a print statement for the output"
   ]
  },
  {
   "cell_type": "code",
   "execution_count": 3,
   "id": "e530395e",
   "metadata": {},
   "outputs": [
    {
     "name": "stdout",
     "output_type": "stream",
     "text": [
      "Please enter a number: 4\n",
      "your new number is 400\n"
     ]
    }
   ],
   "source": [
    "#getting input from user\n",
    "n = int(input('Please enter a number: '))\n",
    "#when the input is less than a hundred, the program multiplies n by 10\n",
    "while n < 100: \n",
    "    n *= 10\n",
    "#output\n",
    "print(f'your new number is {n}')"
   ]
  },
  {
   "cell_type": "markdown",
   "id": "6a313abd",
   "metadata": {},
   "source": [
    "Now the program works. However, I thought of if the number the user inputs is a decimal. I then changed the int to a float"
   ]
  },
  {
   "cell_type": "code",
   "execution_count": 4,
   "id": "b2d805bf",
   "metadata": {},
   "outputs": [
    {
     "name": "stdout",
     "output_type": "stream",
     "text": [
      "Please enter a number: 7.83\n",
      "your new number is 783.0\n"
     ]
    }
   ],
   "source": [
    "#getting input from user\n",
    "n = float(input('Please enter a number: '))\n",
    "#when the input is less than a hundred, the program multiplies n by 10\n",
    "while n < 100.0: \n",
    "    n *= 10.0\n",
    "#output\n",
    "print(f'your new number is {n}')"
   ]
  },
  {
   "cell_type": "markdown",
   "id": "ce8752db",
   "metadata": {},
   "source": [
    "This program now works for float values. Now I just want to test some more numbers"
   ]
  },
  {
   "cell_type": "code",
   "execution_count": 5,
   "id": "cbb7e25c",
   "metadata": {},
   "outputs": [
    {
     "name": "stdout",
     "output_type": "stream",
     "text": [
      "Please enter a number: 77.82\n",
      "your new number is 778.1999999999999\n"
     ]
    }
   ],
   "source": [
    "#getting input from user\n",
    "n = float(input('Please enter a number: '))\n",
    "#when the input is less than a hundred, the program multiplies n by 10\n",
    "while n < 100.0: \n",
    "    n *= 10.0\n",
    "#output\n",
    "print(f'your new number is {n}')"
   ]
  },
  {
   "cell_type": "markdown",
   "id": "c5da4f1f",
   "metadata": {},
   "source": [
    "I now got the program working for all values."
   ]
  },
  {
   "cell_type": "markdown",
   "id": "2a902117",
   "metadata": {},
   "source": [
    "### Problem 5\n",
    "\n",
    "Write a loop that calculates the total of the following series of numbers:\n",
    "\n",
    "1/30 + 2/29 + 3/28 + ... + 30/1"
   ]
  },
  {
   "cell_type": "code",
   "execution_count": 7,
   "id": "88b05224",
   "metadata": {},
   "outputs": [
    {
     "name": "stdout",
     "output_type": "stream",
     "text": [
      "The sum of the following numvers is 93.84460105853213\n"
     ]
    }
   ],
   "source": [
    "#setting up initialization\n",
    "total = 0\n",
    "numerator = 1\n",
    "denominator = 30\n",
    "#making the while loop to add each new fraction to the previous total\n",
    "while numerator <= 30 and denominator >= 1:\n",
    "    fraction = numerator/denominator\n",
    "    total += fraction\n",
    "    numerator += 1\n",
    "    denominator -= 1\n",
    "#printing the output\n",
    "print(f'The sum of the following numvers is {total}')"
   ]
  },
  {
   "cell_type": "markdown",
   "id": "79f7389f",
   "metadata": {},
   "source": [
    "I first initialized the values: total, numerator, and denominator. next, I made the while loop, creating the fraction (numerator/denominator), and added each fraction and updated the total. I then increased the numerator by 1 and decreased the denominator by one to get a new fraction for the next iteration. after getting a result, I tested the answer on my calculator by using summation and got the correct result."
   ]
  },
  {
   "cell_type": "markdown",
   "id": "cfd99313",
   "metadata": {},
   "source": [
    "## Programming Exercises"
   ]
  },
  {
   "cell_type": "markdown",
   "id": "4911a5f5",
   "metadata": {},
   "source": [
    "### Question 1: Bug Collector\n",
    "\n",
    "A bug collector collects bugs every day for five days. Write a program that keeps a running total of the number of bugs collected during the five days. The loop should ask for the number of bugs collected for each day, and when the loop is finished, the program should display the total number of bugs collected."
   ]
  },
  {
   "cell_type": "code",
   "execution_count": 8,
   "id": "ea416056",
   "metadata": {},
   "outputs": [
    {
     "ename": "SyntaxError",
     "evalue": "expected ':' (2969604202.py, line 2)",
     "output_type": "error",
     "traceback": [
      "\u001b[1;36m  Cell \u001b[1;32mIn[8], line 2\u001b[1;36m\u001b[0m\n\u001b[1;33m    for days in [1, 2, 3, 4, 5]\u001b[0m\n\u001b[1;37m                               ^\u001b[0m\n\u001b[1;31mSyntaxError\u001b[0m\u001b[1;31m:\u001b[0m expected ':'\n"
     ]
    }
   ],
   "source": [
    "#setting up the range\n",
    "for days in [1, 2, 3, 4, 5]\n",
    "    int(input(f'how many bugs collected on day {days}?: '))"
   ]
  },
  {
   "cell_type": "markdown",
   "id": "ffe32f9b",
   "metadata": {},
   "source": [
    "I forgot to include a colon after the for statement, I need to do that and test if the input works"
   ]
  },
  {
   "cell_type": "code",
   "execution_count": 9,
   "id": "ff3ae957",
   "metadata": {},
   "outputs": [
    {
     "name": "stdout",
     "output_type": "stream",
     "text": [
      "how many bugs collected on day 1?: 5\n",
      "how many bugs collected on day 2?: 3\n",
      "how many bugs collected on day 3?: 6\n",
      "how many bugs collected on day 4?: 4\n",
      "how many bugs collected on day 5?: 1\n"
     ]
    }
   ],
   "source": [
    "#setting up the range\n",
    "for days in [1, 2, 3, 4, 5]:\n",
    "    int(input(f'how many bugs collected on day {days}?: '))"
   ]
  },
  {
   "cell_type": "markdown",
   "id": "9cbbfe97",
   "metadata": {},
   "source": [
    "Now I need to make the output. I first create the variable bugs and set that equal to 0. then, I add on the input to get an updated number for bugs."
   ]
  },
  {
   "cell_type": "code",
   "execution_count": 10,
   "id": "6ef30d56",
   "metadata": {},
   "outputs": [
    {
     "name": "stdout",
     "output_type": "stream",
     "text": [
      "how many bugs collected on day 1?: 3\n",
      "how many bugs collected on day 2?: 4\n",
      "how many bugs collected on day 3?: 2\n",
      "how many bugs collected on day 4?: 5\n",
      "how many bugs collected on day 5?: 6\n",
      "You collected a total of 20 bugs.\n"
     ]
    }
   ],
   "source": [
    "#setting up the bug variable\n",
    "bugs = 0\n",
    "#setting up the range\n",
    "for days in [1, 2, 3, 4, 5]:\n",
    "    bugs += int(input(f'how many bugs collected on day {days}?: '))\n",
    "#printing the output\n",
    "print(f'You collected a total of {bugs} bugs.')"
   ]
  },
  {
   "cell_type": "markdown",
   "id": "1cff6678",
   "metadata": {},
   "source": [
    "Now the output works as 3 + 4 + 2 + 5 + 6 = 20"
   ]
  },
  {
   "cell_type": "markdown",
   "id": "0328fab4",
   "metadata": {},
   "source": [
    "### Question 4: Distance Traveled\n",
    "\n",
    "The distance a vehicle travels can be calculated as follows:\n",
    "distance = speed * time\n",
    "\n",
    "For example, if a train travels 40 miles per hour for three hours, the distance traveled is 120 miles. Write a program that asks the user for the speed of a vehicle (in miles per hour) and the number of hours it has traveled. It should then use a loop to display the distance the vehicle has traveled for each hour of that time period. Here is an example of the desired output:\n",
    "\n",
    "What is the speed of the vehicle in mph? 40 Enter\n",
    "\n",
    "How many hours has it traveled? 3 Enter"
   ]
  },
  {
   "cell_type": "code",
   "execution_count": 11,
   "id": "18de9669",
   "metadata": {},
   "outputs": [
    {
     "name": "stdout",
     "output_type": "stream",
     "text": [
      "What is the speed of the vehicle in mph? 40\n",
      "How many hours has it traveled? 3\n"
     ]
    },
    {
     "ename": "TypeError",
     "evalue": "'float' object cannot be interpreted as an integer",
     "output_type": "error",
     "traceback": [
      "\u001b[1;31m---------------------------------------------------------------------------\u001b[0m",
      "\u001b[1;31mTypeError\u001b[0m                                 Traceback (most recent call last)",
      "Cell \u001b[1;32mIn[11], line 3\u001b[0m\n\u001b[0;32m      1\u001b[0m speed \u001b[38;5;241m=\u001b[39m \u001b[38;5;28mfloat\u001b[39m(\u001b[38;5;28minput\u001b[39m(\u001b[38;5;124m'\u001b[39m\u001b[38;5;124mWhat is the speed of the vehicle in mph? \u001b[39m\u001b[38;5;124m'\u001b[39m))\n\u001b[0;32m      2\u001b[0m time \u001b[38;5;241m=\u001b[39m \u001b[38;5;28mfloat\u001b[39m(\u001b[38;5;28minput\u001b[39m(\u001b[38;5;124m'\u001b[39m\u001b[38;5;124mHow many hours has it traveled? \u001b[39m\u001b[38;5;124m'\u001b[39m))\n\u001b[1;32m----> 3\u001b[0m \u001b[38;5;28;01mfor\u001b[39;00m hours \u001b[38;5;129;01min\u001b[39;00m \u001b[38;5;28mrange\u001b[39m(\u001b[38;5;241m1\u001b[39m, time \u001b[38;5;241m+\u001b[39m \u001b[38;5;241m1\u001b[39m):\n\u001b[0;32m      4\u001b[0m     distance \u001b[38;5;241m=\u001b[39m speed \u001b[38;5;241m*\u001b[39m hour\n\u001b[0;32m      5\u001b[0m     \u001b[38;5;28mprint\u001b[39m(\u001b[38;5;124mf\u001b[39m\u001b[38;5;124m'\u001b[39m\u001b[38;5;124mThe distance traveled at hour \u001b[39m\u001b[38;5;132;01m{\u001b[39;00mhour\u001b[38;5;132;01m}\u001b[39;00m\u001b[38;5;124m was \u001b[39m\u001b[38;5;132;01m{\u001b[39;00mdistance\u001b[38;5;132;01m}\u001b[39;00m\u001b[38;5;124m'\u001b[39m)\n",
      "\u001b[1;31mTypeError\u001b[0m: 'float' object cannot be interpreted as an integer"
     ]
    }
   ],
   "source": [
    "#setting up the speed and time variables\n",
    "speed = float(input('What is the speed of the vehicle in mph? '))\n",
    "time = float(input('How many hours has it traveled? '))\n",
    "#creating for loop for hours in the certain range\n",
    "for hours in range(1, time + 1):\n",
    "    distance = speed * hour\n",
    "    #printing the output\n",
    "    print(f'The distance traveled at hour {hour} was {distance}')"
   ]
  },
  {
   "cell_type": "markdown",
   "id": "7b657bf4",
   "metadata": {},
   "source": [
    "I had to change the float in line 2 to an int, so it could be calculated in the for loop"
   ]
  },
  {
   "cell_type": "code",
   "execution_count": 12,
   "id": "54648802",
   "metadata": {},
   "outputs": [
    {
     "name": "stdout",
     "output_type": "stream",
     "text": [
      "What is the speed of the vehicle in mph? 40\n",
      "How many hours has it traveled? 3\n"
     ]
    },
    {
     "ename": "NameError",
     "evalue": "name 'hour' is not defined",
     "output_type": "error",
     "traceback": [
      "\u001b[1;31m---------------------------------------------------------------------------\u001b[0m",
      "\u001b[1;31mNameError\u001b[0m                                 Traceback (most recent call last)",
      "Cell \u001b[1;32mIn[12], line 6\u001b[0m\n\u001b[0;32m      4\u001b[0m \u001b[38;5;66;03m#creating for loop for hours in the certain range\u001b[39;00m\n\u001b[0;32m      5\u001b[0m \u001b[38;5;28;01mfor\u001b[39;00m hours \u001b[38;5;129;01min\u001b[39;00m \u001b[38;5;28mrange\u001b[39m(\u001b[38;5;241m1\u001b[39m, time \u001b[38;5;241m+\u001b[39m \u001b[38;5;241m1\u001b[39m):\n\u001b[1;32m----> 6\u001b[0m     distance \u001b[38;5;241m=\u001b[39m speed \u001b[38;5;241m*\u001b[39m hour\n\u001b[0;32m      7\u001b[0m     \u001b[38;5;66;03m#printing the output\u001b[39;00m\n\u001b[0;32m      8\u001b[0m     \u001b[38;5;28mprint\u001b[39m(\u001b[38;5;124mf\u001b[39m\u001b[38;5;124m'\u001b[39m\u001b[38;5;124mThe distance traveled at hour \u001b[39m\u001b[38;5;132;01m{\u001b[39;00mhour\u001b[38;5;132;01m}\u001b[39;00m\u001b[38;5;124m was \u001b[39m\u001b[38;5;132;01m{\u001b[39;00mdistance\u001b[38;5;132;01m}\u001b[39;00m\u001b[38;5;124m'\u001b[39m)\n",
      "\u001b[1;31mNameError\u001b[0m: name 'hour' is not defined"
     ]
    }
   ],
   "source": [
    "#setting up the speed and time variables\n",
    "speed = float(input('What is the speed of the vehicle in mph? '))\n",
    "time = int(input('How many hours has it traveled? '))\n",
    "#creating for loop for hours in the certain range\n",
    "for hours in range(1, time + 1):\n",
    "    distance = speed * hour\n",
    "    #printing the output\n",
    "    print(f'The distance traveled at hour {hour} was {distance}')"
   ]
  },
  {
   "cell_type": "markdown",
   "id": "b85faa53",
   "metadata": {},
   "source": [
    "I forgot to make hour plural as it is in the variable. I made both 'hour's plural"
   ]
  },
  {
   "cell_type": "code",
   "execution_count": 14,
   "id": "a7579daa",
   "metadata": {},
   "outputs": [
    {
     "name": "stdout",
     "output_type": "stream",
     "text": [
      "What is the speed of the vehicle in mph? 40\n",
      "How many hours has it traveled? 3\n",
      "The distance traveled at hour 1 was 40.0\n",
      "The distance traveled at hour 2 was 80.0\n",
      "The distance traveled at hour 3 was 120.0\n"
     ]
    }
   ],
   "source": [
    "#setting up the speed and time variables\n",
    "speed = float(input('What is the speed of the vehicle in mph? '))\n",
    "time = int(input('How many hours has it traveled? '))\n",
    "#creating for loop for hours in the certain range\n",
    "for hours in range(1, time + 1):\n",
    "    distance = speed * hours\n",
    "    #printing the output\n",
    "    print(f'The distance traveled at hour {hours} was {distance}')"
   ]
  },
  {
   "cell_type": "markdown",
   "id": "b172304e",
   "metadata": {},
   "source": [
    "This program works for the numbers used in the example, now I want to try other numbers"
   ]
  },
  {
   "cell_type": "code",
   "execution_count": 15,
   "id": "048f4ce7",
   "metadata": {},
   "outputs": [
    {
     "name": "stdout",
     "output_type": "stream",
     "text": [
      "What is the speed of the vehicle in mph? 36\n",
      "How many hours has it traveled? 8\n",
      "The distance traveled at hour 1 was 36.0\n",
      "The distance traveled at hour 2 was 72.0\n",
      "The distance traveled at hour 3 was 108.0\n",
      "The distance traveled at hour 4 was 144.0\n",
      "The distance traveled at hour 5 was 180.0\n",
      "The distance traveled at hour 6 was 216.0\n",
      "The distance traveled at hour 7 was 252.0\n",
      "The distance traveled at hour 8 was 288.0\n"
     ]
    }
   ],
   "source": [
    "#setting up the speed and time variables\n",
    "speed = float(input('What is the speed of the vehicle in mph? '))\n",
    "time = int(input('How many hours has it traveled? '))\n",
    "#creating for loop for hours in the certain range\n",
    "for hours in range(1, time + 1):\n",
    "    distance = speed * hours\n",
    "    #printing the output\n",
    "    print(f'The distance traveled at hour {hours} was {distance}')"
   ]
  },
  {
   "cell_type": "markdown",
   "id": "34d74a4a",
   "metadata": {},
   "source": [
    "now this works for all numbers"
   ]
  },
  {
   "cell_type": "markdown",
   "id": "43f5bd7d",
   "metadata": {},
   "source": [
    "### Question 12: Calculating the Factorial of a Number\n",
    "\n",
    "In mathematics, the notation n! represents the factorial of the nonnegative integer n. The factorial of n is the product of all the nonnegative integers from 1 to n. For example,\n",
    "\n",
    "7! = 1 * 2 * 3 * 4 * 5 * 6 * 7 = 5,040\n",
    "\n",
    "and\n",
    "\n",
    "4! = 1 * 2 * 3 * 4 = 24\n",
    "\n",
    "Write a program that lets the user enter a nonnegative integer then uses a loop to calculate the factorial of that number. Display the factorial."
   ]
  },
  {
   "cell_type": "code",
   "execution_count": 16,
   "id": "87c646c4",
   "metadata": {},
   "outputs": [
    {
     "name": "stdout",
     "output_type": "stream",
     "text": [
      "Enter a nonnegative integer: 4\n",
      "the factorial for 4 is 24\n"
     ]
    }
   ],
   "source": [
    "#getting the input from user\n",
    "number = int(input('Enter a nonnegative integer: '))\n",
    "#setting factorial equal to 1 at first\n",
    "factorial = 1\n",
    "#setting up for loop using the number inputted\n",
    "for integer in range(1, number + 1):\n",
    "    factorial *= integer\n",
    "#printing the output\n",
    "print(f'the factorial for {number} is {factorial}')"
   ]
  },
  {
   "cell_type": "markdown",
   "id": "c28128e4",
   "metadata": {},
   "source": [
    "I set the input as the variable number, and set the variable factorial equal to 1 so I can multiply it. I then set up the for loop using the variable integer as sort of like a place holder so I can multiply it to the variable factorial. I then printed the output."
   ]
  },
  {
   "cell_type": "code",
   "execution_count": 17,
   "id": "7b40ac8e",
   "metadata": {},
   "outputs": [
    {
     "name": "stdout",
     "output_type": "stream",
     "text": [
      "Enter a nonnegative integer: 7\n",
      "the factorial for 7 is 5040\n"
     ]
    }
   ],
   "source": [
    "#getting the input from user\n",
    "number = int(input('Enter a nonnegative integer: '))\n",
    "#setting factorial equal to 1 at first\n",
    "factorial = 1\n",
    "#setting up for loop using the number inputted\n",
    "for integer in range(1, number + 1):\n",
    "    factorial *= integer\n",
    "#printing the output\n",
    "print(f'the factorial for {number} is {factorial}')"
   ]
  },
  {
   "cell_type": "markdown",
   "id": "dba625ed",
   "metadata": {},
   "source": [
    "I wanted to try out a few more numbers to make sure this program works"
   ]
  },
  {
   "cell_type": "code",
   "execution_count": 18,
   "id": "d455176f",
   "metadata": {},
   "outputs": [
    {
     "name": "stdout",
     "output_type": "stream",
     "text": [
      "Enter a nonnegative integer: 0\n",
      "the factorial for 0 is 1\n"
     ]
    }
   ],
   "source": [
    "#getting the input from user\n",
    "number = int(input('Enter a nonnegative integer: '))\n",
    "#setting factorial equal to 1 at first\n",
    "factorial = 1\n",
    "#setting up for loop using the number inputted\n",
    "for integer in range(1, number + 1):\n",
    "    factorial *= integer\n",
    "#printing the output\n",
    "print(f'the factorial for {number} is {factorial}')"
   ]
  },
  {
   "cell_type": "markdown",
   "id": "242c65eb",
   "metadata": {},
   "source": [
    "We know that 0! is 1, but I was curious if the program would know too"
   ]
  },
  {
   "cell_type": "code",
   "execution_count": 19,
   "id": "07cd2d21",
   "metadata": {},
   "outputs": [
    {
     "name": "stdout",
     "output_type": "stream",
     "text": [
      "Enter a nonnegative integer: -3\n",
      "the factorial for -3 is 1\n"
     ]
    }
   ],
   "source": [
    "#getting the input from user\n",
    "number = int(input('Enter a nonnegative integer: '))\n",
    "#setting factorial equal to 1 at first\n",
    "factorial = 1\n",
    "#setting up for loop using the number inputted\n",
    "for integer in range(1, number + 1):\n",
    "    factorial *= integer\n",
    "#printing the output\n",
    "print(f'the factorial for {number} is {factorial}')"
   ]
  },
  {
   "cell_type": "markdown",
   "id": "4d7e54db",
   "metadata": {},
   "source": [
    "I decided to try to mess around a little more, and try a negative number factorial and found it didnt work."
   ]
  },
  {
   "cell_type": "markdown",
   "id": "58d6a117",
   "metadata": {},
   "source": [
    "### Question 14: Write a program that uses nested loops to draw this pattern:\n",
    "\n",
    "-*******\n",
    "\n",
    "-******\n",
    "\n",
    "-*****\n",
    "\n",
    "-****\n",
    "\n",
    "-***\n",
    "\n",
    "-**\n",
    "\n",
    "-*"
   ]
  },
  {
   "cell_type": "code",
   "execution_count": 20,
   "id": "3bed5d6e",
   "metadata": {},
   "outputs": [
    {
     "ename": "SyntaxError",
     "evalue": "expected ':' (3195463181.py, line 6)",
     "output_type": "error",
     "traceback": [
      "\u001b[1;36m  Cell \u001b[1;32mIn[20], line 6\u001b[1;36m\u001b[0m\n\u001b[1;33m    for inner in range(outer)\u001b[0m\n\u001b[1;37m                             ^\u001b[0m\n\u001b[1;31mSyntaxError\u001b[0m\u001b[1;31m:\u001b[0m expected ':'\n"
     ]
    }
   ],
   "source": [
    "#number of rows in the pattern\n",
    "rows = 7\n",
    "#outer for loop\n",
    "for outer in range(rows, 0, -1):\n",
    "    #inner for loop\n",
    "    for inner in range(outer)\n",
    "    print('*')"
   ]
  },
  {
   "cell_type": "markdown",
   "id": "3372e00b",
   "metadata": {},
   "source": [
    "I first set rows equal to 7 as that is how many rows there are. Then, I set up the outer for loop with the range starting with the variable rows, and descending to zero. Then I added a print statement to pring the astrisks"
   ]
  },
  {
   "cell_type": "code",
   "execution_count": 22,
   "id": "1a09087b",
   "metadata": {},
   "outputs": [
    {
     "name": "stdout",
     "output_type": "stream",
     "text": [
      "*\n",
      "*\n",
      "*\n",
      "*\n",
      "*\n",
      "*\n",
      "*\n",
      "*\n",
      "*\n",
      "*\n",
      "*\n",
      "*\n",
      "*\n",
      "*\n",
      "*\n",
      "*\n",
      "*\n",
      "*\n",
      "*\n",
      "*\n",
      "*\n",
      "*\n",
      "*\n",
      "*\n",
      "*\n",
      "*\n",
      "*\n",
      "*\n"
     ]
    }
   ],
   "source": [
    "#number of rows in the pattern\n",
    "rows = 7\n",
    "#outer for loop\n",
    "for outer in range(rows, 0, -1):\n",
    "    #inner for loop\n",
    "    for inner in range(outer):\n",
    "        print('*')"
   ]
  },
  {
   "cell_type": "markdown",
   "id": "0d2a9abc",
   "metadata": {},
   "source": [
    "after correcting the inner for loop, I noticed the * were all verticle and were never in rows. after doing some research, I added \"end=''\" to prevent the default bahavior of creating a new line everytime."
   ]
  },
  {
   "cell_type": "code",
   "execution_count": 23,
   "id": "888fdaec",
   "metadata": {
    "scrolled": false
   },
   "outputs": [
    {
     "name": "stdout",
     "output_type": "stream",
     "text": [
      "****************************"
     ]
    }
   ],
   "source": [
    "#number of rows in the pattern\n",
    "rows = 7\n",
    "#outer for loop\n",
    "for outer in range(rows, 0, -1):\n",
    "    #inner for loop\n",
    "    for inner in range(outer):\n",
    "        print('*', end='')"
   ]
  },
  {
   "cell_type": "markdown",
   "id": "963b38c7",
   "metadata": {},
   "source": [
    "There was a new issue created where ow the * are only in one row. I did some more research and I added print() to the outer for loop to make sure the * appear on the next line after the row's pattern was completed"
   ]
  },
  {
   "cell_type": "code",
   "execution_count": 24,
   "id": "b358320c",
   "metadata": {},
   "outputs": [
    {
     "name": "stdout",
     "output_type": "stream",
     "text": [
      "*******\n",
      "******\n",
      "*****\n",
      "****\n",
      "***\n",
      "**\n",
      "*\n"
     ]
    }
   ],
   "source": [
    "#number of rows in the pattern\n",
    "rows = 7\n",
    "#outer for loop\n",
    "for outer in range(rows, 0, -1):\n",
    "    #inner for loop\n",
    "    for inner in range(outer):\n",
    "        print('*', end='')\n",
    "    #making a new line after the correct amount of *\n",
    "    print()"
   ]
  },
  {
   "cell_type": "markdown",
   "id": "461686fa",
   "metadata": {},
   "source": [
    "now I got 7 rows of astrisks following the descending pattern."
   ]
  },
  {
   "cell_type": "code",
   "execution_count": null,
   "id": "fa18af9a",
   "metadata": {},
   "outputs": [],
   "source": []
  }
 ],
 "metadata": {
  "kernelspec": {
   "display_name": "Python 3 (ipykernel)",
   "language": "python",
   "name": "python3"
  },
  "language_info": {
   "codemirror_mode": {
    "name": "ipython",
    "version": 3
   },
   "file_extension": ".py",
   "mimetype": "text/x-python",
   "name": "python",
   "nbconvert_exporter": "python",
   "pygments_lexer": "ipython3",
   "version": "3.11.5"
  }
 },
 "nbformat": 4,
 "nbformat_minor": 5
}
