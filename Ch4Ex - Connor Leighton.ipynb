{
 "cells": [
  {
   "cell_type": "markdown",
   "id": "c9c39301",
   "metadata": {},
   "source": [
    "# Chapter 4 Exercies"
   ]
  },
  {
   "cell_type": "markdown",
   "id": "490de79c",
   "metadata": {},
   "source": [
    "## Algorithm Workbench"
   ]
  },
  {
   "cell_type": "markdown",
   "id": "531bd8a3",
   "metadata": {},
   "source": [
    "### Problem 1\n",
    "\n",
    "Write a while loop that lets the user enter a number. The number should be multiplied\n",
    "by 10, and the result assigned to a variable named product. The loop should iterate as\n",
    "long as product is less than 100."
   ]
  },
  {
   "cell_type": "code",
   "execution_count": 1,
   "id": "85388bc5",
   "metadata": {},
   "outputs": [
    {
     "name": "stdout",
     "output_type": "stream",
     "text": [
      "Please enter a number: 5\n"
     ]
    }
   ],
   "source": [
    "#getting input from user\n",
    "n = int(input('Please enter a number: '))\n",
    "#when the input is less than ten, the program multiplies n by 10\n",
    "while n < 10: n *= n"
   ]
  },
  {
   "cell_type": "markdown",
   "id": "5df4c1a5",
   "metadata": {},
   "source": [
    "I made a few mistakes in this program. The first one was making n < 10 rather than n < 100. the second one was i said n *= n rather than n *= 10. I will fix this and add an output"
   ]
  },
  {
   "cell_type": "code",
   "execution_count": 2,
   "id": "28a25eed",
   "metadata": {},
   "outputs": [
    {
     "name": "stdout",
     "output_type": "stream",
     "text": [
      "Please enter a number: 3\n"
     ]
    }
   ],
   "source": [
    "#getting input from user\n",
    "n = int(input('Please enter a number: '))\n",
    "#when the input is less than a hundred, the program multiplies n by 10\n",
    "while n < 100: \n",
    "    n *= 10"
   ]
  },
  {
   "cell_type": "markdown",
   "id": "ba951575",
   "metadata": {},
   "source": [
    "I fixed all the errors in the previous iteration. Now I need to make a print statement for the output"
   ]
  },
  {
   "cell_type": "code",
   "execution_count": 3,
   "id": "9ef76666",
   "metadata": {},
   "outputs": [
    {
     "name": "stdout",
     "output_type": "stream",
     "text": [
      "Please enter a number: 4\n",
      "your new number is 400\n"
     ]
    }
   ],
   "source": [
    "#getting input from user\n",
    "n = int(input('Please enter a number: '))\n",
    "#when the input is less than a hundred, the program multiplies n by 10\n",
    "while n < 100: \n",
    "    n *= 10\n",
    "#output\n",
    "print(f'your new number is {n}')"
   ]
  },
  {
   "cell_type": "markdown",
   "id": "018a379f",
   "metadata": {},
   "source": [
    "Now the program works. However, I thought of if the number the user inputs is a decimal. I then changed the int to a float"
   ]
  },
  {
   "cell_type": "code",
   "execution_count": 4,
   "id": "db1ef94d",
   "metadata": {},
   "outputs": [
    {
     "name": "stdout",
     "output_type": "stream",
     "text": [
      "Please enter a number: 7.83\n",
      "your new number is 783.0\n"
     ]
    }
   ],
   "source": [
    "#getting input from user\n",
    "n = float(input('Please enter a number: '))\n",
    "#when the input is less than a hundred, the program multiplies n by 10\n",
    "while n < 100.0: \n",
    "    n *= 10.0\n",
    "#output\n",
    "print(f'your new number is {n}')"
   ]
  },
  {
   "cell_type": "markdown",
   "id": "79cd4b90",
   "metadata": {},
   "source": [
    "This program now works for float values. Now I just want to test some more numbers"
   ]
  },
  {
   "cell_type": "code",
   "execution_count": 5,
   "id": "681d75ed",
   "metadata": {},
   "outputs": [
    {
     "name": "stdout",
     "output_type": "stream",
     "text": [
      "Please enter a number: 77.82\n",
      "your new number is 778.1999999999999\n"
     ]
    }
   ],
   "source": [
    "#getting input from user\n",
    "n = float(input('Please enter a number: '))\n",
    "#when the input is less than a hundred, the program multiplies n by 10\n",
    "while n < 100.0: \n",
    "    n *= 10.0\n",
    "#output\n",
    "print(f'your new number is {n}')"
   ]
  },
  {
   "cell_type": "markdown",
   "id": "12bc657e",
   "metadata": {},
   "source": [
    "I now got the program working for all values."
   ]
  },
  {
   "cell_type": "markdown",
   "id": "2585bcc1",
   "metadata": {},
   "source": [
    "### Problem 5\n",
    "\n",
    "Write a loop that calculates the total of the following series of numbers:\n",
    "\n",
    "1/30 + 2/29 + 3/28 + ... + 30/1"
   ]
  },
  {
   "cell_type": "code",
   "execution_count": 7,
   "id": "11ff8ef8",
   "metadata": {},
   "outputs": [
    {
     "name": "stdout",
     "output_type": "stream",
     "text": [
      "The sum of the following numvers is 93.84460105853213\n"
     ]
    }
   ],
   "source": [
    "#setting up initialization\n",
    "total = 0\n",
    "numerator = 1\n",
    "denominator = 30\n",
    "#making the while loop to add each new fraction to the previous total\n",
    "while numerator <= 30 and denominator >= 1:\n",
    "    fraction = numerator/denominator\n",
    "    total += fraction\n",
    "    numerator += 1\n",
    "    denominator -= 1\n",
    "#printing the output\n",
    "print(f'The sum of the following numvers is {total}')"
   ]
  },
  {
   "cell_type": "markdown",
   "id": "e58fceeb",
   "metadata": {},
   "source": [
    "I first initialized the values: total, numerator, and denominator. next, I made the while loop, creating the fraction (numerator/denominator), and added each fraction and updated the total. I then increased the numerator by 1 and decreased the denominator by one to get a new fraction for the next iteration. after getting a result, I tested the answer on my calculator by using summation and got the correct result."
   ]
  },
  {
   "cell_type": "markdown",
   "id": "04e8710e",
   "metadata": {},
   "source": [
    "## Programming Exercises"
   ]
  },
  {
   "cell_type": "markdown",
   "id": "9f1bf99f",
   "metadata": {},
   "source": [
    "### Question 1: Bug Collector\n",
    "\n",
    "A bug collector collects bugs every day for five days. Write a program that keeps a running\n",
    "total of the number of bugs collected during the five days. The loop should ask for the\n",
    "number of bugs collected for each day, and when the loop is finished, the program should\n",
    "display the total number of bugs collected."
   ]
  },
  {
   "cell_type": "code",
   "execution_count": 8,
   "id": "33ef9c5e",
   "metadata": {},
   "outputs": [
    {
     "ename": "SyntaxError",
     "evalue": "expected ':' (2969604202.py, line 2)",
     "output_type": "error",
     "traceback": [
      "\u001b[1;36m  Cell \u001b[1;32mIn[8], line 2\u001b[1;36m\u001b[0m\n\u001b[1;33m    for days in [1, 2, 3, 4, 5]\u001b[0m\n\u001b[1;37m                               ^\u001b[0m\n\u001b[1;31mSyntaxError\u001b[0m\u001b[1;31m:\u001b[0m expected ':'\n"
     ]
    }
   ],
   "source": [
    "#setting up the range\n",
    "for days in [1, 2, 3, 4, 5]\n",
    "    int(input(f'how many bugs collected on day {days}?: '))"
   ]
  },
  {
   "cell_type": "markdown",
   "id": "b666c022",
   "metadata": {},
   "source": [
    "I forgot to include a colon after the for statement, I need to do that and test if the input works"
   ]
  },
  {
   "cell_type": "code",
   "execution_count": 9,
   "id": "e51284ef",
   "metadata": {},
   "outputs": [
    {
     "name": "stdout",
     "output_type": "stream",
     "text": [
      "how many bugs collected on day 1?: 5\n",
      "how many bugs collected on day 2?: 3\n",
      "how many bugs collected on day 3?: 6\n",
      "how many bugs collected on day 4?: 4\n",
      "how many bugs collected on day 5?: 1\n"
     ]
    }
   ],
   "source": [
    "#setting up the range\n",
    "for days in [1, 2, 3, 4, 5]:\n",
    "    int(input(f'how many bugs collected on day {days}?: '))"
   ]
  },
  {
   "cell_type": "markdown",
   "id": "45e28483",
   "metadata": {},
   "source": [
    "Now I need to make the output. I first create the variable bugs and set that equal to 0. then, I add on the input to get an updated number for bugs."
   ]
  },
  {
   "cell_type": "code",
   "execution_count": 10,
   "id": "ecf2acc5",
   "metadata": {},
   "outputs": [
    {
     "name": "stdout",
     "output_type": "stream",
     "text": [
      "how many bugs collected on day 1?: 3\n",
      "how many bugs collected on day 2?: 4\n",
      "how many bugs collected on day 3?: 2\n",
      "how many bugs collected on day 4?: 5\n",
      "how many bugs collected on day 5?: 6\n",
      "You collected a total of 20 bugs.\n"
     ]
    }
   ],
   "source": [
    "bugs = 0\n",
    "#setting up the range\n",
    "for days in [1, 2, 3, 4, 5]:\n",
    "    bugs += int(input(f'how many bugs collected on day {days}?: '))\n",
    "print(f'You collected a total of {bugs} bugs.')"
   ]
  },
  {
   "cell_type": "markdown",
   "id": "1358d111",
   "metadata": {},
   "source": [
    "Now the output works as 3 + 4 + 2 + 5 + 6 = 20"
   ]
  },
  {
   "cell_type": "code",
   "execution_count": null,
   "id": "24aed39a",
   "metadata": {},
   "outputs": [],
   "source": []
  }
 ],
 "metadata": {
  "kernelspec": {
   "display_name": "Python 3 (ipykernel)",
   "language": "python",
   "name": "python3"
  },
  "language_info": {
   "codemirror_mode": {
    "name": "ipython",
    "version": 3
   },
   "file_extension": ".py",
   "mimetype": "text/x-python",
   "name": "python",
   "nbconvert_exporter": "python",
   "pygments_lexer": "ipython3",
   "version": "3.11.5"
  }
 },
 "nbformat": 4,
 "nbformat_minor": 5
}
