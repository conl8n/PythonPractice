{
 "cells": [
  {
   "cell_type": "markdown",
   "id": "cf552225",
   "metadata": {},
   "source": [
    "# Chapter 4 Exercies"
   ]
  },
  {
   "cell_type": "markdown",
   "id": "b7a35653",
   "metadata": {},
   "source": [
    "## Algorithm Workbench"
   ]
  },
  {
   "cell_type": "markdown",
   "id": "bad32703",
   "metadata": {},
   "source": [
    "### Problem 1\n",
    "\n",
    "Write a while loop that lets the user enter a number. The number should be multiplied\n",
    "by 10, and the result assigned to a variable named product. The loop should iterate as\n",
    "long as product is less than 100."
   ]
  },
  {
   "cell_type": "code",
   "execution_count": 1,
   "id": "1af9e098",
   "metadata": {},
   "outputs": [
    {
     "name": "stdout",
     "output_type": "stream",
     "text": [
      "Please enter a number: 5\n"
     ]
    }
   ],
   "source": [
    "#getting input from user\n",
    "n = int(input('Please enter a number: '))\n",
    "#when the input is less than ten, the program multiplies n by 10\n",
    "while n < 10: n *= n"
   ]
  },
  {
   "cell_type": "markdown",
   "id": "6bc42bed",
   "metadata": {},
   "source": [
    "I made a few mistakes in this program. The first one was making n < 10 rather than n < 100. the second one was i said n *= n rather than n *= 10. I will fix this and add an output"
   ]
  },
  {
   "cell_type": "code",
   "execution_count": 2,
   "id": "17cae88d",
   "metadata": {},
   "outputs": [
    {
     "name": "stdout",
     "output_type": "stream",
     "text": [
      "Please enter a number: 3\n"
     ]
    }
   ],
   "source": [
    "#getting input from user\n",
    "n = int(input('Please enter a number: '))\n",
    "#when the input is less than a hundred, the program multiplies n by 10\n",
    "while n < 100: \n",
    "    n *= 10"
   ]
  },
  {
   "cell_type": "markdown",
   "id": "2fa49051",
   "metadata": {},
   "source": [
    "I fixed all the errors in the previous iteration. Now I need to make a print statement for the output"
   ]
  },
  {
   "cell_type": "code",
   "execution_count": 3,
   "id": "ab54463a",
   "metadata": {},
   "outputs": [
    {
     "name": "stdout",
     "output_type": "stream",
     "text": [
      "Please enter a number: 4\n",
      "your new number is 400\n"
     ]
    }
   ],
   "source": [
    "#getting input from user\n",
    "n = int(input('Please enter a number: '))\n",
    "#when the input is less than a hundred, the program multiplies n by 10\n",
    "while n < 100: \n",
    "    n *= 10\n",
    "#output\n",
    "print(f'your new number is {n}')"
   ]
  },
  {
   "cell_type": "markdown",
   "id": "a7263fc7",
   "metadata": {},
   "source": [
    "Now the program works. However, I thought of if the number the user inputs is a decimal. I then changed the int to a float"
   ]
  },
  {
   "cell_type": "code",
   "execution_count": 4,
   "id": "3eba20a1",
   "metadata": {},
   "outputs": [
    {
     "name": "stdout",
     "output_type": "stream",
     "text": [
      "Please enter a number: 7.83\n",
      "your new number is 783.0\n"
     ]
    }
   ],
   "source": [
    "#getting input from user\n",
    "n = float(input('Please enter a number: '))\n",
    "#when the input is less than a hundred, the program multiplies n by 10\n",
    "while n < 100.0: \n",
    "    n *= 10.0\n",
    "#output\n",
    "print(f'your new number is {n}')"
   ]
  },
  {
   "cell_type": "markdown",
   "id": "379291f4",
   "metadata": {},
   "source": [
    "This program now works for float values. Now I just want to test some more numbers"
   ]
  },
  {
   "cell_type": "code",
   "execution_count": 5,
   "id": "26df5714",
   "metadata": {},
   "outputs": [
    {
     "name": "stdout",
     "output_type": "stream",
     "text": [
      "Please enter a number: 77.82\n",
      "your new number is 778.1999999999999\n"
     ]
    }
   ],
   "source": [
    "#getting input from user\n",
    "n = float(input('Please enter a number: '))\n",
    "#when the input is less than a hundred, the program multiplies n by 10\n",
    "while n < 100.0: \n",
    "    n *= 10.0\n",
    "#output\n",
    "print(f'your new number is {n}')"
   ]
  },
  {
   "cell_type": "markdown",
   "id": "b2811a2e",
   "metadata": {},
   "source": [
    "I now got the program working for all values."
   ]
  },
  {
   "cell_type": "code",
   "execution_count": null,
   "id": "5f1f171f",
   "metadata": {},
   "outputs": [],
   "source": []
  }
 ],
 "metadata": {
  "kernelspec": {
   "display_name": "Python 3 (ipykernel)",
   "language": "python",
   "name": "python3"
  },
  "language_info": {
   "codemirror_mode": {
    "name": "ipython",
    "version": 3
   },
   "file_extension": ".py",
   "mimetype": "text/x-python",
   "name": "python",
   "nbconvert_exporter": "python",
   "pygments_lexer": "ipython3",
   "version": "3.11.5"
  }
 },
 "nbformat": 4,
 "nbformat_minor": 5
}
