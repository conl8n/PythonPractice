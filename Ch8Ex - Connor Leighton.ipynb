{
 "cells": [
  {
   "cell_type": "markdown",
   "id": "8266077e",
   "metadata": {},
   "source": [
    "# Chapter 8 Exercises"
   ]
  },
  {
   "cell_type": "markdown",
   "id": "c13e0993",
   "metadata": {},
   "source": [
    "## Algorithm Workbench"
   ]
  },
  {
   "cell_type": "markdown",
   "id": "ad2b3c9c",
   "metadata": {},
   "source": [
    "### Problem 2\n",
    "\n",
    "Write a loop that counts the number of space characters that appear in the string referenced by mystring."
   ]
  },
  {
   "cell_type": "code",
   "execution_count": 2,
   "id": "cf6356fa",
   "metadata": {},
   "outputs": [
    {
     "name": "stdout",
     "output_type": "stream",
     "text": [
      "Number of space characters: 5\n"
     ]
    }
   ],
   "source": [
    "mystring = 'Hello my name is Connor Leighton'\n",
    "space_count = 0\n",
    "\n",
    "for ch in mystring:\n",
    "    if ch == ' ':\n",
    "        space_count += 1\n",
    "\n",
    "print('Number of space characters:', space_count)"
   ]
  },
  {
   "cell_type": "markdown",
   "id": "abfbd597",
   "metadata": {},
   "source": [
    "I started out with a string that I created, and initialized the space_count variable. I then set up a for loop where for a character in mystring, if it is a space, the space_count goes up by one."
   ]
  },
  {
   "cell_type": "markdown",
   "id": "460dcf10",
   "metadata": {},
   "source": [
    "### Problem 4\n",
    "\n",
    "Write a loop that counts the number of lowercase characters that appear in the string\n",
    "referenced by mystring."
   ]
  },
  {
   "cell_type": "code",
   "execution_count": 3,
   "id": "bd19f001",
   "metadata": {},
   "outputs": [
    {
     "name": "stdout",
     "output_type": "stream",
     "text": [
      "Number of lowercase characters: 21\n"
     ]
    }
   ],
   "source": [
    "mystring = 'Hello My Name Is Connor Leighton'\n",
    "lowercase_count = 0\n",
    "\n",
    "for ch in mystring:\n",
    "    if ch.islower():\n",
    "        lowercase_count += 1\n",
    "\n",
    "print('Number of lowercase characters:', lowercase_count)"
   ]
  },
  {
   "cell_type": "markdown",
   "id": "bf8dd83b",
   "metadata": {},
   "source": [
    "I used a very similar code for this, where instead of \"if ch == ' '\", I used \"if ch.islower()\" to count the amount of lowercase letters"
   ]
  },
  {
   "cell_type": "markdown",
   "id": "19f270f0",
   "metadata": {},
   "source": [
    "## Programming Exercises"
   ]
  },
  {
   "cell_type": "markdown",
   "id": "b596212a",
   "metadata": {},
   "source": [
    "### Question 1: Initials\n",
    "\n",
    "Write a program that gets a string containing a person’s first, middle, and last names, and displays their first, middle, and last initials. For example, if the user enters John William Smith, the program should display J. W. S."
   ]
  },
  {
   "cell_type": "code",
   "execution_count": 4,
   "id": "6e518ffa",
   "metadata": {},
   "outputs": [],
   "source": [
    "def display_initials(full_name):\n",
    "    initials = [name[0] + '.' for name in full_name.split()]\n",
    "    print('initials:', ' '.join(initials))"
   ]
  },
  {
   "cell_type": "markdown",
   "id": "41b8f158",
   "metadata": {},
   "source": [
    "I started by defining the function display_initials, and splittin the name into first, middle, and last names. I then took the first letter of each name and separated each initial with a ."
   ]
  },
  {
   "cell_type": "code",
   "execution_count": 5,
   "id": "3440edba",
   "metadata": {},
   "outputs": [
    {
     "name": "stdout",
     "output_type": "stream",
     "text": [
      "Enter your first, middle, and last names: Connor Shiwon Leighton\n"
     ]
    }
   ],
   "source": [
    "def display_initials(full_name):\n",
    "    initials = [name[0] + '.' for name in full_name.split()]\n",
    "    print(\"Initials:\", ' '.join(initials))\n",
    "\n",
    "# Get input from the user\n",
    "full_name = input('Enter your first, middle, and last names: ')"
   ]
  },
  {
   "cell_type": "markdown",
   "id": "d1c36f28",
   "metadata": {},
   "source": [
    "I needed input from the user for this code to work so I added the place where the user inputs their full name."
   ]
  },
  {
   "cell_type": "code",
   "execution_count": 6,
   "id": "ba298b03",
   "metadata": {},
   "outputs": [
    {
     "name": "stdout",
     "output_type": "stream",
     "text": [
      "Enter your first, middle, and last names: Connor Shiwon Leighton\n",
      "Initials: C. S. L.\n"
     ]
    }
   ],
   "source": [
    "def display_initials(full_name):\n",
    "    initials = [name[0] + '.' for name in full_name.split()]\n",
    "    print('Initials:', ' '.join(initials))\n",
    "\n",
    "# Get input from the user\n",
    "full_name = input('Enter your first, middle, and last names: ')\n",
    "\n",
    "# Display initials\n",
    "display_initials(full_name)"
   ]
  },
  {
   "cell_type": "markdown",
   "id": "08f47da4",
   "metadata": {},
   "source": [
    "I then  displayed the initials by using line 9"
   ]
  },
  {
   "cell_type": "code",
   "execution_count": null,
   "id": "f7cc5db6",
   "metadata": {},
   "outputs": [],
   "source": []
  }
 ],
 "metadata": {
  "kernelspec": {
   "display_name": "Python 3 (ipykernel)",
   "language": "python",
   "name": "python3"
  },
  "language_info": {
   "codemirror_mode": {
    "name": "ipython",
    "version": 3
   },
   "file_extension": ".py",
   "mimetype": "text/x-python",
   "name": "python",
   "nbconvert_exporter": "python",
   "pygments_lexer": "ipython3",
   "version": "3.11.5"
  }
 },
 "nbformat": 4,
 "nbformat_minor": 5
}
