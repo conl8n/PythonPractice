{
 "cells": [
  {
   "cell_type": "markdown",
   "id": "8266077e",
   "metadata": {},
   "source": [
    "# Chapter 8 Exercises"
   ]
  },
  {
   "cell_type": "markdown",
   "id": "c13e0993",
   "metadata": {},
   "source": [
    "## Algorithm Workbench"
   ]
  },
  {
   "cell_type": "markdown",
   "id": "ad2b3c9c",
   "metadata": {},
   "source": [
    "### Problem 2\n",
    "\n",
    "Write a loop that counts the number of space characters that appear in the string referenced by mystring."
   ]
  },
  {
   "cell_type": "code",
   "execution_count": 2,
   "id": "cf6356fa",
   "metadata": {},
   "outputs": [
    {
     "name": "stdout",
     "output_type": "stream",
     "text": [
      "Number of space characters: 5\n"
     ]
    }
   ],
   "source": [
    "mystring = 'Hello my name is Connor Leighton'\n",
    "space_count = 0\n",
    "\n",
    "for ch in mystring:\n",
    "    if ch == ' ':\n",
    "        space_count += 1\n",
    "\n",
    "print('Number of space characters:', space_count)"
   ]
  },
  {
   "cell_type": "markdown",
   "id": "562ce767",
   "metadata": {},
   "source": [
    "I started out with a string that I created, and initialized the space_count variable. I then set up a for loop where for a character in mystring, if it is a space, the space_count goes up by one."
   ]
  },
  {
   "cell_type": "markdown",
   "id": "b1491bd3",
   "metadata": {},
   "source": [
    "### Problem 4\n",
    "\n",
    "Write a loop that counts the number of lowercase characters that appear in the string\n",
    "referenced by mystring."
   ]
  },
  {
   "cell_type": "code",
   "execution_count": 3,
   "id": "7265fa5f",
   "metadata": {},
   "outputs": [
    {
     "name": "stdout",
     "output_type": "stream",
     "text": [
      "Number of lowercase characters: 21\n"
     ]
    }
   ],
   "source": [
    "mystring = 'Hello My Name Is Connor Leighton'\n",
    "lowercase_count = 0\n",
    "\n",
    "for ch in mystring:\n",
    "    if ch.islower():\n",
    "        lowercase_count += 1\n",
    "\n",
    "print('Number of lowercase characters:', lowercase_count)"
   ]
  },
  {
   "cell_type": "markdown",
   "id": "5d6cf786",
   "metadata": {},
   "source": [
    "I used a very similar code for this, where instead of \"if ch == ' '\", I used \"if ch.islower()\" to count "
   ]
  }
 ],
 "metadata": {
  "kernelspec": {
   "display_name": "Python 3 (ipykernel)",
   "language": "python",
   "name": "python3"
  },
  "language_info": {
   "codemirror_mode": {
    "name": "ipython",
    "version": 3
   },
   "file_extension": ".py",
   "mimetype": "text/x-python",
   "name": "python",
   "nbconvert_exporter": "python",
   "pygments_lexer": "ipython3",
   "version": "3.11.5"
  }
 },
 "nbformat": 4,
 "nbformat_minor": 5
}
