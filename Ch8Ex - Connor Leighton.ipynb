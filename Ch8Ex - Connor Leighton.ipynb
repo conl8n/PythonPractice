{
 "cells": [
  {
   "cell_type": "markdown",
   "id": "8266077e",
   "metadata": {},
   "source": [
    "# Chapter 8 Exercises"
   ]
  },
  {
   "cell_type": "markdown",
   "id": "c13e0993",
   "metadata": {},
   "source": [
    "## Algorithm Workbench"
   ]
  },
  {
   "cell_type": "markdown",
   "id": "ad2b3c9c",
   "metadata": {},
   "source": [
    "### Problem 2\n",
    "\n",
    "Write a loop that counts the number of space characters that appear in the string referenced by mystring."
   ]
  },
  {
   "cell_type": "code",
   "execution_count": 2,
   "id": "cf6356fa",
   "metadata": {},
   "outputs": [
    {
     "name": "stdout",
     "output_type": "stream",
     "text": [
      "Number of space characters: 5\n"
     ]
    }
   ],
   "source": [
    "mystring = 'Hello my name is Connor Leighton'\n",
    "space_count = 0\n",
    "\n",
    "for ch in mystring:\n",
    "    if ch == ' ':\n",
    "        space_count += 1\n",
    "\n",
    "print('Number of space characters:', space_count)"
   ]
  },
  {
   "cell_type": "markdown",
   "id": "805d9ae4",
   "metadata": {},
   "source": [
    "I started out with a string that I created, and initialized the space_count variable. I then set up a for loop where for a character in mystring, if it is a space, the space_count goes up by one."
   ]
  },
  {
   "cell_type": "markdown",
   "id": "a46ad70c",
   "metadata": {},
   "source": [
    "### Problem 4\n",
    "\n",
    "Write a loop that counts the number of lowercase characters that appear in the string\n",
    "referenced by mystring."
   ]
  },
  {
   "cell_type": "code",
   "execution_count": 3,
   "id": "860d1bf4",
   "metadata": {},
   "outputs": [
    {
     "name": "stdout",
     "output_type": "stream",
     "text": [
      "Number of lowercase characters: 21\n"
     ]
    }
   ],
   "source": [
    "mystring = 'Hello My Name Is Connor Leighton'\n",
    "lowercase_count = 0\n",
    "\n",
    "for ch in mystring:\n",
    "    if ch.islower():\n",
    "        lowercase_count += 1\n",
    "\n",
    "print('Number of lowercase characters:', lowercase_count)"
   ]
  },
  {
   "cell_type": "markdown",
   "id": "9e4031ec",
   "metadata": {},
   "source": [
    "I used a very similar code for this, where instead of \"if ch == ' '\", I used \"if ch.islower()\" to count the amount of lowercase letters"
   ]
  },
  {
   "cell_type": "markdown",
   "id": "fbf76442",
   "metadata": {},
   "source": [
    "## Programming Exercises"
   ]
  },
  {
   "cell_type": "markdown",
   "id": "383edd88",
   "metadata": {},
   "source": [
    "### Question 1: Initials\n",
    "\n",
    "Write a program that gets a string containing a person’s first, middle, and last names, and displays their first, middle, and last initials. For example, if the user enters John William Smith, the program should display J. W. S."
   ]
  },
  {
   "cell_type": "code",
   "execution_count": 4,
   "id": "a20e0a1a",
   "metadata": {},
   "outputs": [],
   "source": [
    "def display_initials(full_name):\n",
    "    initials = [name[0] + '.' for name in full_name.split()]\n",
    "    print('initials:', ' '.join(initials))"
   ]
  },
  {
   "cell_type": "markdown",
   "id": "1f97aa61",
   "metadata": {},
   "source": [
    "I started by defining the function display_initials, and splittin the name into first, middle, and last names. I then took the first letter of each name and separated each initial with a ."
   ]
  },
  {
   "cell_type": "code",
   "execution_count": 5,
   "id": "86d6bcda",
   "metadata": {},
   "outputs": [
    {
     "name": "stdout",
     "output_type": "stream",
     "text": [
      "Enter your first, middle, and last names: Connor Shiwon Leighton\n"
     ]
    }
   ],
   "source": [
    "def display_initials(full_name):\n",
    "    initials = [name[0] + '.' for name in full_name.split()]\n",
    "    print(\"Initials:\", ' '.join(initials))\n",
    "\n",
    "#Get input from the user\n",
    "full_name = input('Enter your first, middle, and last names: ')"
   ]
  },
  {
   "cell_type": "markdown",
   "id": "f1f86df7",
   "metadata": {},
   "source": [
    "I needed input from the user for this code to work so I added the place where the user inputs their full name."
   ]
  },
  {
   "cell_type": "code",
   "execution_count": 6,
   "id": "45e56d89",
   "metadata": {},
   "outputs": [
    {
     "name": "stdout",
     "output_type": "stream",
     "text": [
      "Enter your first, middle, and last names: Connor Shiwon Leighton\n",
      "Initials: C. S. L.\n"
     ]
    }
   ],
   "source": [
    "def display_initials(full_name):\n",
    "    initials = [name[0] + '.' for name in full_name.split()]\n",
    "    print('Initials:', ' '.join(initials))\n",
    "\n",
    "#Get input from the user\n",
    "full_name = input('Enter your first, middle, and last names: ')\n",
    "\n",
    "#Display initials\n",
    "display_initials(full_name)"
   ]
  },
  {
   "cell_type": "markdown",
   "id": "55343261",
   "metadata": {},
   "source": [
    "I then  displayed the initials by using line 9"
   ]
  },
  {
   "cell_type": "markdown",
   "id": "0e0a0588",
   "metadata": {},
   "source": [
    "### Question 4: Morse Code Converter\n",
    "\n",
    "Morse code is a code where each letter of the English alphabet, each digit, and various punctuation characters are represented by a series of dots and dashes. Table 8-4 shows part of the code.\n",
    "\n",
    "Write a program that asks the user to enter a string, then converts that string to Morse code."
   ]
  },
  {
   "cell_type": "code",
   "execution_count": 8,
   "id": "ccdbdfd6",
   "metadata": {},
   "outputs": [],
   "source": [
    "#Morse code dictionary\n",
    "morse_code_dict = {\n",
    "    'A': '.-', 'B': '-...', 'C': '-.-.', 'D': '-..', 'E': '.', 'F': '..-.', 'G': '--.', 'H': '....', \n",
    "    'I': '..', 'J': '.---', 'K': '-.-', 'L': '.-..', 'M': '--', 'N': '-.', 'O': '---', 'P': '.--.', \n",
    "    'Q': '--.-', 'R': '.-.', 'S': '...', 'T': '-', 'U': '..-', 'V': '...-', 'W': '.--', 'X': '-..-', \n",
    "    'Y': '-.--', 'Z': '--..', '1': '.----', '2': '..---', '3': '...--', '4': '....-', '5': '.....', \n",
    "    '6': '-....', '7': '--...', '8': '---..', '9': '----.', '0': '-----', ',': '--..--', '.': '.-.-.-',\n",
    "    '?': '..--..', ' ': '/'\n",
    "}"
   ]
  },
  {
   "cell_type": "markdown",
   "id": "3fae0054",
   "metadata": {},
   "source": [
    "I started by making a dictionary for all the letters, numbers, and punctuation needed in morse code."
   ]
  },
  {
   "cell_type": "code",
   "execution_count": 9,
   "id": "f244c275",
   "metadata": {},
   "outputs": [],
   "source": [
    "#Morse code dictionary\n",
    "morse_code_dict = {\n",
    "    'A': '.-', 'B': '-...', 'C': '-.-.', 'D': '-..', 'E': '.', 'F': '..-.', 'G': '--.', 'H': '....', \n",
    "    'I': '..', 'J': '.---', 'K': '-.-', 'L': '.-..', 'M': '--', 'N': '-.', 'O': '---', 'P': '.--.', \n",
    "    'Q': '--.-', 'R': '.-.', 'S': '...', 'T': '-', 'U': '..-', 'V': '...-', 'W': '.--', 'X': '-..-', \n",
    "    'Y': '-.--', 'Z': '--..', '1': '.----', '2': '..---', '3': '...--', '4': '....-', '5': '.....', \n",
    "    '6': '-....', '7': '--...', '8': '---..', '9': '----.', '0': '-----', ',': '--..--', '.': '.-.-.-',\n",
    "    '?': '..--..', ' ': '/'\n",
    "}\n",
    "\n",
    "def text_to_morse(text):\n",
    "    morse_code = ''\n",
    "    for char in text.upper():\n",
    "        if char in morse_code_dict:\n",
    "            morse_code += morse_code_dict[char] + ' '\n",
    "        else:\n",
    "            morse_code += char\n",
    "    return morse_code.strip()"
   ]
  },
  {
   "cell_type": "markdown",
   "id": "6bfc54b3",
   "metadata": {},
   "source": [
    "I then added the main function which translates each letter into morse code."
   ]
  },
  {
   "cell_type": "code",
   "execution_count": 10,
   "id": "65e28f51",
   "metadata": {},
   "outputs": [
    {
     "name": "stdout",
     "output_type": "stream",
     "text": [
      "Enter a string to convert to Morse code: Hello, My name is Connor Leighton\n",
      "Morse code: .... . .-.. .-.. --- --..-- / -- -.-- / -. .- -- . / .. ... / -.-. --- -. -. --- .-. / .-.. . .. --. .... - --- -.\n"
     ]
    }
   ],
   "source": [
    "#Morse code dictionary\n",
    "morse_code_dict = {\n",
    "    'A': '.-', 'B': '-...', 'C': '-.-.', 'D': '-..', 'E': '.', 'F': '..-.', 'G': '--.', 'H': '....', \n",
    "    'I': '..', 'J': '.---', 'K': '-.-', 'L': '.-..', 'M': '--', 'N': '-.', 'O': '---', 'P': '.--.', \n",
    "    'Q': '--.-', 'R': '.-.', 'S': '...', 'T': '-', 'U': '..-', 'V': '...-', 'W': '.--', 'X': '-..-', \n",
    "    'Y': '-.--', 'Z': '--..', '1': '.----', '2': '..---', '3': '...--', '4': '....-', '5': '.....', \n",
    "    '6': '-....', '7': '--...', '8': '---..', '9': '----.', '0': '-----', ',': '--..--', '.': '.-.-.-',\n",
    "    '?': '..--..', ' ': '/'\n",
    "}\n",
    "\n",
    "def text_to_morse(text):\n",
    "    morse_code = ''\n",
    "    for char in text.upper():\n",
    "        if char in morse_code_dict:\n",
    "            morse_code += morse_code_dict[char] + ' '\n",
    "        else:\n",
    "            morse_code += char\n",
    "    return morse_code.strip()\n",
    "\n",
    "#Get input from the user\n",
    "user_input = input('Enter a string to convert to Morse code: ')\n",
    "\n",
    "#Convert the string to Morse code\n",
    "morse_code = text_to_morse(user_input)\n",
    "\n",
    "#Display the Morse code\n",
    "print('Morse code:', morse_code)"
   ]
  },
  {
   "cell_type": "markdown",
   "id": "45a592cd",
   "metadata": {},
   "source": [
    "Finally, I added the user input, and the output in morse code."
   ]
  },
  {
   "cell_type": "markdown",
   "id": "aabab707",
   "metadata": {},
   "source": [
    "### Question 5: Alphabetic Telephone Number Translator\n",
    "\n",
    "Many companies use telephone numbers like 555-GET-FOOD so the number is easier for their customers to remember. On a standard telephone, the alphabetic letters are mapped to numbers in the following fashion:\n",
    "\n",
    "A, B, and C = 2\n",
    "\n",
    "D, E, and F = 3\n",
    "\n",
    "G, H, and I = 4\n",
    "\n",
    "J, K, and L = 5\n",
    "\n",
    "M, N, and O = 6\n",
    "\n",
    "P, Q, R, and S = 7\n",
    "\n",
    "T, U, and V = 8\n",
    "\n",
    "W, X, Y, and Z = 9\n",
    "\n",
    "Write a program that asks the user to enter a 10-character telephone number in the format XXX-XXX-XXXX. The application should display the telephone number with any alphabetic characters that appeared in the original translated to their numeric equivalent. For example, if the user enters 555-GET-FOOD, the application should display 555-438-3663."
   ]
  },
  {
   "cell_type": "code",
   "execution_count": 11,
   "id": "0a1ceda4",
   "metadata": {},
   "outputs": [],
   "source": [
    "def convert_to_numeric(phone_number):\n",
    "    numeric_phone = ''\n",
    "    for ch in phone_number:\n",
    "        if ch.isalpha():\n",
    "            if ch in 'ABC':\n",
    "                numeric_phone += '2'\n",
    "            elif ch in 'DEF':\n",
    "                numeric_phone += '3'\n",
    "            elif ch in 'GHI':\n",
    "                numeric_phone += '4'\n",
    "            elif ch in 'JKL':\n",
    "                numeric_phone += '5'\n",
    "            elif ch in 'MNO':\n",
    "                numeric_phone += '6'\n",
    "            elif ch in 'PQRS':\n",
    "                numeric_phone += '7'\n",
    "            elif ch in 'TUV':\n",
    "                numeric_phone += '8'\n",
    "            elif ch in 'WXYZ':\n",
    "                numeric_phone += '9'\n",
    "        else:\n",
    "            numeric_phone += char\n",
    "    return numeric_phone"
   ]
  },
  {
   "cell_type": "markdown",
   "id": "9ed1b2be",
   "metadata": {},
   "source": [
    "I started with a function that converts each letter into a number using if and else statements in a for loop."
   ]
  },
  {
   "cell_type": "code",
   "execution_count": 14,
   "id": "ce18f0fa",
   "metadata": {},
   "outputs": [
    {
     "name": "stdout",
     "output_type": "stream",
     "text": [
      "Enter a 10-character telephone number in the format XXX-XXX-XXXX: ndn-ajn-wnem\n",
      "Numeric equivalent: --\n"
     ]
    }
   ],
   "source": [
    "def convert_to_numeric(phone_number):\n",
    "    numeric_phone = ''\n",
    "    for ch in phone_number:\n",
    "        if ch.isalpha():\n",
    "            if ch in 'ABC':\n",
    "                numeric_phone += '2'\n",
    "            elif ch in 'DEF':\n",
    "                numeric_phone += '3'\n",
    "            elif ch in 'GHI':\n",
    "                numeric_phone += '4'\n",
    "            elif ch in 'JKL':\n",
    "                numeric_phone += '5'\n",
    "            elif ch in 'MNO':\n",
    "                numeric_phone += '6'\n",
    "            elif ch in 'PQRS':\n",
    "                numeric_phone += '7'\n",
    "            elif ch in 'TUV':\n",
    "                numeric_phone += '8'\n",
    "            elif ch in 'WXYZ':\n",
    "                numeric_phone += '9'\n",
    "        else:\n",
    "            numeric_phone += ch\n",
    "    return numeric_phone\n",
    "\n",
    "#Get input from the user\n",
    "phone_number = input(\"Enter a 10-character telephone number in the format XXX-XXX-XXXX: \")\n",
    "\n",
    "#Convert alphabetic characters to numeric equivalents\n",
    "numeric_equivalent = convert_to_numeric(phone_number)\n",
    "\n",
    "#Display the converted telephone number\n",
    "print(\"Numeric equivalent:\", numeric_equivalent)"
   ]
  },
  {
   "cell_type": "markdown",
   "id": "b79c92f5",
   "metadata": {},
   "source": [
    "Finally, I added the user input and the numeric output. I didn't get the output I wanted as I made the letters in the for loop all capitalized."
   ]
  },
  {
   "cell_type": "code",
   "execution_count": 15,
   "id": "39a9329b",
   "metadata": {},
   "outputs": [
    {
     "name": "stdout",
     "output_type": "stream",
     "text": [
      "Enter a 10-character telephone number in the format XXX-XXX-XXXX: IDN-OJW-PANE\n",
      "Numeric equivalent: 436-659-7263\n"
     ]
    }
   ],
   "source": [
    "def convert_to_numeric(phone_number):\n",
    "    numeric_phone = ''\n",
    "    for ch in phone_number:\n",
    "        if ch.isalpha():\n",
    "            if ch in 'ABC':\n",
    "                numeric_phone += '2'\n",
    "            elif ch in 'DEF':\n",
    "                numeric_phone += '3'\n",
    "            elif ch in 'GHI':\n",
    "                numeric_phone += '4'\n",
    "            elif ch in 'JKL':\n",
    "                numeric_phone += '5'\n",
    "            elif ch in 'MNO':\n",
    "                numeric_phone += '6'\n",
    "            elif ch in 'PQRS':\n",
    "                numeric_phone += '7'\n",
    "            elif ch in 'TUV':\n",
    "                numeric_phone += '8'\n",
    "            elif ch in 'WXYZ':\n",
    "                numeric_phone += '9'\n",
    "        else:\n",
    "            numeric_phone += ch\n",
    "    return numeric_phone\n",
    "\n",
    "#Get input from the user\n",
    "phone_number = input(\"Enter a 10-character telephone number in the format XXX-XXX-XXXX: \")\n",
    "\n",
    "#Convert alphabetic characters to numeric equivalents\n",
    "numeric_equivalent = convert_to_numeric(phone_number)\n",
    "\n",
    "#Display the converted telephone number\n",
    "print(\"Numeric equivalent:\", numeric_equivalent)"
   ]
  },
  {
   "cell_type": "markdown",
   "id": "761759d7",
   "metadata": {},
   "source": [
    "To fix the issue, I quickly changed my input to be all capitalized."
   ]
  },
  {
   "cell_type": "markdown",
   "id": "20a55de2",
   "metadata": {},
   "source": [
    "### Question 9: Vowels and Consonants\n",
    "\n",
    "Write a program with a function that accepts a string as an argument and returns the number of vowels that the string contains. The application should have another function that accepts a string as an argument and returns the number of consonants that the string contains. The application should let the user enter a string, and should display the number of vowels and the number of consonants it contains."
   ]
  },
  {
   "cell_type": "code",
   "execution_count": 16,
   "id": "2b5625bb",
   "metadata": {},
   "outputs": [],
   "source": [
    "def count_vowels(string):\n",
    "    vowels = 'AEIOUaeiou'\n",
    "    count = 0\n",
    "    for ch in string:\n",
    "        if ch in vowels:\n",
    "            count += 1\n",
    "    return count"
   ]
  },
  {
   "cell_type": "markdown",
   "id": "a1ad51d4",
   "metadata": {},
   "source": [
    "I started by defining the function for counting vowels. I put an if statement in a for loop to go through all the letters and add to the count if there were vowels."
   ]
  },
  {
   "cell_type": "code",
   "execution_count": 17,
   "id": "01abf3d2",
   "metadata": {},
   "outputs": [],
   "source": [
    "def count_vowels(string):\n",
    "    vowels = 'AEIOUaeiou'\n",
    "    count = 0\n",
    "    for ch in string:\n",
    "        if ch in vowels:\n",
    "            count += 1\n",
    "    return count\n",
    "\n",
    "def count_consonants(string):\n",
    "    consonants = 'BCDFGHJKLMNPQRSTVWXYZbcdfghjklmnpqrstvwxyz'\n",
    "    count = 0\n",
    "    for ch in string:\n",
    "        if ch in consonants:\n",
    "            count += 1\n",
    "    return count"
   ]
  },
  {
   "cell_type": "markdown",
   "id": "03dfcd21",
   "metadata": {},
   "source": [
    "Similar to the previous function, I did the same process for consonants."
   ]
  },
  {
   "cell_type": "code",
   "execution_count": 18,
   "id": "12d655b1",
   "metadata": {},
   "outputs": [
    {
     "name": "stdout",
     "output_type": "stream",
     "text": [
      "Enter a string: Hello my name is Connor Leighton\n",
      "Number of vowels: 10\n",
      "Number of consonants: 17\n"
     ]
    }
   ],
   "source": [
    "def count_vowels(string):\n",
    "    vowels = 'AEIOUaeiou'\n",
    "    count = 0\n",
    "    for ch in string:\n",
    "        if ch in vowels:\n",
    "            count += 1\n",
    "    return count\n",
    "\n",
    "def count_consonants(string):\n",
    "    consonants = 'BCDFGHJKLMNPQRSTVWXYZbcdfghjklmnpqrstvwxyz'\n",
    "    count = 0\n",
    "    for ch in string:\n",
    "        if ch in consonants:\n",
    "            count += 1\n",
    "    return count\n",
    "\n",
    "#Get input from the user\n",
    "user_input = input('Enter a string: ')\n",
    "\n",
    "#Count vowels and consonants\n",
    "num_vowels = count_vowels(user_input)\n",
    "num_consonants = count_consonants(user_input)\n",
    "\n",
    "#Display the results\n",
    "print('Number of vowels:', num_vowels)\n",
    "print('Number of consonants:', num_consonants)"
   ]
  },
  {
   "cell_type": "markdown",
   "id": "22e13f38",
   "metadata": {},
   "source": [
    "Finally, I added the user input and the output. There should be 11 vowels and 16 consonants however because of the y in my. However, we havent currently learned how to do this."
   ]
  },
  {
   "cell_type": "code",
   "execution_count": null,
   "id": "4511664a",
   "metadata": {},
   "outputs": [],
   "source": []
  }
 ],
 "metadata": {
  "kernelspec": {
   "display_name": "Python 3 (ipykernel)",
   "language": "python",
   "name": "python3"
  },
  "language_info": {
   "codemirror_mode": {
    "name": "ipython",
    "version": 3
   },
   "file_extension": ".py",
   "mimetype": "text/x-python",
   "name": "python",
   "nbconvert_exporter": "python",
   "pygments_lexer": "ipython3",
   "version": "3.11.5"
  }
 },
 "nbformat": 4,
 "nbformat_minor": 5
}
