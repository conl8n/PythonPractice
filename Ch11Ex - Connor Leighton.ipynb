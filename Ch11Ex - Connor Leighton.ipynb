{
 "cells": [
  {
   "cell_type": "markdown",
   "id": "5f7479ef",
   "metadata": {},
   "source": [
    "# Chapter 11 Exercises"
   ]
  },
  {
   "cell_type": "markdown",
   "id": "1fbba2be",
   "metadata": {},
   "source": [
    "## Programming Exercises"
   ]
  },
  {
   "cell_type": "markdown",
   "id": "19507307",
   "metadata": {},
   "source": [
    "### Question 1: Employee and Production Worker Classes\n",
    "\n",
    "Write an Employee class that keeps data attributes for the following pieces of information:\n",
    "\n",
    "• Employee name\n",
    "\n",
    "• Employee number\n",
    "\n",
    "Next, write a class named ProductionWorker that is a subclass of the Employee class. The ProductionWorker class should keep data attributes for the following information:\n",
    "\n",
    "• Shift number (an integer, such as 1, 2, or 3)\n",
    "\n",
    "• Hourly pay rate\n",
    "\n",
    "The workday is divided into two shifts: day and night. The shift attribute will hold an integer value representing the shift that the employee works. The day shift is shift 1 and the night shift is shift 2. Write the appropriate accessor and mutator methods for each class. Once you have written the classes, write a program that creates an object of the ProductionWorker class and prompts the user to enter data for each of the object’s data attributes. Store the data in the object, then use the object’s accessor methods to retrieve it and display it on the screen."
   ]
  },
  {
   "cell_type": "code",
   "execution_count": 3,
   "id": "ab743bbe",
   "metadata": {},
   "outputs": [
    {
     "name": "stdout",
     "output_type": "stream",
     "text": [
      "Enter employee name: John\n",
      "Enter employee number: 3\n",
      "Enter shift (1 for day, 2 for night): 2\n",
      "Enter hourly pay rate: 15\n",
      "\n",
      "Employee Information:\n",
      "Name: John\n",
      "Number: 3\n",
      "Shift: Night\n",
      "Hourly Pay Rate: 15\n"
     ]
    }
   ],
   "source": [
    "class Employee:\n",
    "    def __init__(self, name, number):\n",
    "        self.__name = name\n",
    "        self.__number = number\n",
    "        \n",
    "    def set_name(self, name):\n",
    "        self.__name = name\n",
    "        \n",
    "    def set_number(self, number):\n",
    "        self.__number = number\n",
    "        \n",
    "    def get_name(self):\n",
    "        return self.__name\n",
    "    \n",
    "    def get_number(self):\n",
    "        return self.__number\n",
    "    \n",
    "class ProductionWorker(Employee):\n",
    "    def __init__(self, name, number, shift, hourly_rate):\n",
    "        super().__init__(name, number)\n",
    "        self.__shift = shift\n",
    "        self.__hourly_rate = hourly_rate\n",
    "        \n",
    "    def set_shift(self, shift):\n",
    "        self.__shift = shift\n",
    "        \n",
    "    def set_hourly_rate(self, hourly_rate):\n",
    "        self.__hourly_rate = hourly_rate\n",
    "        \n",
    "    def get_shift(self):\n",
    "        return self.__shift\n",
    "    \n",
    "    def get_hourly_rate(self):\n",
    "        return self.__hourly_rate\n",
    "    \n",
    "def main():\n",
    "    name = input(\"Enter employee name: \")\n",
    "    number = input(\"Enter employee number: \")\n",
    "    shift = input(\"Enter shift (1 for day, 2 for night): \")\n",
    "    hourly_rate = input(\"Enter hourly pay rate: \")\n",
    "    \n",
    "    worker = ProductionWorker(name, number, shift, hourly_rate)\n",
    "    \n",
    "    print(\"\\nEmployee Information:\")\n",
    "    print(\"Name:\", worker.get_name())\n",
    "    print(\"Number:\", worker.get_number())\n",
    "    print(\"Shift:\", \"Day\" if worker.get_shift() == 1 else \"Night\")\n",
    "    print(\"Hourly Pay Rate:\", worker.get_hourly_rate())\n",
    "          \n",
    "if __name__ == \"__main__\":\n",
    "    main()"
   ]
  },
  {
   "cell_type": "markdown",
   "id": "85f8b930",
   "metadata": {},
   "source": [
    "### Question 2: Shift Supervisor Class\n",
    "\n",
    "In a particular factory, a shift supervisor is a salaried employee who supervises a shift. In addition to a salary, the shift supervisor earns a yearly bonus when his or her shift meets production goals. Write a ShiftSupervisor class that is a subclass of the Employee class you created in Programming Exercise 1. The ShiftSupervisor class should keep a data attribute for the annual salary, and a data attribute for the annual production bonus that a shift supervisor has earned. Demonstrate the class by writing a program that uses a ShiftSupervisor object."
   ]
  },
  {
   "cell_type": "code",
   "execution_count": 5,
   "id": "c1e13b6b",
   "metadata": {},
   "outputs": [
    {
     "name": "stdout",
     "output_type": "stream",
     "text": [
      "Enter supervisor's name: George\n",
      "Enter supervisor's number: 2\n",
      "Enter supervisor's annual salary: 138\n",
      "Enter supervisor's annual bonus: 12386\n",
      "\n",
      "Employee Information:\n",
      "Name: George\n",
      "Number: 2\n",
      "Annual Salary: 138.0\n",
      "Annual Bonus: 12386.0\n"
     ]
    }
   ],
   "source": [
    "class Employee:\n",
    "    def __init__(self, name, number):\n",
    "        self.__name = name\n",
    "        self.__number = number\n",
    "        \n",
    "    def set_name(self, name):\n",
    "        self.__name = name\n",
    "        \n",
    "    def set_number(self, number):\n",
    "        self.__number = number\n",
    "        \n",
    "    def get_name(self):\n",
    "        return self.__name\n",
    "    \n",
    "    def get_number(self):\n",
    "        return self.__number\n",
    "\n",
    "class ShiftSupervisor(Employee):\n",
    "    def __init__(self, name, number, annual_salary, annual_bonus):\n",
    "        super().__init__(name, number)\n",
    "        self.__annual_salary = annual_salary\n",
    "        self.__annual_bonus = annual_bonus\n",
    "        \n",
    "    def set_annual_salary(self, annual_salary):\n",
    "        self.__annual_salary = annual_salary\n",
    "        \n",
    "    def set_annual_bonus(self, annual_bonus):\n",
    "        self.__annual_bonus = annual_bonus\n",
    "        \n",
    "    def get_annual_salary(self):\n",
    "        return self.__annual_salary\n",
    "    \n",
    "    def get_annual_bonus(self):\n",
    "        return self.__annual_bonus\n",
    "    \n",
    "def main():\n",
    "    name = input(\"Enter supervisor's name: \")\n",
    "    number = input(\"Enter supervisor's number: \")\n",
    "    annual_salary = float(input(\"Enter supervisor's annual salary: \"))\n",
    "    annual_bonus = float(input(\"Enter supervisor's annual bonus: \"))\n",
    "    \n",
    "    supervisor = ShiftSupervisor(name, number, annual_salary, annual_bonus)\n",
    "    \n",
    "    print(\"\\nEmployee Information:\")\n",
    "    print(\"Name:\", supervisor.get_name())\n",
    "    print(\"Number:\", supervisor.get_number())\n",
    "    print(\"Annual Salary:\", supervisor.get_annual_salary())\n",
    "    print(\"Annual Bonus:\", supervisor.get_annual_bonus())\n",
    "          \n",
    "if __name__ == \"__main__\":\n",
    "    main()"
   ]
  },
  {
   "cell_type": "code",
   "execution_count": null,
   "id": "90f850d4",
   "metadata": {},
   "outputs": [],
   "source": []
  }
 ],
 "metadata": {
  "kernelspec": {
   "display_name": "Python 3 (ipykernel)",
   "language": "python",
   "name": "python3"
  },
  "language_info": {
   "codemirror_mode": {
    "name": "ipython",
    "version": 3
   },
   "file_extension": ".py",
   "mimetype": "text/x-python",
   "name": "python",
   "nbconvert_exporter": "python",
   "pygments_lexer": "ipython3",
   "version": "3.11.5"
  }
 },
 "nbformat": 4,
 "nbformat_minor": 5
}
