{
 "cells": [
  {
   "cell_type": "markdown",
   "id": "65920a36",
   "metadata": {},
   "source": [
    "# Chapter 7 Exercises"
   ]
  },
  {
   "cell_type": "markdown",
   "id": "5c6b5e7a",
   "metadata": {},
   "source": [
    "## Algorithm Workbench"
   ]
  },
  {
   "cell_type": "markdown",
   "id": "6e0ac415",
   "metadata": {},
   "source": [
    "### Question 3\n",
    "\n",
    "Assume the list numbers1 has 100 elements, and numbers2 is an empty list. Write code that copies the values in numbers1 to numbers2."
   ]
  },
  {
   "cell_type": "code",
   "execution_count": 1,
   "id": "5a205390",
   "metadata": {},
   "outputs": [
    {
     "name": "stdout",
     "output_type": "stream",
     "text": [
      "[0, 1, 2, 3, 4, 5, 6, 7, 8, 9, 10, 11, 12, 13, 14, 15, 16, 17, 18, 19, 20, 21, 22, 23, 24, 25, 26, 27, 28, 29, 30, 31, 32, 33, 34, 35, 36, 37, 38, 39, 40, 41, 42, 43, 44, 45, 46, 47, 48, 49, 50, 51, 52, 53, 54, 55, 56, 57, 58, 59, 60, 61, 62, 63, 64, 65, 66, 67, 68, 69, 70, 71, 72, 73, 74, 75, 76, 77, 78, 79, 80, 81, 82, 83, 84, 85, 86, 87, 88, 89, 90, 91, 92, 93, 94, 95, 96, 97, 98, 99]\n"
     ]
    }
   ],
   "source": [
    "numbers1 = [x for x in range(100)]\n",
    "numbers2 = []\n",
    "\n",
    "#Copy values from numbers1 to numbers2\n",
    "numbers2 = numbers1.copy()\n",
    "\n",
    "print(numbers2)"
   ]
  },
  {
   "cell_type": "markdown",
   "id": "4757c3c5",
   "metadata": {},
   "source": [
    "I started with the list numbers1 having 100 values, and numbers 2 being empty. Then I copied numbers1 and set it equal to numbers two. Now when I print numbers2, the 100 values show up. "
   ]
  },
  {
   "cell_type": "markdown",
   "id": "c2e89b28",
   "metadata": {},
   "source": [
    "### Question 5\n",
    "\n",
    "Write a function that accepts a list as an argument (assume the list contains integers) and returns the total of the values in the list."
   ]
  },
  {
   "cell_type": "code",
   "execution_count": 2,
   "id": "a651a827",
   "metadata": {},
   "outputs": [
    {
     "ename": "SyntaxError",
     "evalue": "expected ':' (2253317552.py, line 6)",
     "output_type": "error",
     "traceback": [
      "\u001b[1;36m  Cell \u001b[1;32mIn[2], line 6\u001b[1;36m\u001b[0m\n\u001b[1;33m    for number in input_list\u001b[0m\n\u001b[1;37m                            ^\u001b[0m\n\u001b[1;31mSyntaxError\u001b[0m\u001b[1;31m:\u001b[0m expected ':'\n"
     ]
    }
   ],
   "source": [
    "def calculate_total(input_list):\n",
    "    #Initialize the variable\n",
    "    total = 0\n",
    "    \n",
    "    #Iterate over each element in the input list\n",
    "    for number in input_list\n",
    "        #Add the current number to the total\n",
    "        total += number\n",
    "    \n",
    "    #Return the total\n",
    "    return total\n",
    "\n",
    "my_list = [1, 2, 3, 4, 5]\n",
    "result = calculate_total(my_list)\n",
    "print('Total:', result)"
   ]
  },
  {
   "cell_type": "markdown",
   "id": "cd6b6951",
   "metadata": {},
   "source": [
    "I started by initializing the total as zero, so I can add values to the variable later. I then added all the numbers in the imput_list to the total. Finally, I created my list, and printed out the results."
   ]
  },
  {
   "cell_type": "code",
   "execution_count": 3,
   "id": "cd96ad5b",
   "metadata": {},
   "outputs": [
    {
     "name": "stdout",
     "output_type": "stream",
     "text": [
      "Total: 15\n"
     ]
    }
   ],
   "source": [
    "def calculate_total(input_list):\n",
    "    #Initialize the variable\n",
    "    total = 0\n",
    "    \n",
    "    #Iterate over each element in the input list\n",
    "    for number in input_list:\n",
    "        #Add the current number to the total\n",
    "        total += number\n",
    "    \n",
    "    #Return the total\n",
    "    return total\n",
    "\n",
    "my_list = [1, 2, 3, 4, 5]\n",
    "result = calculate_total(my_list)\n",
    "print('Total:', result)"
   ]
  },
  {
   "cell_type": "code",
   "execution_count": 1,
   "id": "b1f95f9a",
   "metadata": {},
   "outputs": [
    {
     "name": "stdout",
     "output_type": "stream",
     "text": [
      "Total: 55\n"
     ]
    }
   ],
   "source": [
    "def calculate_total(input_list):\n",
    "    #Initialize the variable\n",
    "    total = 0\n",
    "    \n",
    "    #Iterate over each element in the input list\n",
    "    for number in input_list:\n",
    "        #Add the current number to the total\n",
    "        total += number\n",
    "    \n",
    "    #Return the total\n",
    "    return total\n",
    "\n",
    "my_list = [1, 2, 3, 4, 5, 6, 7, 8, 9, 10]\n",
    "result = calculate_total(my_list)\n",
    "print('Total:', result)"
   ]
  },
  {
   "cell_type": "code",
   "execution_count": null,
   "id": "19e39ed0",
   "metadata": {},
   "outputs": [],
   "source": [
    "After fixing my error by adding a missing colon, I tried two different lists. the first one was 1 + 2 _"
   ]
  }
 ],
 "metadata": {
  "kernelspec": {
   "display_name": "Python 3 (ipykernel)",
   "language": "python",
   "name": "python3"
  },
  "language_info": {
   "codemirror_mode": {
    "name": "ipython",
    "version": 3
   },
   "file_extension": ".py",
   "mimetype": "text/x-python",
   "name": "python",
   "nbconvert_exporter": "python",
   "pygments_lexer": "ipython3",
   "version": "3.11.5"
  }
 },
 "nbformat": 4,
 "nbformat_minor": 5
}
