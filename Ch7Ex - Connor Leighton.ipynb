{
 "cells": [
  {
   "cell_type": "markdown",
   "id": "65920a36",
   "metadata": {},
   "source": [
    "# Chapter 7 Exercises"
   ]
  },
  {
   "cell_type": "markdown",
   "id": "5c6b5e7a",
   "metadata": {},
   "source": [
    "## Algorithm Workbench"
   ]
  },
  {
   "cell_type": "markdown",
   "id": "6e0ac415",
   "metadata": {},
   "source": [
    "### Question 3\n",
    "\n",
    "Assume the list numbers1 has 100 elements, and numbers2 is an empty list. Write code that copies the values in numbers1 to numbers2."
   ]
  },
  {
   "cell_type": "code",
   "execution_count": 1,
   "id": "5a205390",
   "metadata": {},
   "outputs": [
    {
     "name": "stdout",
     "output_type": "stream",
     "text": [
      "[0, 1, 2, 3, 4, 5, 6, 7, 8, 9, 10, 11, 12, 13, 14, 15, 16, 17, 18, 19, 20, 21, 22, 23, 24, 25, 26, 27, 28, 29, 30, 31, 32, 33, 34, 35, 36, 37, 38, 39, 40, 41, 42, 43, 44, 45, 46, 47, 48, 49, 50, 51, 52, 53, 54, 55, 56, 57, 58, 59, 60, 61, 62, 63, 64, 65, 66, 67, 68, 69, 70, 71, 72, 73, 74, 75, 76, 77, 78, 79, 80, 81, 82, 83, 84, 85, 86, 87, 88, 89, 90, 91, 92, 93, 94, 95, 96, 97, 98, 99]\n"
     ]
    }
   ],
   "source": [
    "numbers1 = [x for x in range(100)]\n",
    "numbers2 = []\n",
    "\n",
    "#Copy values from numbers1 to numbers2\n",
    "numbers2 = numbers1.copy()\n",
    "\n",
    "print(numbers2)"
   ]
  },
  {
   "cell_type": "markdown",
   "id": "4757c3c5",
   "metadata": {},
   "source": [
    "I started with the list numbers1 having 100 values, and numbers 2 being empty. Then I copied numbers1 and set it equal to numbers two. Now when I print numbers2, the 100 values show up. "
   ]
  },
  {
   "cell_type": "markdown",
   "id": "c2e89b28",
   "metadata": {},
   "source": [
    "### Question 5\n",
    "\n",
    "Write a function that accepts a list as an argument (assume the list contains integers) and returns the total of the values in the list."
   ]
  },
  {
   "cell_type": "code",
   "execution_count": 2,
   "id": "a651a827",
   "metadata": {},
   "outputs": [
    {
     "ename": "SyntaxError",
     "evalue": "expected ':' (2253317552.py, line 6)",
     "output_type": "error",
     "traceback": [
      "\u001b[1;36m  Cell \u001b[1;32mIn[2], line 6\u001b[1;36m\u001b[0m\n\u001b[1;33m    for number in input_list\u001b[0m\n\u001b[1;37m                            ^\u001b[0m\n\u001b[1;31mSyntaxError\u001b[0m\u001b[1;31m:\u001b[0m expected ':'\n"
     ]
    }
   ],
   "source": [
    "def calculate_total(input_list):\n",
    "    #Initialize the variable\n",
    "    total = 0\n",
    "    \n",
    "    #Iterate over each element in the input list\n",
    "    for number in input_list\n",
    "        #Add the current number to the total\n",
    "        total += number\n",
    "    \n",
    "    #Return the total\n",
    "    return total\n",
    "\n",
    "my_list = [1, 2, 3, 4, 5]\n",
    "result = calculate_total(my_list)\n",
    "print('Total:', result)"
   ]
  },
  {
   "cell_type": "markdown",
   "id": "95efa0f9",
   "metadata": {},
   "source": [
    "I started by initializing the total as zero, so I can add values to the variable later. I then added all the numbers in the imput_list to the total. Finally, I created my list, and printed out the results."
   ]
  },
  {
   "cell_type": "code",
   "execution_count": 3,
   "id": "cd96ad5b",
   "metadata": {},
   "outputs": [
    {
     "name": "stdout",
     "output_type": "stream",
     "text": [
      "Total: 15\n"
     ]
    }
   ],
   "source": [
    "def calculate_total(input_list):\n",
    "    #Initialize the variable\n",
    "    total = 0\n",
    "    \n",
    "    #Iterate over each element in the input list\n",
    "    for number in input_list:\n",
    "        #Add the current number to the total\n",
    "        total += number\n",
    "    \n",
    "    #Return the total\n",
    "    return total\n",
    "\n",
    "my_list = [1, 2, 3, 4, 5]\n",
    "result = calculate_total(my_list)\n",
    "print('Total:', result)"
   ]
  },
  {
   "cell_type": "code",
   "execution_count": 1,
   "id": "b1f95f9a",
   "metadata": {},
   "outputs": [
    {
     "name": "stdout",
     "output_type": "stream",
     "text": [
      "Total: 55\n"
     ]
    }
   ],
   "source": [
    "def calculate_total(input_list):\n",
    "    #Initialize the variable\n",
    "    total = 0\n",
    "    \n",
    "    #Iterate over each element in the input list\n",
    "    for number in input_list:\n",
    "        #Add the current number to the total\n",
    "        total += number\n",
    "    \n",
    "    #Return the total\n",
    "    return total\n",
    "\n",
    "my_list = [1, 2, 3, 4, 5, 6, 7, 8, 9, 10]\n",
    "result = calculate_total(my_list)\n",
    "print('Total:', result)"
   ]
  },
  {
   "cell_type": "markdown",
   "id": "e6604a73",
   "metadata": {},
   "source": [
    "After fixing my error by adding a missing colon, I tried two different lists. the first one was 1+2+3+4+5=15 and the second one was 1+2+3+4+5+6+7+8+9+10=55. After testing both lists, I recieved the correct output."
   ]
  },
  {
   "cell_type": "markdown",
   "id": "f3d9de27",
   "metadata": {},
   "source": [
    "## Programming Exercises"
   ]
  },
  {
   "cell_type": "markdown",
   "id": "45445a18",
   "metadata": {},
   "source": [
    "### Question 1: Total Sales\n",
    "\n",
    "Design a program that asks the user to enter a store’s sales for each day of the week. The amounts should be stored in a list. Use a loop to calculate the total sales for the week and display the result."
   ]
  },
  {
   "cell_type": "code",
   "execution_count": 3,
   "id": "d91b6ff4",
   "metadata": {},
   "outputs": [
    {
     "name": "stdout",
     "output_type": "stream",
     "text": [
      "Enter sales for Monday: $5\n",
      "Enter sales for Tuesday: $6\n",
      "Enter sales for Wednesday: $4\n",
      "Enter sales for Thursday: $7\n",
      "Enter sales for Friday: $3\n",
      "Enter sales for Saturday: $8\n",
      "Enter sales for Sunday: $2\n",
      "Total sales for the week: $35.00\n"
     ]
    }
   ],
   "source": [
    "def get_sales():\n",
    "    #Initialize an empty list\n",
    "    sales = []\n",
    "\n",
    "    #Get input for sales for each day of the week\n",
    "    for day in ['Monday', 'Tuesday', 'Wednesday', 'Thursday', 'Friday', 'Saturday', 'Sunday']:\n",
    "        #Get input from the user\n",
    "        daily_sales = float(input(f'Enter sales for {day}: $'))\n",
    "        #Append the daily sales to list\n",
    "        sales.append(daily_sales)\n",
    "\n",
    "    return sales\n",
    "\n",
    "def calculate_total(sales):\n",
    "    #Calculate the total sales for the week using the sum function\n",
    "    total_sales = sum(sales)\n",
    "    return total_sales\n",
    "\n",
    "def main():\n",
    "    #Get the sales data from the user\n",
    "    weekly_sales = get_sales()\n",
    "\n",
    "    #Calculate the total sales for the week\n",
    "    total_sales = calculate_total(weekly_sales)\n",
    "\n",
    "    #Display the total sales for the week\n",
    "    print(f'Total sales for the week: ${total_sales:.2f}')\n",
    "\n",
    "if __name__ == \"__main__\":\n",
    "    main()"
   ]
  },
  {
   "cell_type": "markdown",
   "id": "8449cd95",
   "metadata": {},
   "source": [
    "I started by initializing an empty list. Then, I set up variables or each day of the week, and had the user input how much money they made that day. For the calculations, I added them all up using the sum function. Finally, I printed out the total sales for the week."
   ]
  },
  {
   "cell_type": "markdown",
   "id": "b4217905",
   "metadata": {},
   "source": [
    "### Question 14: Expense Pie Chart\n",
    "\n",
    "Create a text file that contains your expenses for last month in the following categories:\n",
    "\n",
    "• Rent\n",
    "\n",
    "• Gas\n",
    "\n",
    "• Food\n",
    "\n",
    "• Clothing\n",
    "\n",
    "• Car payment\n",
    "\n",
    "• Misc\n",
    "\n",
    "Write a Python program that reads the data from the file and uses matplotlib to plot a pie chart showing how you spend your money."
   ]
  },
  {
   "cell_type": "code",
   "execution_count": 4,
   "id": "1648c8bd",
   "metadata": {
    "scrolled": false
   },
   "outputs": [
    {
     "data": {
      "image/png": "[encoded data removed]",
      "text/plain": [
       "<Figure size 800x800 with 1 Axes>"
      ]
     },
     "metadata": {},
     "output_type": "display_data"
    }
   ],
   "source": [
    "import matplotlib.pyplot as plt\n",
    "\n",
    "def read_expenses(filename):\n",
    "    expenses = {}\n",
    "    with open(filename, 'r') as file:\n",
    "        for line in file:\n",
    "            category, amount = line.strip().split()\n",
    "            expenses[category] = float(amount)\n",
    "    return expenses\n",
    "\n",
    "def plot_pie_chart(expenses):\n",
    "    labels = expenses.keys()\n",
    "    amounts = expenses.values()\n",
    "\n",
    "    plt.figure(figsize=(8, 8))\n",
    "    plt.pie(amounts, labels=labels, autopct='%1.1f%%', startangle=140)\n",
    "    plt.title('Expenses Distribution')\n",
    "    plt.axis('equal')\n",
    "    plt.show()\n",
    "\n",
    "def main():\n",
    "    filename = 'expenses.txt'\n",
    "    expenses = read_expenses(filename)\n",
    "    plot_pie_chart(expenses)\n",
    "\n",
    "if __name__ == \"__main__\":\n",
    "    main()"
   ]
  },
  {
   "cell_type": "markdown",
   "id": "e0a08cb5",
   "metadata": {},
   "source": [
    "I started out with importing matplotlib (which I forgot to install) and opening up the file called expenses.txt. Then, with some help from chatgpt, I added plot_pie_chart which was for adding the title \"Expenses Distribution\". Finally, I added the main function to plot the pie chart."
   ]
  },
  {
   "cell_type": "code",
   "execution_count": 5,
   "id": "23e68756",
   "metadata": {},
   "outputs": [
    {
     "data": {
      "image/png": "[encoded data removed]",
      "text/plain": [
       "<Figure size 800x800 with 1 Axes>"
      ]
     },
     "metadata": {},
     "output_type": "display_data"
    }
   ],
   "source": [
    "import matplotlib.pyplot as plt\n",
    "\n",
    "def read_expenses(filename):\n",
    "    expenses = {}\n",
    "    with open(filename, 'r') as file:\n",
    "        for line in file:\n",
    "            category, amount = line.strip().split()\n",
    "            expenses[category] = float(amount)\n",
    "    return expenses\n",
    "\n",
    "def plot_pie_chart(expenses):\n",
    "    labels = expenses.keys()\n",
    "    amounts = expenses.values()\n",
    "\n",
    "    plt.figure(figsize=(8, 8))\n",
    "    plt.pie(amounts, labels=labels, autopct='%1.1f%%', startangle=140)\n",
    "    plt.title('Expenses Distribution')\n",
    "    plt.axis('equal')\n",
    "    plt.show()\n",
    "\n",
    "def main():\n",
    "    filename = 'expenses.txt'\n",
    "    expenses = read_expenses(filename)\n",
    "    plot_pie_chart(expenses)\n",
    "\n",
    "if __name__ == \"__main__\":\n",
    "    main()"
   ]
  },
  {
   "cell_type": "markdown",
   "id": "f19cb782",
   "metadata": {},
   "source": [
    "I realized I never downloaded matplotlib so I tried downloading it and retrying the code, which again didn't work"
   ]
  },
  {
   "cell_type": "code",
   "execution_count": 6,
   "id": "b6e4aafb",
   "metadata": {},
   "outputs": [
    {
     "data": {
      "image/png": "[encoded data removed]",
      "text/plain": [
       "<Figure size 800x800 with 1 Axes>"
      ]
     },
     "metadata": {},
     "output_type": "display_data"
    }
   ],
   "source": [
    "import matplotlib.pyplot as plt\n",
    "\n",
    "def read_expenses(filename):\n",
    "    expenses = {}\n",
    "    with open(filename, 'r') as file:\n",
    "        for line in file:\n",
    "            category, amount = line.strip().split()\n",
    "            expenses[category] = float(amount)\n",
    "    return expenses\n",
    "\n",
    "def plot_pie_chart(expenses):\n",
    "    labels = expenses.keys()\n",
    "    amounts = expenses.values()\n",
    "\n",
    "    plt.figure(figsize=(8, 8))\n",
    "    plt.pie(amounts, labels=labels, autopct='%1.1f%%', startangle=140)\n",
    "    plt.title('Expenses Distribution')\n",
    "    plt.axis('equal')\n",
    "    plt.show()\n",
    "\n",
    "def main():\n",
    "    filename = 'expenses.txt'\n",
    "    expenses = read_expenses(filename)\n",
    "    plot_pie_chart(expenses)\n",
    "\n",
    "if __name__ == \"__main__\":\n",
    "    main()"
   ]
  },
  {
   "cell_type": "markdown",
   "id": "04d5b844",
   "metadata": {},
   "source": [
    "the same thing happened here I was struggling with downloading matplotlib"
   ]
  },
  {
   "cell_type": "code",
   "execution_count": 7,
   "id": "8814a409",
   "metadata": {},
   "outputs": [
    {
     "name": "stdout",
     "output_type": "stream",
     "text": [
      "Requirement already satisfied: matplotlib in c:\\users\\conl8\\anaconda3\\lib\\site-packages (3.7.2)\n",
      "Requirement already satisfied: contourpy>=1.0.1 in c:\\users\\conl8\\anaconda3\\lib\\site-packages (from matplotlib) (1.0.5)\n",
      "Requirement already satisfied: cycler>=0.10 in c:\\users\\conl8\\anaconda3\\lib\\site-packages (from matplotlib) (0.11.0)\n",
      "Requirement already satisfied: fonttools>=4.22.0 in c:\\users\\conl8\\anaconda3\\lib\\site-packages (from matplotlib) (4.25.0)\n",
      "Requirement already satisfied: kiwisolver>=1.0.1 in c:\\users\\conl8\\anaconda3\\lib\\site-packages (from matplotlib) (1.4.4)\n",
      "Requirement already satisfied: numpy>=1.20 in c:\\users\\conl8\\anaconda3\\lib\\site-packages (from matplotlib) (1.24.3)\n",
      "Requirement already satisfied: packaging>=20.0 in c:\\users\\conl8\\anaconda3\\lib\\site-packages (from matplotlib) (23.1)\n",
      "Requirement already satisfied: pillow>=6.2.0 in c:\\users\\conl8\\anaconda3\\lib\\site-packages (from matplotlib) (10.0.1)\n",
      "Requirement already satisfied: pyparsing<3.1,>=2.3.1 in c:\\users\\conl8\\anaconda3\\lib\\site-packages (from matplotlib) (3.0.9)\n",
      "Requirement already satisfied: python-dateutil>=2.7 in c:\\users\\conl8\\anaconda3\\lib\\site-packages (from matplotlib) (2.8.2)\n",
      "Requirement already satisfied: six>=1.5 in c:\\users\\conl8\\anaconda3\\lib\\site-packages (from python-dateutil>=2.7->matplotlib) (1.16.0)\n"
     ]
    }
   ],
   "source": [
    "!pip install matplotlib"
   ]
  },
  {
   "cell_type": "markdown",
   "id": "c95c17f2",
   "metadata": {},
   "source": [
    "Here I finally got it downloaded, so I tried my code again"
   ]
  },
  {
   "cell_type": "code",
   "execution_count": 21,
   "id": "dbe3de74",
   "metadata": {},
   "outputs": [
    {
     "name": "stdout",
     "output_type": "stream",
     "text": [
      "Rent\n",
      "Gas\n",
      "Food\n",
      "Clothing\n"
     ]
    },
    {
     "ename": "ValueError",
     "evalue": "too many values to unpack (expected 2)",
     "output_type": "error",
     "traceback": [
      "\u001b[1;31m---------------------------------------------------------------------------\u001b[0m",
      "\u001b[1;31mValueError\u001b[0m                                Traceback (most recent call last)",
      "Cell \u001b[1;32mIn[21], line 28\u001b[0m\n\u001b[0;32m     25\u001b[0m     plot_pie_chart(expenses)\n\u001b[0;32m     27\u001b[0m \u001b[38;5;28;01mif\u001b[39;00m \u001b[38;5;18m__name__\u001b[39m \u001b[38;5;241m==\u001b[39m \u001b[38;5;124m\"\u001b[39m\u001b[38;5;124m__main__\u001b[39m\u001b[38;5;124m\"\u001b[39m:\n\u001b[1;32m---> 28\u001b[0m     main()\n",
      "Cell \u001b[1;32mIn[21], line 24\u001b[0m, in \u001b[0;36mmain\u001b[1;34m()\u001b[0m\n\u001b[0;32m     22\u001b[0m \u001b[38;5;28;01mdef\u001b[39;00m \u001b[38;5;21mmain\u001b[39m():\n\u001b[0;32m     23\u001b[0m     filename \u001b[38;5;241m=\u001b[39m \u001b[38;5;124m'\u001b[39m\u001b[38;5;124mexpenses.txt\u001b[39m\u001b[38;5;124m'\u001b[39m\n\u001b[1;32m---> 24\u001b[0m     expenses \u001b[38;5;241m=\u001b[39m read_expenses(filename)\n\u001b[0;32m     25\u001b[0m     plot_pie_chart(expenses)\n",
      "Cell \u001b[1;32mIn[21], line 7\u001b[0m, in \u001b[0;36mread_expenses\u001b[1;34m(filename)\u001b[0m\n\u001b[0;32m      5\u001b[0m \u001b[38;5;28;01mwith\u001b[39;00m \u001b[38;5;28mopen\u001b[39m(filename, \u001b[38;5;124m'\u001b[39m\u001b[38;5;124mr\u001b[39m\u001b[38;5;124m'\u001b[39m) \u001b[38;5;28;01mas\u001b[39;00m file:\n\u001b[0;32m      6\u001b[0m     \u001b[38;5;28;01mfor\u001b[39;00m line \u001b[38;5;129;01min\u001b[39;00m file:\n\u001b[1;32m----> 7\u001b[0m         (category, amount) \u001b[38;5;241m=\u001b[39m line\u001b[38;5;241m.\u001b[39mstrip()\u001b[38;5;241m.\u001b[39msplit()\n\u001b[0;32m      8\u001b[0m         expenses[category] \u001b[38;5;241m=\u001b[39m \u001b[38;5;28mfloat\u001b[39m(amount)\n\u001b[0;32m      9\u001b[0m         \u001b[38;5;28mprint\u001b[39m(category)\n",
      "\u001b[1;31mValueError\u001b[0m: too many values to unpack (expected 2)"
     ]
    }
   ],
   "source": [
    "import matplotlib.pyplot as plt\n",
    "\n",
    "def read_expenses(filename):\n",
    "    expenses = {}\n",
    "    with open(filename, 'r') as file:\n",
    "        for line in file:\n",
    "            (category, amount) = line.strip().split()\n",
    "            expenses[category] = float(amount)\n",
    "            print(category)\n",
    "    return expenses\n",
    "\n",
    "def plot_pie_chart(expenses):\n",
    "    labels = expenses.keys()\n",
    "    amounts = expenses.values()\n",
    "\n",
    "    plt.figure(figsize=(8, 8))\n",
    "    plt.pie(amounts, labels=labels, autopct='%1.1f%%', startangle=140)\n",
    "    plt.title('Expenses Distribution')\n",
    "    plt.axis('equal')\n",
    "    plt.show()\n",
    "\n",
    "def main():\n",
    "    filename = 'expenses.txt'\n",
    "    expenses = read_expenses(filename)\n",
    "    plot_pie_chart(expenses)\n",
    "\n",
    "if __name__ == \"__main__\":\n",
    "    main()"
   ]
  },
  {
   "cell_type": "markdown",
   "id": "00efdf6e",
   "metadata": {},
   "source": [
    "I got an error message here all because I made \"car payment\" two words, so the code got confused."
   ]
  },
  {
   "cell_type": "code",
   "execution_count": 22,
   "id": "fc57a7fe",
   "metadata": {},
   "outputs": [
    {
     "name": "stdout",
     "output_type": "stream",
     "text": [
      "Rent\n",
      "Gas\n",
      "Food\n",
      "Clothing\n",
      "Car_Payment\n",
      "Misc\n"
     ]
    },
    {
     "data": {
      "image/png": "[encoded data removed]",
      "text/plain": [
       "<Figure size 800x800 with 1 Axes>"
      ]
     },
     "metadata": {},
     "output_type": "display_data"
    }
   ],
   "source": [
    "import matplotlib.pyplot as plt\n",
    "\n",
    "def read_expenses(filename):\n",
    "    expenses = {}\n",
    "    with open(filename, 'r') as file:\n",
    "        for line in file:\n",
    "            (category, amount) = line.strip().split()\n",
    "            expenses[category] = float(amount)\n",
    "            print(category)\n",
    "    return expenses\n",
    "\n",
    "def plot_pie_chart(expenses):\n",
    "    labels = expenses.keys()\n",
    "    amounts = expenses.values()\n",
    "\n",
    "    plt.figure(figsize=(8, 8))\n",
    "    plt.pie(amounts, labels=labels, autopct='%1.1f%%', startangle=140)\n",
    "    plt.title('Expenses Distribution')\n",
    "    plt.axis('equal')\n",
    "    plt.show()\n",
    "\n",
    "def main():\n",
    "    filename = 'expenses.txt'\n",
    "    expenses = read_expenses(filename)\n",
    "    plot_pie_chart(expenses)\n",
    "\n",
    "if __name__ == \"__main__\":\n",
    "    main()"
   ]
  },
  {
   "cell_type": "markdown",
   "id": "d144809a",
   "metadata": {},
   "source": [
    "### Question 3: Rainfall Statistics\n",
    "\n",
    "Design a program that lets the user enter the total rainfall for each of 12 months into a list. The program should calculate and display the total rainfall for the year, the average monthly rainfall, the months with the highest and lowest amounts."
   ]
  },
  {
   "cell_type": "code",
   "execution_count": 23,
   "id": "b5b39a61",
   "metadata": {},
   "outputs": [
    {
     "name": "stdout",
     "output_type": "stream",
     "text": [
      "Enter rainfall for month 1: 2\n",
      "Enter rainfall for month 1: 2.5\n",
      "Enter rainfall for month 1: 6\n",
      "Enter rainfall for month 1: 4\n",
      "Enter rainfall for month 1: 24\n",
      "Enter rainfall for month 1: 43\n",
      "Enter rainfall for month 1: 243\n",
      "Enter rainfall for month 1: 4\n",
      "Enter rainfall for month 1: 5\n",
      "Enter rainfall for month 1: 43.5\n",
      "Enter rainfall for month 1: 2\n",
      "Enter rainfall for month 1: 5\n",
      "Enter rainfall for month 1: 6\n",
      "Enter rainfall for month 1: 7\n",
      "Enter rainfall for month 1: 4\n",
      "Enter rainfall for month 1: 3\n",
      "Enter rainfall for month 1: 2\n",
      "Enter rainfall for month 1: 3\n",
      "Enter rainfall for month 1: 4\n",
      "Enter rainfall for month 1: 5\n",
      "Enter rainfall for month 1: 6\n",
      "Enter rainfall for month 1: 6\n",
      "Enter rainfall for month 1: 3\n",
      "Enter rainfall for month 1: \n"
     ]
    },
    {
     "ename": "ValueError",
     "evalue": "could not convert string to float: ''",
     "output_type": "error",
     "traceback": [
      "\u001b[1;31m---------------------------------------------------------------------------\u001b[0m",
      "\u001b[1;31mValueError\u001b[0m                                Traceback (most recent call last)",
      "Cell \u001b[1;32mIn[23], line 35\u001b[0m\n\u001b[0;32m     31\u001b[0m     \u001b[38;5;28mprint\u001b[39m(\u001b[38;5;124mf\u001b[39m\u001b[38;5;124m'\u001b[39m\u001b[38;5;124mMonth with the lowest rainfall: Month \u001b[39m\u001b[38;5;132;01m{\u001b[39;00mmin_month\u001b[38;5;132;01m}\u001b[39;00m\u001b[38;5;124m with \u001b[39m\u001b[38;5;132;01m{\u001b[39;00mmin_rainfall\u001b[38;5;132;01m}\u001b[39;00m\u001b[38;5;124m units\u001b[39m\u001b[38;5;124m'\u001b[39m)\n\u001b[0;32m     34\u001b[0m \u001b[38;5;28;01mif\u001b[39;00m \u001b[38;5;18m__name__\u001b[39m \u001b[38;5;241m==\u001b[39m \u001b[38;5;124m\"\u001b[39m\u001b[38;5;124m__main__\u001b[39m\u001b[38;5;124m\"\u001b[39m:\n\u001b[1;32m---> 35\u001b[0m     main()\n",
      "Cell \u001b[1;32mIn[23], line 8\u001b[0m, in \u001b[0;36mmain\u001b[1;34m()\u001b[0m\n\u001b[0;32m      6\u001b[0m \u001b[38;5;28;01mfor\u001b[39;00m month \u001b[38;5;129;01min\u001b[39;00m \u001b[38;5;28mrange\u001b[39m(\u001b[38;5;241m1\u001b[39m, \u001b[38;5;241m13\u001b[39m):\n\u001b[0;32m      7\u001b[0m     \u001b[38;5;28;01mwhile\u001b[39;00m \u001b[38;5;28;01mTrue\u001b[39;00m:\n\u001b[1;32m----> 8\u001b[0m         rain \u001b[38;5;241m=\u001b[39m \u001b[38;5;28mfloat\u001b[39m(\u001b[38;5;28minput\u001b[39m(\u001b[38;5;124mf\u001b[39m\u001b[38;5;124m'\u001b[39m\u001b[38;5;124mEnter rainfall for month \u001b[39m\u001b[38;5;132;01m{\u001b[39;00mmonth\u001b[38;5;132;01m}\u001b[39;00m\u001b[38;5;124m: \u001b[39m\u001b[38;5;124m'\u001b[39m))\n\u001b[0;32m     10\u001b[0m     rainfall\u001b[38;5;241m.\u001b[39mappend(rain)\n\u001b[0;32m     12\u001b[0m \u001b[38;5;66;03m#Calculate total rainfall\u001b[39;00m\n",
      "\u001b[1;31mValueError\u001b[0m: could not convert string to float: ''"
     ]
    }
   ],
   "source": [
    "def main():\n",
    "    #Initialize a list to store rainfall for each month\n",
    "    rainfall = []\n",
    "\n",
    "    #get the user input for each month\n",
    "    for month in range(1, 13):\n",
    "        while True:\n",
    "            rain = float(input(f'Enter rainfall for month {month}: '))\n",
    "\n",
    "        rainfall.append(rain)\n",
    "\n",
    "    #Calculate total rainfall\n",
    "    total_rainfall = sum(rainfall)\n",
    "\n",
    "    #Calculate average monthly rainfall\n",
    "    average_rainfall = total_rainfall / len(rainfall)\n",
    "\n",
    "    #Find month with highest rainfall\n",
    "    max_rainfall = max(rainfall)\n",
    "    max_month = rainfall.index(max_rainfall) + 1\n",
    "\n",
    "    #Find month with lowest rainfall\n",
    "    min_rainfall = min(rainfall)\n",
    "    min_month = rainfall.index(min_rainfall) + 1\n",
    "\n",
    "    #Display results\n",
    "    print('\\nRainfall Statistics:')\n",
    "    print(f'Total rainfall for the year: {total_rainfall} units')\n",
    "    print(f'Average monthly rainfall: {average_rainfall} units')\n",
    "    print(f'Month with the highest rainfall: Month {max_month} with {max_rainfall} units')\n",
    "    print(f'Month with the lowest rainfall: Month {min_month} with {min_rainfall} units')\n",
    "\n",
    "\n",
    "if __name__ == \"__main__\":\n",
    "    main()"
   ]
  },
  {
   "cell_type": "markdown",
   "id": "f2031daa",
   "metadata": {},
   "source": [
    "I started out with initializing the list and setting the range from 1-13. To calculate the total rainfall, I used the sum function, for average, i divided the total by the amount. to find the max and min, I used the max and min functions. Finally, I displayed the results. When I ran the code, the month number never increased. To fix this, I need to add a break statement to stop the infinite loop, as well as a try/except statement for any possible value errors."
   ]
  },
  {
   "cell_type": "code",
   "execution_count": 24,
   "id": "a08e167c",
   "metadata": {},
   "outputs": [
    {
     "name": "stdout",
     "output_type": "stream",
     "text": [
      "Enter rainfall for month 1: 5\n",
      "Enter rainfall for month 2: 2\n",
      "Enter rainfall for month 3: 3\n",
      "Enter rainfall for month 4: 2.3\n",
      "Enter rainfall for month 5: 6.3\n",
      "Enter rainfall for month 6: 12\n",
      "Enter rainfall for month 7: 4.7\n",
      "Enter rainfall for month 8: 3.4\n",
      "Enter rainfall for month 9: 9\n",
      "Enter rainfall for month 10: 0.12\n",
      "Enter rainfall for month 11: 2.5\n",
      "Enter rainfall for month 12: 2.2\n",
      "\n",
      "Rainfall Statistics:\n",
      "Total rainfall for the year: 52.52 units\n",
      "Average monthly rainfall: 4.376666666666667 units\n",
      "Month with the highest rainfall: Month 6 with 12.0 units\n",
      "Month with the lowest rainfall: Month 10 with 0.12 units\n"
     ]
    }
   ],
   "source": [
    "def main():\n",
    "    #Initialize a list to store rainfall for each month\n",
    "    rainfall = []\n",
    "\n",
    "    #get the user input for each month\n",
    "    for month in range(1, 13):\n",
    "        while True:\n",
    "            try:\n",
    "                rain = float(input(f'Enter rainfall for month {month}: '))\n",
    "                break\n",
    "            except ValueError:\n",
    "                print(\"Invalid input. Please enter a number.\")\n",
    "                \n",
    "        rainfall.append(rain)\n",
    "\n",
    "    #Calculate total rainfall\n",
    "    total_rainfall = sum(rainfall)\n",
    "\n",
    "    #Calculate average monthly rainfall\n",
    "    average_rainfall = total_rainfall / len(rainfall)\n",
    "\n",
    "    #Find month with highest rainfall\n",
    "    max_rainfall = max(rainfall)\n",
    "    max_month = rainfall.index(max_rainfall) + 1\n",
    "\n",
    "    #Find month with lowest rainfall\n",
    "    min_rainfall = min(rainfall)\n",
    "    min_month = rainfall.index(min_rainfall) + 1\n",
    "\n",
    "    #Display results\n",
    "    print('\\nRainfall Statistics:')\n",
    "    print(f'Total rainfall for the year: {total_rainfall} units')\n",
    "    print(f'Average monthly rainfall: {average_rainfall} units')\n",
    "    print(f'Month with the highest rainfall: Month {max_month} with {max_rainfall} units')\n",
    "    print(f'Month with the lowest rainfall: Month {min_month} with {min_rainfall} units')\n",
    "\n",
    "\n",
    "if __name__ == \"__main__\":\n",
    "    main()"
   ]
  },
  {
   "cell_type": "markdown",
   "id": "08b4c668",
   "metadata": {},
   "source": [
    "### Question 6: Larger Than n\n",
    "\n",
    "In a program, write a function that accepts two arguments: a list, and a number n. Assume that the list contains numbers. The function should display all of the numbers in the list that are greater than the number n."
   ]
  },
  {
   "cell_type": "code",
   "execution_count": 25,
   "id": "2a76a1cd",
   "metadata": {},
   "outputs": [
    {
     "name": "stdout",
     "output_type": "stream",
     "text": [
      "Numbers greater than 25:\n",
      "35\n",
      "86\n",
      "50\n"
     ]
    }
   ],
   "source": [
    "def display_numbers_greater_than_n(numbers, n):\n",
    "\n",
    "    #Iterate through the list and print numbers greater than n\n",
    "    for num in numbers:\n",
    "        if num > n:\n",
    "            print(num)\n",
    "\n",
    "numbers_list = [35, 86, 13, 3, 50]\n",
    "threshold = 25\n",
    "print(f'Numbers greater than {threshold}:')\n",
    "display_numbers_greater_than_n(numbers_list, threshold)"
   ]
  },
  {
   "cell_type": "code",
   "execution_count": null,
   "id": "f6b15663",
   "metadata": {},
   "outputs": [],
   "source": []
  }
 ],
 "metadata": {
  "kernelspec": {
   "display_name": "Python 3 (ipykernel)",
   "language": "python",
   "name": "python3"
  },
  "language_info": {
   "codemirror_mode": {
    "name": "ipython",
    "version": 3
   },
   "file_extension": ".py",
   "mimetype": "text/x-python",
   "name": "python",
   "nbconvert_exporter": "python",
   "pygments_lexer": "ipython3",
   "version": "3.11.5"
  }
 },
 "nbformat": 4,
 "nbformat_minor": 5
}
