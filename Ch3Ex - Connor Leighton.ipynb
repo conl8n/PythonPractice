{
 "cells": [
  {
   "cell_type": "markdown",
   "id": "43a070da",
   "metadata": {},
   "source": [
    "# Chapter 3 Exercises"
   ]
  },
  {
   "cell_type": "markdown",
   "id": "0ae87322",
   "metadata": {},
   "source": [
    "## Algorithm Workbench"
   ]
  },
  {
   "cell_type": "markdown",
   "id": "e2144446",
   "metadata": {},
   "source": [
    "### Problem 4\n",
    "\n",
    "The following code contains several nested if-else statements. Unfortunately, it was written without proper alignment and indentation. Rewrite the code and use the proper conventions of alignment and indentation.\n",
    "\n",
    "if score >= A_score:\n",
    "\n",
    "print('Your grade is A.')\n",
    "\n",
    "else:\n",
    "\n",
    "if score >= B_score:\n",
    "\n",
    "print('Your grade is B.')\n",
    "\n",
    "else:\n",
    "\n",
    "if score >= C_score:\n",
    "\n",
    "print('Your grade is C.')\n",
    "\n",
    "else:\n",
    "\n",
    "if score >= D_score:\n",
    "\n",
    "print('Your grade is D.')\n",
    "\n",
    "else:\n",
    "\n",
    "print('Your grade is F.')"
   ]
  },
  {
   "cell_type": "code",
   "execution_count": 1,
   "id": "5d0ef594",
   "metadata": {},
   "outputs": [
    {
     "ename": "NameError",
     "evalue": "name 'score' is not defined",
     "output_type": "error",
     "traceback": [
      "\u001b[1;31m---------------------------------------------------------------------------\u001b[0m",
      "\u001b[1;31mNameError\u001b[0m                                 Traceback (most recent call last)",
      "Cell \u001b[1;32mIn[1], line 1\u001b[0m\n\u001b[1;32m----> 1\u001b[0m \u001b[38;5;28;01mif\u001b[39;00m score \u001b[38;5;241m>\u001b[39m\u001b[38;5;241m=\u001b[39m A_score:\n\u001b[0;32m      3\u001b[0m     \u001b[38;5;28mprint\u001b[39m(\u001b[38;5;124m'\u001b[39m\u001b[38;5;124mYour grade is A.\u001b[39m\u001b[38;5;124m'\u001b[39m)\n\u001b[0;32m      5\u001b[0m \u001b[38;5;28;01melse\u001b[39;00m:\n",
      "\u001b[1;31mNameError\u001b[0m: name 'score' is not defined"
     ]
    }
   ],
   "source": [
    "if score >= A_score:\n",
    "\n",
    "    print('Your grade is A.')\n",
    "\n",
    "else:\n",
    "\n",
    "    if score >= B_score:\n",
    "\n",
    "        print('Your grade is B.')\n",
    "\n",
    "    else:\n",
    "\n",
    "        if score >= C_score:\n",
    "\n",
    "            print('Your grade is C.')\n",
    "\n",
    "        else:\n",
    "\n",
    "            if score >= D_score:\n",
    "\n",
    "                print('Your grade is D.')\n",
    "\n",
    "            else:\n",
    "\n",
    "                print('Your grade is F.')"
   ]
  },
  {
   "cell_type": "markdown",
   "id": "2e2e31c7",
   "metadata": {},
   "source": [
    "In the textbook, it said the if and else clause should be aligned while the statements should be indented. Therefore, the first print statement should be indented, and every line after should follow that same format, adding another indent each time. "
   ]
  },
  {
   "cell_type": "markdown",
   "id": "0a56b051",
   "metadata": {},
   "source": [
    "### Problem 5\n",
    "\n",
    "Write nested decision structures that perform the following: If amount1 is greater than 10 and amount2 is less than 100, display the greater of amount1 and amount2."
   ]
  },
  {
   "cell_type": "markdown",
   "id": "7024a106",
   "metadata": {},
   "source": [
    "## Programming Exercises"
   ]
  },
  {
   "cell_type": "markdown",
   "id": "8de5fcb2",
   "metadata": {},
   "source": [
    "### Problem 1 Day of the Week \n",
    "\n",
    "Write a program that asks the user for a number in the range of 1 through 7. The program should display the corresponding day of the week, where 1 = Monday, 2 = Tuesday, 3 = Wednesday, 4 = Thursday, 5 = Friday, 6 = Saturday, and 7 = Sunday. The program should display an error message if the user enters a number that is outside the range of 1 through 7."
   ]
  },
  {
   "cell_type": "code",
   "execution_count": 39,
   "id": "8b7f9216",
   "metadata": {},
   "outputs": [
    {
     "ename": "SyntaxError",
     "evalue": "invalid syntax. Maybe you meant '==' or ':=' instead of '='? (3712911332.py, line 2)",
     "output_type": "error",
     "traceback": [
      "\u001b[1;36m  Cell \u001b[1;32mIn[39], line 2\u001b[1;36m\u001b[0m\n\u001b[1;33m    if day = 1:\u001b[0m\n\u001b[1;37m       ^\u001b[0m\n\u001b[1;31mSyntaxError\u001b[0m\u001b[1;31m:\u001b[0m invalid syntax. Maybe you meant '==' or ':=' instead of '='?\n"
     ]
    }
   ],
   "source": [
    "day = int(input('Pick a number between 1 and 7: '))\n",
    "if day = 1:\n",
    "    Print('Your day is Monday!')\n",
    "elif day = 2:\n",
    "    Print('Your day is Tuesday!')\n",
    "elif day = 3:\n",
    "    Print('Your day is Wednesday!')\n",
    "elif day = 4:\n",
    "    Print('Your day is Thursday!')\n",
    "elif day = 5:\n",
    "    Print('Your day is Friday!')\n",
    "elif day = 6:\n",
    "    Print('Your day is Saturday!')\n",
    "elif day = 7:\n",
    "    Print('Your day is Sunday!')"
   ]
  },
  {
   "cell_type": "markdown",
   "id": "8e6568c7",
   "metadata": {},
   "source": [
    "I recieved an error message for using only one equal sign rather than 2. I will change all the equal signs in the if statements to double equal signs."
   ]
  },
  {
   "cell_type": "code",
   "execution_count": 40,
   "id": "2a000c37",
   "metadata": {},
   "outputs": [
    {
     "name": "stdout",
     "output_type": "stream",
     "text": [
      "Pick a number between 1 and 7: 3\n"
     ]
    },
    {
     "ename": "NameError",
     "evalue": "name 'Print' is not defined",
     "output_type": "error",
     "traceback": [
      "\u001b[1;31m---------------------------------------------------------------------------\u001b[0m",
      "\u001b[1;31mNameError\u001b[0m                                 Traceback (most recent call last)",
      "Cell \u001b[1;32mIn[40], line 7\u001b[0m\n\u001b[0;32m      5\u001b[0m     Print(\u001b[38;5;124m'\u001b[39m\u001b[38;5;124mYour day is Tuesday!\u001b[39m\u001b[38;5;124m'\u001b[39m)\n\u001b[0;32m      6\u001b[0m \u001b[38;5;28;01melif\u001b[39;00m day \u001b[38;5;241m==\u001b[39m \u001b[38;5;241m3\u001b[39m:\n\u001b[1;32m----> 7\u001b[0m     Print(\u001b[38;5;124m'\u001b[39m\u001b[38;5;124mYour day is Wednesday!\u001b[39m\u001b[38;5;124m'\u001b[39m)\n\u001b[0;32m      8\u001b[0m \u001b[38;5;28;01melif\u001b[39;00m day \u001b[38;5;241m==\u001b[39m \u001b[38;5;241m4\u001b[39m:\n\u001b[0;32m      9\u001b[0m     Print(\u001b[38;5;124m'\u001b[39m\u001b[38;5;124mYour day is Thursday!\u001b[39m\u001b[38;5;124m'\u001b[39m)\n",
      "\u001b[1;31mNameError\u001b[0m: name 'Print' is not defined"
     ]
    }
   ],
   "source": [
    "day = int(input('Pick a number between 1 and 7: '))\n",
    "if day == 1:\n",
    "    Print('Your day is Monday!')\n",
    "elif day == 2:\n",
    "    Print('Your day is Tuesday!')\n",
    "elif day == 3:\n",
    "    Print('Your day is Wednesday!')\n",
    "elif day == 4:\n",
    "    Print('Your day is Thursday!')\n",
    "elif day == 5:\n",
    "    Print('Your day is Friday!')\n",
    "elif day == 6:\n",
    "    Print('Your day is Saturday!')\n",
    "elif day == 7:\n",
    "    Print('Your day is Sunday!')"
   ]
  },
  {
   "cell_type": "markdown",
   "id": "df863505",
   "metadata": {},
   "source": [
    "This was not printing as the p in print was capitalized. I will change all the \"P\"s to \"p\"s"
   ]
  },
  {
   "cell_type": "code",
   "execution_count": 41,
   "id": "58ad29be",
   "metadata": {},
   "outputs": [
    {
     "name": "stdout",
     "output_type": "stream",
     "text": [
      "Pick a number between 1 and 7: 3\n",
      "Your day is Wednesday!\n"
     ]
    }
   ],
   "source": [
    "day = int(input('Pick a number between 1 and 7: '))\n",
    "if day == 1:\n",
    "    print('Your day is Monday!')\n",
    "elif day == 2:\n",
    "    print('Your day is Tuesday!')\n",
    "elif day == 3:\n",
    "    print('Your day is Wednesday!')\n",
    "elif day == 4:\n",
    "    print('Your day is Thursday!')\n",
    "elif day == 5:\n",
    "    print('Your day is Friday!')\n",
    "elif day == 6:\n",
    "    print('Your day is Saturday!')\n",
    "elif day == 7:\n",
    "    print('Your day is Sunday!')"
   ]
  },
  {
   "cell_type": "code",
   "execution_count": 42,
   "id": "181ca741",
   "metadata": {},
   "outputs": [
    {
     "name": "stdout",
     "output_type": "stream",
     "text": [
      "Pick a number between 1 and 7: 7\n",
      "Your day is Sunday!\n"
     ]
    }
   ],
   "source": [
    "day = int(input('Pick a number between 1 and 7: '))\n",
    "if day == 1:\n",
    "    print('Your day is Monday!')\n",
    "elif day == 2:\n",
    "    print('Your day is Tuesday!')\n",
    "elif day == 3:\n",
    "    print('Your day is Wednesday!')\n",
    "elif day == 4:\n",
    "    print('Your day is Thursday!')\n",
    "elif day == 5:\n",
    "    print('Your day is Friday!')\n",
    "elif day == 6:\n",
    "    print('Your day is Saturday!')\n",
    "elif day == 7:\n",
    "    print('Your day is Sunday!')"
   ]
  },
  {
   "cell_type": "code",
   "execution_count": 43,
   "id": "f7f7e847",
   "metadata": {},
   "outputs": [
    {
     "name": "stdout",
     "output_type": "stream",
     "text": [
      "Pick a number between 1 and 7: 9\n"
     ]
    }
   ],
   "source": [
    "day = int(input('Pick a number between 1 and 7: '))\n",
    "if day == 1:\n",
    "    print('Your day is Monday!')\n",
    "elif day == 2:\n",
    "    print('Your day is Tuesday!')\n",
    "elif day == 3:\n",
    "    print('Your day is Wednesday!')\n",
    "elif day == 4:\n",
    "    print('Your day is Thursday!')\n",
    "elif day == 5:\n",
    "    print('Your day is Friday!')\n",
    "elif day == 6:\n",
    "    print('Your day is Saturday!')\n",
    "elif day == 7:\n",
    "    print('Your day is Sunday!')"
   ]
  },
  {
   "cell_type": "markdown",
   "id": "0b843421",
   "metadata": {},
   "source": [
    "the numbers between 1 and 7 work fine, but the numbers outside of that domain do not display an error message. I will need to add an else statement for this"
   ]
  },
  {
   "cell_type": "code",
   "execution_count": null,
   "id": "0a0f6ea9",
   "metadata": {},
   "outputs": [],
   "source": [
    "day = int(input('Pick a number between 1 and 7: '))\n",
    "if day == 1:\n",
    "    print('Your day is Monday!')\n",
    "elif day == 2:\n",
    "    print('Your day is Tuesday!')\n",
    "elif day == 3:\n",
    "    print('Your day is Wednesday!')\n",
    "elif day == 4:\n",
    "    print('Your day is Thursday!')\n",
    "elif day == 5:\n",
    "    print('Your day is Friday!')\n",
    "elif day == 6:\n",
    "    print('Your day is Saturday!')\n",
    "elif day == 7:\n",
    "    print('Your day is Sunday!')\n",
    "else:\n",
    "    print('The number is outside the range')"
   ]
  },
  {
   "cell_type": "code",
   "execution_count": null,
   "id": "edf100b8",
   "metadata": {},
   "outputs": [],
   "source": []
  },
  {
   "cell_type": "markdown",
   "id": "a0d4f2e5",
   "metadata": {},
   "source": [
    "### Problem 5 Mass and Weight\n",
    "\n",
    "Scientists measure an object’s mass in kilograms and its weight in newtons. If you know the amount of mass of an object in kilograms, you can calculate its weight in newtons with the following formula:\n",
    "\n",
    "weight = mass * 9.8\n",
    "\n",
    "Write a program that asks the user to enter an object’s mass, then calculates its weight. If the object weighs more than 500 newtons, display a message indicating that it is too heavy. If the object weighs less than 100 newtons, display a message indicating that it is too light."
   ]
  },
  {
   "cell_type": "code",
   "execution_count": 34,
   "id": "d0e2538d",
   "metadata": {},
   "outputs": [
    {
     "name": "stdout",
     "output_type": "stream",
     "text": [
      "enter mass in kilograms: 60\n"
     ]
    },
    {
     "ename": "TypeError",
     "evalue": "can't multiply sequence by non-int of type 'float'",
     "output_type": "error",
     "traceback": [
      "\u001b[1;31m---------------------------------------------------------------------------\u001b[0m",
      "\u001b[1;31mTypeError\u001b[0m                                 Traceback (most recent call last)",
      "Cell \u001b[1;32mIn[34], line 2\u001b[0m\n\u001b[0;32m      1\u001b[0m mass \u001b[38;5;241m=\u001b[39m \u001b[38;5;28minput\u001b[39m(\u001b[38;5;124m'\u001b[39m\u001b[38;5;124menter mass in kilograms: \u001b[39m\u001b[38;5;124m'\u001b[39m)\n\u001b[1;32m----> 2\u001b[0m weight \u001b[38;5;241m=\u001b[39m mass \u001b[38;5;241m*\u001b[39m \u001b[38;5;241m9.8\u001b[39m\n\u001b[0;32m      3\u001b[0m \u001b[38;5;28;01mif\u001b[39;00m weight \u001b[38;5;241m>\u001b[39m \u001b[38;5;241m500\u001b[39m:\n\u001b[0;32m      4\u001b[0m     \u001b[38;5;28mprint\u001b[39m(\u001b[38;5;124m'\u001b[39m\u001b[38;5;124mObject is too heavy.\u001b[39m\u001b[38;5;124m'\u001b[39m)\n",
      "\u001b[1;31mTypeError\u001b[0m: can't multiply sequence by non-int of type 'float'"
     ]
    }
   ],
   "source": [
    "mass = input('enter mass in kilograms: ')\n",
    "weight = mass * 9.8\n",
    "if weight > 500:\n",
    "    print('Object is too heavy.')\n",
    "elif weight < 100:\n",
    "    print('Object is too light.')\n",
    "else:\n",
    "    print(f'The object weights {weight} Newtons.')"
   ]
  },
  {
   "cell_type": "markdown",
   "id": "3fa43941",
   "metadata": {},
   "source": [
    "since I cannot multiply mass by a float since mass in an int, I will try to make mass into a float so the program can multiply mass by 9.8"
   ]
  },
  {
   "cell_type": "code",
   "execution_count": 35,
   "id": "cc4357b0",
   "metadata": {},
   "outputs": [
    {
     "name": "stdout",
     "output_type": "stream",
     "text": [
      "enter mass in kilograms: 60\n",
      "Object is too heavy.\n"
     ]
    }
   ],
   "source": [
    "mass = float(input('enter mass in kilograms: '))\n",
    "weight = mass * 9.8\n",
    "if weight > 500:\n",
    "    print('Object is too heavy.')\n",
    "elif weight < 100:\n",
    "    print('Object is too light.')\n",
    "else:\n",
    "    print(f'The object weights {weight} Newtons.')"
   ]
  },
  {
   "cell_type": "markdown",
   "id": "e7a8a830",
   "metadata": {},
   "source": [
    "We know this code works. However, I want the final weight to still be shown. I will just move the final print statement towards the beginnning."
   ]
  },
  {
   "cell_type": "code",
   "execution_count": 37,
   "id": "216ea121",
   "metadata": {},
   "outputs": [
    {
     "name": "stdout",
     "output_type": "stream",
     "text": [
      "enter mass in kilograms: 23\n",
      "The object weights 225.4 Newtons.\n"
     ]
    }
   ],
   "source": [
    "mass = float(input('enter mass in kilograms: '))\n",
    "weight = mass * 9.8\n",
    "print(f'The object weights {weight} Newtons.')\n",
    "if weight > 500:\n",
    "    print('The object is too heavy.')\n",
    "elif weight < 100:\n",
    "    print('The object is too light.')"
   ]
  },
  {
   "cell_type": "code",
   "execution_count": 38,
   "id": "10932953",
   "metadata": {},
   "outputs": [
    {
     "name": "stdout",
     "output_type": "stream",
     "text": [
      "enter mass in kilograms: 2\n",
      "The object weights 19.6 Newtons.\n",
      "The object is too light.\n"
     ]
    }
   ],
   "source": [
    "mass = float(input('enter mass in kilograms: '))\n",
    "weight = mass * 9.8\n",
    "print(f'The object weights {weight} Newtons.')\n",
    "if weight > 500:\n",
    "    print('The object is too heavy.')\n",
    "elif weight < 100:\n",
    "    print('The object is too light.')"
   ]
  },
  {
   "cell_type": "markdown",
   "id": "f97c9318",
   "metadata": {},
   "source": [
    "This code now works with any number you put in."
   ]
  },
  {
   "cell_type": "markdown",
   "id": "ee831632",
   "metadata": {},
   "source": [
    "### Problem 15 Time Calculator\n",
    "\n",
    "Write a program that asks the user to enter a number of seconds and works as follows:\n",
    "\n",
    "• There are 60 seconds in a minute. If the number of seconds entered by the user is greater than or equal to 60, the program should convert the number of seconds to minutes and seconds.\n",
    "\n",
    "• There are 3,600 seconds in an hour. If the number of seconds entered by the user is greater than or equal to 3,600, the program should convert the number of seconds to hours, minutes, and seconds.\n",
    "\n",
    "• There are 86,400 seconds in a day. If the number of seconds entered by the user is greater than or equal to 86,400, the program should convert the number of seconds to days, hours, minutes, and seconds."
   ]
  },
  {
   "cell_type": "code",
   "execution_count": 9,
   "id": "cc880fa8",
   "metadata": {},
   "outputs": [
    {
     "name": "stdout",
     "output_type": "stream",
     "text": [
      "enter a number of seconds20\n",
      "the amount of time is {answer}\n"
     ]
    }
   ],
   "source": [
    "answer = int(input('enter a number of seconds'))\n",
    "if answer >= 60:\n",
    "    print('conversion')\n",
    "else:\n",
    "    print('the amount of time is {answer}')"
   ]
  },
  {
   "cell_type": "markdown",
   "id": "ce54c1e6",
   "metadata": {},
   "source": [
    "I found that my answer wasnt defined in the print statement so I tried using an f string. I will worry about the conversion when i finish setting up the program."
   ]
  },
  {
   "cell_type": "code",
   "execution_count": 11,
   "id": "dccdb7a6",
   "metadata": {},
   "outputs": [
    {
     "name": "stdout",
     "output_type": "stream",
     "text": [
      "enter a number of seconds: 20\n",
      "the amount of time is 20 seconds\n"
     ]
    }
   ],
   "source": [
    "answer = int(input('enter a number of seconds: '))\n",
    "if answer >= 60:\n",
    "    print('conversion')\n",
    "else:\n",
    "    print(f'the amount of time is {answer} seconds')"
   ]
  },
  {
   "cell_type": "code",
   "execution_count": 12,
   "id": "b28f122a",
   "metadata": {},
   "outputs": [
    {
     "name": "stdout",
     "output_type": "stream",
     "text": [
      "enter a number of seconds: 70\n",
      "conversion\n"
     ]
    }
   ],
   "source": [
    "answer = int(input('enter a number of seconds: '))\n",
    "if answer >= 60:\n",
    "    print('conversion')\n",
    "else:\n",
    "    print(f'the amount of time is {answer} seconds')"
   ]
  },
  {
   "cell_type": "markdown",
   "id": "cb0453e6",
   "metadata": {},
   "source": [
    "I got the program to work. Now, I just need to finish up with the setup process"
   ]
  },
  {
   "cell_type": "code",
   "execution_count": 13,
   "id": "2dba0d5e",
   "metadata": {},
   "outputs": [
    {
     "name": "stdout",
     "output_type": "stream",
     "text": [
      "enter a number of seconds: 90000\n",
      "the amount of time is conversion minutes, and conversion seconds.\n"
     ]
    }
   ],
   "source": [
    "answer = int(input('enter a number of seconds: '))\n",
    "if answer >= 60:\n",
    "    print(f'the amount of time is conversion minutes, and conversion seconds.')\n",
    "elif answer >= 3600:\n",
    "    print(f'the amount of time is conversion hours, conversion minutes, and conversion seconds.')\n",
    "elif answer >= 86400:\n",
    "    print(f'the amount of time is conversion days, conversion hours, conversion minutes, and conversion seconds.')\n",
    "else:\n",
    "    print(f'the amount of time is {answer} seconds.')"
   ]
  },
  {
   "cell_type": "markdown",
   "id": "3b4cb878",
   "metadata": {},
   "source": [
    "even though 90000 is greater than 86400, the program ignored this as 90000 is also greater than 60. I will try switching the order to see if that works"
   ]
  },
  {
   "cell_type": "code",
   "execution_count": 18,
   "id": "43bced63",
   "metadata": {},
   "outputs": [
    {
     "name": "stdout",
     "output_type": "stream",
     "text": [
      "enter a number of seconds: 90000\n",
      "the amount of time is conversion days, conversion hours, conversion minutes, and conversion seconds.\n"
     ]
    }
   ],
   "source": [
    "answer = int(input('enter a number of seconds: '))\n",
    "if answer >= 86400:\n",
    "    print(f'the amount of time is conversion days, conversion hours, conversion minutes, and conversion seconds.')\n",
    "elif answer >= 3600:\n",
    "    print(f'the amount of time is conversion hours, conversion minutes, and conversion seconds.')\n",
    "elif answer >= 60:\n",
    "    print(f'the amount of time is conversion minutes, and conversion seconds.')\n",
    "else:\n",
    "    print(f'the amount of time is {answer} seconds.')"
   ]
  },
  {
   "cell_type": "code",
   "execution_count": 15,
   "id": "ac344fda",
   "metadata": {},
   "outputs": [
    {
     "name": "stdout",
     "output_type": "stream",
     "text": [
      "enter a number of seconds: 70\n",
      "the amount of time is conversion minutes, and conversion seconds.\n"
     ]
    }
   ],
   "source": [
    "answer = int(input('enter a number of seconds: '))\n",
    "if answer >= 86400:\n",
    "    print(f'the amount of time is conversion days, conversion hours, conversion minutes, and conversion seconds.')\n",
    "elif answer >= 3600:\n",
    "    print(f'the amount of time is conversion hours, conversion minutes, and conversion seconds.')\n",
    "elif answer >= 60:\n",
    "    print(f'the amount of time is conversion minutes, and conversion seconds.')\n",
    "else:\n",
    "    print(f'the amount of time is {answer} seconds.')"
   ]
  },
  {
   "cell_type": "markdown",
   "id": "15f8ecdb",
   "metadata": {},
   "source": [
    "I have the program all setup now, I only need to do the conversions now."
   ]
  },
  {
   "cell_type": "code",
   "execution_count": 16,
   "id": "c5eff5cc",
   "metadata": {},
   "outputs": [
    {
     "name": "stdout",
     "output_type": "stream",
     "text": [
      "enter a number of seconds: 90000\n",
      "the amount of time is conversion minutes, and conversion seconds.\n"
     ]
    }
   ],
   "source": [
    "total_seconds = int(input('enter a number of seconds: '))\n",
    "if answer >= 86400:\n",
    "    days = seconds / 86400\n",
    "    hours_in_seconds = seconds // 86400\n",
    "    hours = hours_in_seconds / 3600\n",
    "    minutes_in_seconds = hours_in_seconds // 3600\n",
    "    minutes = minutes_in_seconds / 60\n",
    "    seconds = minutes_in_seconds // 60\n",
    "    print(f'the amount of time is {days} days, {hours} hours, {minutes} minutes, and {seconds} seconds.')\n",
    "elif answer >= 3600:\n",
    "    print(f'the amount of time is conversion hours, conversion minutes, and conversion seconds.')\n",
    "elif answer >= 60:\n",
    "    print(f'the amount of time is conversion minutes, and conversion seconds.')\n",
    "else:\n",
    "    print(f'the amount of time is {total_seconds} seconds.')"
   ]
  },
  {
   "cell_type": "markdown",
   "id": "968067cb",
   "metadata": {},
   "source": [
    "I realized one of my variables in line 3 was incorrect. the seconds should be total_seconds instead. same with line 4"
   ]
  },
  {
   "cell_type": "code",
   "execution_count": 17,
   "id": "d4f5f73f",
   "metadata": {},
   "outputs": [
    {
     "name": "stdout",
     "output_type": "stream",
     "text": [
      "enter a number of seconds: 90000\n",
      "the amount of time is conversion minutes, and conversion seconds.\n"
     ]
    }
   ],
   "source": [
    "total_seconds = int(input('enter a number of seconds: '))\n",
    "if answer >= 86400:\n",
    "    days = total_seconds / 86400\n",
    "    hours_in_seconds = total_seconds // 86400\n",
    "    hours = hours_in_seconds / 3600\n",
    "    minutes_in_seconds = hours_in_seconds // 3600\n",
    "    minutes = minutes_in_seconds / 60\n",
    "    seconds = minutes_in_seconds // 60\n",
    "    print(f'the amount of time is {days} days, {hours} hours, {minutes} minutes, and {seconds} seconds.')\n",
    "elif answer >= 3600:\n",
    "    print(f'the amount of time is conversion hours, conversion minutes, and conversion seconds.')\n",
    "elif answer >= 60:\n",
    "    print(f'the amount of time is conversion minutes, and conversion seconds.')\n",
    "else:\n",
    "    print(f'the amount of time is {total_seconds} seconds.')"
   ]
  },
  {
   "cell_type": "markdown",
   "id": "193dd59a",
   "metadata": {},
   "source": [
    "I still noticed there were more variables named \"answer\" when it should have been changed to \"total_seconds\" "
   ]
  },
  {
   "cell_type": "code",
   "execution_count": 19,
   "id": "9fae9461",
   "metadata": {},
   "outputs": [
    {
     "name": "stdout",
     "output_type": "stream",
     "text": [
      "enter a number of seconds: 90000\n",
      "the amount of time is 1.0416666666666667 days, 0.0002777777777777778 hours, 0.0 minutes, and 0 seconds.\n"
     ]
    }
   ],
   "source": [
    "total_seconds = int(input('enter a number of seconds: '))\n",
    "if total_seconds >= 86400:\n",
    "    days = total_seconds / 86400\n",
    "    hours_in_seconds = total_seconds // 86400\n",
    "    hours = hours_in_seconds / 3600\n",
    "    minutes_in_seconds = hours_in_seconds // 3600\n",
    "    minutes = minutes_in_seconds / 60\n",
    "    seconds = minutes_in_seconds // 60\n",
    "    print(f'the amount of time is {days} days, {hours} hours, {minutes} minutes, and {seconds} seconds.')\n",
    "elif total_seconds >= 3600:\n",
    "    print(f'the amount of time is conversion hours, conversion minutes, and conversion seconds.')\n",
    "elif total_seconds >= 60:\n",
    "    print(f'the amount of time is conversion minutes, and conversion seconds.')\n",
    "else:\n",
    "    print(f'the amount of time is {total_seconds} seconds.')"
   ]
  },
  {
   "cell_type": "markdown",
   "id": "bdb85ead",
   "metadata": {},
   "source": [
    "I didn't want my answer to be in decimals, so I added int in front so the answer would come out as an integer"
   ]
  },
  {
   "cell_type": "code",
   "execution_count": 20,
   "id": "024449bc",
   "metadata": {},
   "outputs": [
    {
     "name": "stdout",
     "output_type": "stream",
     "text": [
      "enter a number of seconds: 90000\n",
      "the amount of time is 1 days, 0 hours, 0 minutes, and 0 seconds.\n"
     ]
    }
   ],
   "source": [
    "total_seconds = int(input('enter a number of seconds: '))\n",
    "if total_seconds >= 86400:\n",
    "    days = int(total_seconds / 86400)\n",
    "    hours_in_seconds = total_seconds // 86400\n",
    "    hours = int(hours_in_seconds / 3600)\n",
    "    minutes_in_seconds = hours_in_seconds // 3600\n",
    "    minutes = int(minutes_in_seconds / 60)\n",
    "    seconds = minutes_in_seconds // 60\n",
    "    print(f'the amount of time is {days} days, {hours} hours, {minutes} minutes, and {seconds} seconds.')\n",
    "elif total_seconds >= 3600:\n",
    "    print(f'the amount of time is conversion hours, conversion minutes, and conversion seconds.')\n",
    "elif total_seconds >= 60:\n",
    "    print(f'the amount of time is conversion minutes, and conversion seconds.')\n",
    "else:\n",
    "    print(f'the amount of time is {total_seconds} seconds.')"
   ]
  },
  {
   "cell_type": "markdown",
   "id": "2e608b63",
   "metadata": {},
   "source": [
    "the conversion only showed days and didnt show hours, minutes, or seconds. I then realized I was using the wrong operators the \n",
    "whole time. Instead of //, I need to use % to get the remainder. I also added more if an else statements within the first if and else statement so the program can run in a more organized way."
   ]
  },
  {
   "cell_type": "code",
   "execution_count": 26,
   "id": "d07ea8bc",
   "metadata": {},
   "outputs": [
    {
     "name": "stdout",
     "output_type": "stream",
     "text": [
      "enter a number of seconds: 92636\n",
      "the amount of time is 1 days, 1 hours, 43 minutes, and 56 seconds.\n"
     ]
    }
   ],
   "source": [
    "total_seconds = int(input('enter a number of seconds: '))\n",
    "if total_seconds >= 86400:\n",
    "    days = int(total_seconds / 86400)\n",
    "    hours_in_seconds = total_seconds % 86400\n",
    "    if hours_in_seconds < 3600:\n",
    "        hours = 0\n",
    "    else:\n",
    "        hours = int(hours_in_seconds / 3600)\n",
    "        minutes_in_seconds = hours_in_seconds % 3600\n",
    "        if minutes_in_seconds < 60:\n",
    "            minutes = 0\n",
    "        else:\n",
    "            minutes = int(minutes_in_seconds / 60)\n",
    "            seconds = minutes_in_seconds % 60\n",
    "    print(f'the amount of time is {days} days, {hours} hours, {minutes} minutes, and {seconds} seconds.')\n",
    "elif total_seconds >= 3600:\n",
    "    print(f'the amount of time is conversion hours, conversion minutes, and conversion seconds.')\n",
    "elif total_seconds >= 60:\n",
    "    print(f'the amount of time is conversion minutes, and conversion seconds.')\n",
    "else:\n",
    "    print(f'the amount of time is {total_seconds} seconds.')"
   ]
  },
  {
   "cell_type": "markdown",
   "id": "0313c236",
   "metadata": {},
   "source": [
    "I have finally recieved a correct answer. All I need to do now is apply these statements to all of the if statements."
   ]
  },
  {
   "cell_type": "code",
   "execution_count": 27,
   "id": "cc53057b",
   "metadata": {},
   "outputs": [
    {
     "name": "stdout",
     "output_type": "stream",
     "text": [
      "enter a number of seconds: 89534\n",
      "the amount of time is 1 days, 0 hours, 43 minutes, and 56 seconds.\n"
     ]
    }
   ],
   "source": [
    "total_seconds = int(input('enter a number of seconds: '))\n",
    "if total_seconds >= 86400:\n",
    "    days = int(total_seconds / 86400)\n",
    "    hours_in_seconds = total_seconds % 86400\n",
    "    if hours_in_seconds < 3600:\n",
    "        hours = 0\n",
    "    else:\n",
    "        hours = int(hours_in_seconds / 3600)\n",
    "        minutes_in_seconds = hours_in_seconds % 3600\n",
    "        if minutes_in_seconds < 60:\n",
    "            minutes = 0\n",
    "        else:\n",
    "            minutes = int(minutes_in_seconds / 60)\n",
    "            seconds = minutes_in_seconds % 60\n",
    "    print(f'the amount of time is {days} days, {hours} hours, {minutes} minutes, and {seconds} seconds.')\n",
    "    \n",
    "elif total_seconds >= 3600:\n",
    "    hours = int(hours_in_seconds / 3600)\n",
    "    minutes_in_seconds = hours_in_seconds % 3600\n",
    "    if minutes_in_seconds < 60:\n",
    "        minutes = 0\n",
    "    else:\n",
    "        minutes = int(minutes_in_seconds / 60)\n",
    "        seconds = minutes_in_seconds % 60\n",
    "    print(f'the amount of time is {hours} hours, {minutes} minutes, and {seconds} seconds.')\n",
    "    \n",
    "elif total_seconds >= 60:\n",
    "    minutes = int(minutes_in_seconds / 60)\n",
    "    seconds = minutes_in_seconds % 60\n",
    "    print(f'the amount of time is {minutes} minutes, and {seconds} seconds.')\n",
    "    \n",
    "else:\n",
    "    print(f'the amount of time is {total_seconds} seconds.')"
   ]
  },
  {
   "cell_type": "markdown",
   "id": "ac733dbc",
   "metadata": {},
   "source": [
    "Since some statements in the if blocks were indented too much, the program did not calculate minutes or seconds. I removed some indents so that the program would still calculate minutes and seconds regardless what the outcome of days, hours, or minutes were."
   ]
  },
  {
   "cell_type": "code",
   "execution_count": 28,
   "id": "97025e0a",
   "metadata": {},
   "outputs": [
    {
     "name": "stdout",
     "output_type": "stream",
     "text": [
      "enter a number of seconds: 89534\n",
      "the amount of time is 1 days, 0 hours, 52 minutes, and 14 seconds.\n"
     ]
    }
   ],
   "source": [
    "total_seconds = int(input('enter a number of seconds: '))\n",
    "if total_seconds >= 86400:\n",
    "    days = int(total_seconds / 86400)\n",
    "    hours_in_seconds = total_seconds % 86400\n",
    "    if hours_in_seconds < 3600:\n",
    "        hours = 0\n",
    "    else:\n",
    "        hours = int(hours_in_seconds / 3600)\n",
    "    minutes_in_seconds = hours_in_seconds % 3600\n",
    "    if minutes_in_seconds < 60:\n",
    "        minutes = 0\n",
    "    else:\n",
    "        minutes = int(minutes_in_seconds / 60)\n",
    "    seconds = minutes_in_seconds % 60\n",
    "    print(f'the amount of time is {days} days, {hours} hours, {minutes} minutes, and {seconds} seconds.')\n",
    "    \n",
    "elif total_seconds >= 3600:\n",
    "    hours = int(hours_in_seconds / 3600)\n",
    "    minutes_in_seconds = hours_in_seconds % 3600\n",
    "    if minutes_in_seconds < 60:\n",
    "        minutes = 0\n",
    "    else:\n",
    "        minutes = int(minutes_in_seconds / 60)\n",
    "        seconds = minutes_in_seconds % 60\n",
    "    print(f'the amount of time is {hours} hours, {minutes} minutes, and {seconds} seconds.')\n",
    "    \n",
    "elif total_seconds >= 60:\n",
    "    minutes = int(minutes_in_seconds / 60)\n",
    "    seconds = minutes_in_seconds % 60\n",
    "    print(f'the amount of time is {minutes} minutes, and {seconds} seconds.')\n",
    "    \n",
    "else:\n",
    "    print(f'the amount of time is {total_seconds} seconds.')"
   ]
  },
  {
   "cell_type": "markdown",
   "id": "cd250b5d",
   "metadata": {},
   "source": [
    "This finally worked for numbers greater than 86400. I will now test numbers between 3600 and 86400"
   ]
  },
  {
   "cell_type": "code",
   "execution_count": 29,
   "id": "3a6771b9",
   "metadata": {},
   "outputs": [
    {
     "name": "stdout",
     "output_type": "stream",
     "text": [
      "enter a number of seconds: 4273\n",
      "the amount of time is 0 hours, 52 minutes, and 14 seconds.\n"
     ]
    }
   ],
   "source": [
    "total_seconds = int(input('enter a number of seconds: '))\n",
    "if total_seconds >= 86400:\n",
    "    days = int(total_seconds / 86400)\n",
    "    hours_in_seconds = total_seconds % 86400\n",
    "    if hours_in_seconds < 3600:\n",
    "        hours = 0\n",
    "    else:\n",
    "        hours = int(hours_in_seconds / 3600)\n",
    "    minutes_in_seconds = hours_in_seconds % 3600\n",
    "    if minutes_in_seconds < 60:\n",
    "        minutes = 0\n",
    "    else:\n",
    "        minutes = int(minutes_in_seconds / 60)\n",
    "    seconds = minutes_in_seconds % 60\n",
    "    print(f'the amount of time is {days} days, {hours} hours, {minutes} minutes, and {seconds} seconds.')\n",
    "    \n",
    "elif total_seconds >= 3600:\n",
    "    hours = int(hours_in_seconds / 3600)\n",
    "    minutes_in_seconds = hours_in_seconds % 3600\n",
    "    if minutes_in_seconds < 60:\n",
    "        minutes = 0\n",
    "    else:\n",
    "        minutes = int(minutes_in_seconds / 60)\n",
    "    seconds = minutes_in_seconds % 60\n",
    "    print(f'the amount of time is {hours} hours, {minutes} minutes, and {seconds} seconds.')\n",
    "    \n",
    "elif total_seconds >= 60:\n",
    "    minutes = int(minutes_in_seconds / 60)\n",
    "    seconds = minutes_in_seconds % 60\n",
    "    print(f'the amount of time is {minutes} minutes, and {seconds} seconds.')\n",
    "    \n",
    "else:\n",
    "    print(f'the amount of time is {total_seconds} seconds.')"
   ]
  },
  {
   "cell_type": "markdown",
   "id": "958e720e",
   "metadata": {},
   "source": [
    "Another missed variable I needed to change, I need to change the \"hours_in_seconds\" variable in the first elif statement to \"total_seconds\""
   ]
  },
  {
   "cell_type": "code",
   "execution_count": 30,
   "id": "2fa00d2a",
   "metadata": {},
   "outputs": [
    {
     "name": "stdout",
     "output_type": "stream",
     "text": [
      "enter a number of seconds: 4273\n",
      "the amount of time is 1 hours, 11 minutes, and 13 seconds.\n"
     ]
    }
   ],
   "source": [
    "total_seconds = int(input('enter a number of seconds: '))\n",
    "if total_seconds >= 86400:\n",
    "    days = int(total_seconds / 86400)\n",
    "    hours_in_seconds = total_seconds % 86400\n",
    "    if hours_in_seconds < 3600:\n",
    "        hours = 0\n",
    "    else:\n",
    "        hours = int(hours_in_seconds / 3600)\n",
    "    minutes_in_seconds = hours_in_seconds % 3600\n",
    "    if minutes_in_seconds < 60:\n",
    "        minutes = 0\n",
    "    else:\n",
    "        minutes = int(minutes_in_seconds / 60)\n",
    "    seconds = minutes_in_seconds % 60\n",
    "    print(f'the amount of time is {days} days, {hours} hours, {minutes} minutes, and {seconds} seconds.')\n",
    "    \n",
    "elif total_seconds >= 3600:\n",
    "    hours = int(total_seconds / 3600)\n",
    "    minutes_in_seconds = total_seconds % 3600\n",
    "    if minutes_in_seconds < 60:\n",
    "        minutes = 0\n",
    "    else:\n",
    "        minutes = int(minutes_in_seconds / 60)\n",
    "    seconds = minutes_in_seconds % 60\n",
    "    print(f'the amount of time is {hours} hours, {minutes} minutes, and {seconds} seconds.')\n",
    "    \n",
    "elif total_seconds >= 60:\n",
    "    minutes = int(total_seconds / 60)\n",
    "    seconds = total_seconds % 60\n",
    "    print(f'the amount of time is {minutes} minutes, and {seconds} seconds.')\n",
    "    \n",
    "else:\n",
    "    print(f'the amount of time is {total_seconds} seconds.')"
   ]
  },
  {
   "cell_type": "markdown",
   "id": "96962cf7",
   "metadata": {},
   "source": [
    "I got the correct answer for this segment. Now I will try numbers between 60 and 3600"
   ]
  },
  {
   "cell_type": "code",
   "execution_count": 31,
   "id": "d75e2a81",
   "metadata": {},
   "outputs": [
    {
     "name": "stdout",
     "output_type": "stream",
     "text": [
      "enter a number of seconds: 523\n",
      "the amount of time is 8 minutes, and 43 seconds.\n"
     ]
    }
   ],
   "source": [
    "total_seconds = int(input('enter a number of seconds: '))\n",
    "if total_seconds >= 86400:\n",
    "    days = int(total_seconds / 86400)\n",
    "    hours_in_seconds = total_seconds % 86400\n",
    "    if hours_in_seconds < 3600:\n",
    "        hours = 0\n",
    "    else:\n",
    "        hours = int(hours_in_seconds / 3600)\n",
    "    minutes_in_seconds = hours_in_seconds % 3600\n",
    "    if minutes_in_seconds < 60:\n",
    "        minutes = 0\n",
    "    else:\n",
    "        minutes = int(minutes_in_seconds / 60)\n",
    "    seconds = minutes_in_seconds % 60\n",
    "    print(f'the amount of time is {days} days, {hours} hours, {minutes} minutes, and {seconds} seconds.')\n",
    "    \n",
    "elif total_seconds >= 3600:\n",
    "    hours = int(total_seconds / 3600)\n",
    "    minutes_in_seconds = total_seconds % 3600\n",
    "    if minutes_in_seconds < 60:\n",
    "        minutes = 0\n",
    "    else:\n",
    "        minutes = int(minutes_in_seconds / 60)\n",
    "    seconds = minutes_in_seconds % 60\n",
    "    print(f'the amount of time is {hours} hours, {minutes} minutes, and {seconds} seconds.')\n",
    "    \n",
    "elif total_seconds >= 60:\n",
    "    minutes = int(total_seconds / 60)\n",
    "    seconds = total_seconds % 60\n",
    "    print(f'the amount of time is {minutes} minutes, and {seconds} seconds.')\n",
    "    \n",
    "else:\n",
    "    print(f'the amount of time is {total_seconds} seconds.')"
   ]
  },
  {
   "cell_type": "markdown",
   "id": "26b39eed",
   "metadata": {},
   "source": [
    "This segment worked, now I will try numbers less than 60"
   ]
  },
  {
   "cell_type": "code",
   "execution_count": 32,
   "id": "972f0d52",
   "metadata": {},
   "outputs": [
    {
     "name": "stdout",
     "output_type": "stream",
     "text": [
      "enter a number of seconds: 42\n",
      "the amount of time is 42 seconds.\n"
     ]
    }
   ],
   "source": [
    "total_seconds = int(input('enter a number of seconds: '))\n",
    "if total_seconds >= 86400:\n",
    "    days = int(total_seconds / 86400)\n",
    "    hours_in_seconds = total_seconds % 86400\n",
    "    if hours_in_seconds < 3600:\n",
    "        hours = 0\n",
    "    else:\n",
    "        hours = int(hours_in_seconds / 3600)\n",
    "    minutes_in_seconds = hours_in_seconds % 3600\n",
    "    if minutes_in_seconds < 60:\n",
    "        minutes = 0\n",
    "    else:\n",
    "        minutes = int(minutes_in_seconds / 60)\n",
    "    seconds = minutes_in_seconds % 60\n",
    "    print(f'the amount of time is {days} days, {hours} hours, {minutes} minutes, and {seconds} seconds.')\n",
    "    \n",
    "elif total_seconds >= 3600:\n",
    "    hours = int(total_seconds / 3600)\n",
    "    minutes_in_seconds = total_seconds % 3600\n",
    "    if minutes_in_seconds < 60:\n",
    "        minutes = 0\n",
    "    else:\n",
    "        minutes = int(minutes_in_seconds / 60)\n",
    "    seconds = minutes_in_seconds % 60\n",
    "    print(f'the amount of time is {hours} hours, {minutes} minutes, and {seconds} seconds.')\n",
    "    \n",
    "elif total_seconds >= 60:\n",
    "    minutes = int(total_seconds / 60)\n",
    "    seconds = total_seconds % 60\n",
    "    print(f'the amount of time is {minutes} minutes, and {seconds} seconds.')\n",
    "    \n",
    "else:\n",
    "    print(f'the amount of time is {total_seconds} seconds.')"
   ]
  },
  {
   "cell_type": "markdown",
   "id": "b3785ec0",
   "metadata": {},
   "source": [
    "this segment worked too. Now I will try with an absurdly large number"
   ]
  },
  {
   "cell_type": "code",
   "execution_count": 33,
   "id": "6b6f653d",
   "metadata": {},
   "outputs": [
    {
     "name": "stdout",
     "output_type": "stream",
     "text": [
      "enter a number of seconds: 6405886376\n",
      "the amount of time is 74142 days, 4 hours, 52 minutes, and 56 seconds.\n"
     ]
    }
   ],
   "source": [
    "total_seconds = int(input('enter a number of seconds: '))\n",
    "if total_seconds >= 86400:\n",
    "    days = int(total_seconds / 86400)\n",
    "    hours_in_seconds = total_seconds % 86400\n",
    "    if hours_in_seconds < 3600:\n",
    "        hours = 0\n",
    "    else:\n",
    "        hours = int(hours_in_seconds / 3600)\n",
    "    minutes_in_seconds = hours_in_seconds % 3600\n",
    "    if minutes_in_seconds < 60:\n",
    "        minutes = 0\n",
    "    else:\n",
    "        minutes = int(minutes_in_seconds / 60)\n",
    "    seconds = minutes_in_seconds % 60\n",
    "    print(f'the amount of time is {days} days, {hours} hours, {minutes} minutes, and {seconds} seconds.')\n",
    "    \n",
    "elif total_seconds >= 3600:\n",
    "    hours = int(total_seconds / 3600)\n",
    "    minutes_in_seconds = total_seconds % 3600\n",
    "    if minutes_in_seconds < 60:\n",
    "        minutes = 0\n",
    "    else:\n",
    "        minutes = int(minutes_in_seconds / 60)\n",
    "    seconds = minutes_in_seconds % 60\n",
    "    print(f'the amount of time is {hours} hours, {minutes} minutes, and {seconds} seconds.')\n",
    "    \n",
    "elif total_seconds >= 60:\n",
    "    minutes = int(total_seconds / 60)\n",
    "    seconds = total_seconds % 60\n",
    "    print(f'the amount of time is {minutes} minutes, and {seconds} seconds.')\n",
    "    \n",
    "else:\n",
    "    print(f'the amount of time is {total_seconds} seconds.')"
   ]
  },
  {
   "cell_type": "markdown",
   "id": "da9ce1ba",
   "metadata": {},
   "source": [
    "This program finally works for any number you put in."
   ]
  },
  {
   "cell_type": "markdown",
   "id": "54006105",
   "metadata": {},
   "source": [
    "### Problem 17 Wi-Fi Diagnostic Tree\n",
    "\n",
    "Figure 3-19 shows a simplified flowchart for troubleshooting a bad Wi-Fi connection. Use the flowchart to create a program that leads a person through the steps of fixing a bad Wi-Fi connection. Here is an example of the program’s output:\n",
    "\n",
    "Reboot the computer and try to connect.\n",
    "\n",
    "Did that fix the problem? no Enter\n",
    "\n",
    "Reboot the router and try to connect.\n",
    "\n",
    "Did that fix the problem? yes Enter\n",
    "\n",
    "Notice the program ends as soon as a solution is found to the problem. Here is another\n",
    "\n",
    "example of the program’s output:\n",
    "\n",
    "Reboot the computer and try to connect.\n",
    "\n",
    "Did that fix the problem? no Enter\n",
    "\n",
    "eboot the router and try to connect.\n",
    "\n",
    "Did that fix the problem? no Enter\n",
    "\n",
    "Make sure the cables between the router and modem are plugged in firmly.\n",
    "\n",
    "Did that fix the problem? no Enter\n",
    "\n",
    "Move the router to a new location.\n",
    "\n",
    "Did that fix the problem? no Enter\n",
    "\n",
    "Get a new router."
   ]
  },
  {
   "cell_type": "code",
   "execution_count": 7,
   "id": "da875b40",
   "metadata": {},
   "outputs": [
    {
     "name": "stdout",
     "output_type": "stream",
     "text": [
      "Reboot the computer and try to connect.\n",
      "Did that fix the problem? no\n",
      "Reboot the router and try to connect.\n",
      "Did that fix the problem? no\n",
      "Make sure the cables between the router and modem are plugged in firmly.\n",
      "Did that fix the problem? no\n",
      "Move the router to a new location.\n",
      "Did that fix the problem? no\n",
      "Get a new router\n"
     ]
    }
   ],
   "source": [
    "print('Reboot the computer and try to connect.')\n",
    "answer = input('Did that fix the problem? ')\n",
    "if answer == 'yes':\n",
    "    print('ok')\n",
    "else:\n",
    "    print('Reboot the router and try to connect.')\n",
    "    answer = input('Did that fix the problem? ')\n",
    "    if answer == 'yes':\n",
    "        print('ok')\n",
    "    else:\n",
    "        print('Make sure the cables between the router and modem are plugged in firmly.')\n",
    "        answer = input('Did that fix the problem? ')\n",
    "        if answer == 'yes':\n",
    "            print('ok')\n",
    "        else:\n",
    "            print('Move the router to a new location.')\n",
    "            answer = input('Did that fix the problem? ')\n",
    "            if answer == 'yes':\n",
    "                print('ok')\n",
    "            else:\n",
    "                print('Get a new router')"
   ]
  },
  {
   "cell_type": "code",
   "execution_count": 8,
   "id": "691b8a14",
   "metadata": {},
   "outputs": [
    {
     "name": "stdout",
     "output_type": "stream",
     "text": [
      "Reboot the computer and try to connect.\n",
      "Did that fix the problem? no\n",
      "Reboot the router and try to connect.\n",
      "Did that fix the problem? yes\n",
      "ok\n"
     ]
    }
   ],
   "source": [
    "print('Reboot the computer and try to connect.')\n",
    "answer = input('Did that fix the problem? ')\n",
    "if answer == 'yes':\n",
    "    print('ok')\n",
    "else:\n",
    "    print('Reboot the router and try to connect.')\n",
    "    answer = input('Did that fix the problem? ')\n",
    "    if answer == 'yes':\n",
    "        print('ok')\n",
    "    else:\n",
    "        print('Make sure the cables between the router and modem are plugged in firmly.')\n",
    "        answer = input('Did that fix the problem? ')\n",
    "        if answer == 'yes':\n",
    "            print('ok')\n",
    "        else:\n",
    "            print('Move the router to a new location.')\n",
    "            answer = input('Did that fix the problem? ')\n",
    "            if answer == 'yes':\n",
    "                print('ok')\n",
    "            else:\n",
    "                print('Get a new router')"
   ]
  },
  {
   "cell_type": "markdown",
   "id": "46b96f71",
   "metadata": {},
   "source": []
  }
 ],
 "metadata": {
  "kernelspec": {
   "display_name": "Python 3 (ipykernel)",
   "language": "python",
   "name": "python3"
  },
  "language_info": {
   "codemirror_mode": {
    "name": "ipython",
    "version": 3
   },
   "file_extension": ".py",
   "mimetype": "text/x-python",
   "name": "python",
   "nbconvert_exporter": "python",
   "pygments_lexer": "ipython3",
   "version": "3.11.5"
  }
 },
 "nbformat": 4,
 "nbformat_minor": 5
}
