{
 "cells": [
  {
   "cell_type": "markdown",
   "id": "6368eeab",
   "metadata": {},
   "source": [
    "# Chapter 3 Exercises"
   ]
  },
  {
   "cell_type": "markdown",
   "id": "43aee31e",
   "metadata": {},
   "source": [
    "## Algorithm Workbench"
   ]
  },
  {
   "cell_type": "markdown",
   "id": "dc0d7ef4",
   "metadata": {},
   "source": [
    "### Problem 4\n",
    "\n",
    "The following code contains several nested if-else statements. Unfortunately, it was written without proper alignment and indentation. Rewrite the code and use the proper conventions of alignment and indentation.\n",
    "\n",
    "if score >= A_score:\n",
    "\n",
    "print('Your grade is A.')\n",
    "\n",
    "else:\n",
    "\n",
    "if score >= B_score:\n",
    "\n",
    "print('Your grade is B.')\n",
    "\n",
    "else:\n",
    "\n",
    "if score >= C_score:\n",
    "\n",
    "print('Your grade is C.')\n",
    "\n",
    "else:\n",
    "\n",
    "if score >= D_score:\n",
    "\n",
    "print('Your grade is D.')\n",
    "\n",
    "else:\n",
    "\n",
    "print('Your grade is F.')"
   ]
  },
  {
   "cell_type": "code",
   "execution_count": 1,
   "id": "b8059374",
   "metadata": {},
   "outputs": [
    {
     "ename": "NameError",
     "evalue": "name 'score' is not defined",
     "output_type": "error",
     "traceback": [
      "\u001b[1;31m---------------------------------------------------------------------------\u001b[0m",
      "\u001b[1;31mNameError\u001b[0m                                 Traceback (most recent call last)",
      "Cell \u001b[1;32mIn[1], line 1\u001b[0m\n\u001b[1;32m----> 1\u001b[0m \u001b[38;5;28;01mif\u001b[39;00m score \u001b[38;5;241m>\u001b[39m\u001b[38;5;241m=\u001b[39m A_score:\n\u001b[0;32m      3\u001b[0m     \u001b[38;5;28mprint\u001b[39m(\u001b[38;5;124m'\u001b[39m\u001b[38;5;124mYour grade is A.\u001b[39m\u001b[38;5;124m'\u001b[39m)\n\u001b[0;32m      5\u001b[0m \u001b[38;5;28;01melse\u001b[39;00m:\n",
      "\u001b[1;31mNameError\u001b[0m: name 'score' is not defined"
     ]
    }
   ],
   "source": [
    "if score >= A_score:\n",
    "\n",
    "    print('Your grade is A.')\n",
    "\n",
    "else:\n",
    "\n",
    "    if score >= B_score:\n",
    "\n",
    "        print('Your grade is B.')\n",
    "\n",
    "    else:\n",
    "\n",
    "        if score >= C_score:\n",
    "\n",
    "            print('Your grade is C.')\n",
    "\n",
    "        else:\n",
    "\n",
    "            if score >= D_score:\n",
    "\n",
    "                print('Your grade is D.')\n",
    "\n",
    "            else:\n",
    "\n",
    "                print('Your grade is F.')"
   ]
  },
  {
   "cell_type": "markdown",
   "id": "eb2b5274",
   "metadata": {},
   "source": [
    "In the textbook, it said the if and else clause should be aligned while the statements should be indented. Therefore, the first print statement should be indented, and every line after should follow that same format, adding another indent each time. "
   ]
  },
  {
   "cell_type": "markdown",
   "id": "9f82406a",
   "metadata": {},
   "source": [
    "### Problem 5\n",
    "\n",
    "Write nested decision structures that perform the following: If amount1 is greater than 10 and amount2 is less than 100, display the greater of amount1 and amount2."
   ]
  },
  {
   "cell_type": "code",
   "execution_count": 45,
   "id": "3f1d1662",
   "metadata": {},
   "outputs": [
    {
     "name": "stdout",
     "output_type": "stream",
     "text": [
      "Please enter a number: 50\n",
      "Please enter another number: 30\n",
      "The greater number is blank\n"
     ]
    }
   ],
   "source": [
    "amount1 = int(input('Please enter a number: '))\n",
    "amount2 = int(input('Please enter another number: '))\n",
    "if amount1 > 10:\n",
    "    if amount2 < 100:\n",
    "        print(f'The greater number is blank')\n",
    "    else:\n",
    "        print('The second number is too big.')\n",
    "else:\n",
    "    print('The first number is too small')"
   ]
  },
  {
   "cell_type": "markdown",
   "id": "6259ad64",
   "metadata": {},
   "source": [
    "I have finished setting up the program. I will now just test a few numbers to make sure this program works"
   ]
  },
  {
   "cell_type": "code",
   "execution_count": 46,
   "id": "95b8e2a9",
   "metadata": {},
   "outputs": [
    {
     "name": "stdout",
     "output_type": "stream",
     "text": [
      "Please enter a number: 8\n",
      "Please enter another number: 70\n",
      "The first number is too small\n"
     ]
    }
   ],
   "source": [
    "amount1 = int(input('Please enter a number: '))\n",
    "amount2 = int(input('Please enter another number: '))\n",
    "if amount1 > 10:\n",
    "    if amount2 < 100:\n",
    "        print(f'The greater number is blank')\n",
    "    else:\n",
    "        print('The second number is too big.')\n",
    "else:\n",
    "    print('The first number is too small')"
   ]
  },
  {
   "cell_type": "markdown",
   "id": "e53e442b",
   "metadata": {},
   "source": [
    "I now want to make this program easier to use by telling the user the range of the numbers they can use."
   ]
  },
  {
   "cell_type": "code",
   "execution_count": 47,
   "id": "cc3df0ee",
   "metadata": {},
   "outputs": [
    {
     "name": "stdout",
     "output_type": "stream",
     "text": [
      "Please enter a number greater than 10: 65\n",
      "Please enter another number less than 100: 135\n",
      "The second number is too big.\n"
     ]
    }
   ],
   "source": [
    "amount1 = int(input('Please enter a number greater than 10: '))\n",
    "amount2 = int(input('Please enter another number less than 100: '))\n",
    "if amount1 > 10:\n",
    "    if amount2 < 100:\n",
    "        print(f'The greater number is blank')\n",
    "    else:\n",
    "        print('The second number is too big.')\n",
    "else:\n",
    "    print('The first number is too small')"
   ]
  },
  {
   "cell_type": "markdown",
   "id": "91326288",
   "metadata": {},
   "source": [
    "Now that I have the program set up, I just need to add the math part."
   ]
  },
  {
   "cell_type": "code",
   "execution_count": 48,
   "id": "cc73b428",
   "metadata": {},
   "outputs": [
    {
     "name": "stdout",
     "output_type": "stream",
     "text": [
      "Please enter a number greater than 10: 70\n",
      "Please enter another number less than 100: 50\n",
      "The greater number is 70.\n"
     ]
    }
   ],
   "source": [
    "amount1 = int(input('Please enter a number greater than 10: '))\n",
    "amount2 = int(input('Please enter another number less than 100: '))\n",
    "if amount1 > 10:\n",
    "    if amount2 < 100:\n",
    "        if amount1 > amount2:\n",
    "            print(f'The greater number is {amount1}.')\n",
    "        elif amount2 > amount1:\n",
    "            print(f'The greater number is {amount2}.')\n",
    "        else:\n",
    "            print('The numbers are equal.')\n",
    "    else:\n",
    "        print('The second number is too big.')\n",
    "else:\n",
    "    print('The first number is too small.')"
   ]
  },
  {
   "cell_type": "markdown",
   "id": "2178aa7e",
   "metadata": {},
   "source": [
    "This program now works for when amount 1 is greater than amount 2. I will run more tests to make sure this program functions correctly"
   ]
  },
  {
   "cell_type": "code",
   "execution_count": 49,
   "id": "3cd5dd4e",
   "metadata": {},
   "outputs": [
    {
     "name": "stdout",
     "output_type": "stream",
     "text": [
      "Please enter a number greater than 10: 40\n",
      "Please enter another number less than 100: 60\n",
      "The greater number is 60.\n"
     ]
    }
   ],
   "source": [
    "amount1 = int(input('Please enter a number greater than 10: '))\n",
    "amount2 = int(input('Please enter another number less than 100: '))\n",
    "if amount1 > 10:\n",
    "    if amount2 < 100:\n",
    "        if amount1 > amount2:\n",
    "            print(f'The greater number is {amount1}.')\n",
    "        elif amount2 > amount1:\n",
    "            print(f'The greater number is {amount2}.')\n",
    "        else:\n",
    "            print('The numbers are equal.')\n",
    "    else:\n",
    "        print('The second number is too big.')\n",
    "else:\n",
    "    print('The first number is too small.')"
   ]
  },
  {
   "cell_type": "code",
   "execution_count": 50,
   "id": "6914bc3d",
   "metadata": {},
   "outputs": [
    {
     "name": "stdout",
     "output_type": "stream",
     "text": [
      "Please enter a number greater than 10: 30\n",
      "Please enter another number less than 100: 30\n",
      "The numbers are equal.\n"
     ]
    }
   ],
   "source": [
    "amount1 = int(input('Please enter a number greater than 10: '))\n",
    "amount2 = int(input('Please enter another number less than 100: '))\n",
    "if amount1 > 10:\n",
    "    if amount2 < 100:\n",
    "        if amount1 > amount2:\n",
    "            print(f'The greater number is {amount1}.')\n",
    "        elif amount2 > amount1:\n",
    "            print(f'The greater number is {amount2}.')\n",
    "        else:\n",
    "            print('The numbers are equal.')\n",
    "    else:\n",
    "        print('The second number is too big.')\n",
    "else:\n",
    "    print('The first number is too small.')"
   ]
  },
  {
   "cell_type": "code",
   "execution_count": 51,
   "id": "b2a9c901",
   "metadata": {},
   "outputs": [
    {
     "name": "stdout",
     "output_type": "stream",
     "text": [
      "Please enter a number greater than 10: 40\n",
      "Please enter another number less than 100: 130\n",
      "The second number is too big.\n"
     ]
    }
   ],
   "source": [
    "amount1 = int(input('Please enter a number greater than 10: '))\n",
    "amount2 = int(input('Please enter another number less than 100: '))\n",
    "if amount1 > 10:\n",
    "    if amount2 < 100:\n",
    "        if amount1 > amount2:\n",
    "            print(f'The greater number is {amount1}.')\n",
    "        elif amount2 > amount1:\n",
    "            print(f'The greater number is {amount2}.')\n",
    "        else:\n",
    "            print('The numbers are equal.')\n",
    "    else:\n",
    "        print('The second number is too big.')\n",
    "else:\n",
    "    print('The first number is too small.')"
   ]
  },
  {
   "cell_type": "code",
   "execution_count": 52,
   "id": "477423f5",
   "metadata": {},
   "outputs": [
    {
     "name": "stdout",
     "output_type": "stream",
     "text": [
      "Please enter a number greater than 10: 5\n",
      "Please enter another number less than 100: 90\n",
      "The first number is too small.\n"
     ]
    }
   ],
   "source": [
    "amount1 = int(input('Please enter a number greater than 10: '))\n",
    "amount2 = int(input('Please enter another number less than 100: '))\n",
    "if amount1 > 10:\n",
    "    if amount2 < 100:\n",
    "        if amount1 > amount2:\n",
    "            print(f'The greater number is {amount1}.')\n",
    "        elif amount2 > amount1:\n",
    "            print(f'The greater number is {amount2}.')\n",
    "        else:\n",
    "            print('The numbers are equal.')\n",
    "    else:\n",
    "        print('The second number is too big.')\n",
    "else:\n",
    "    print('The first number is too small.')"
   ]
  },
  {
   "cell_type": "markdown",
   "id": "8fed3608",
   "metadata": {},
   "source": [
    "This program now works for all numbers you may put in."
   ]
  },
  {
   "cell_type": "markdown",
   "id": "3d8d797d",
   "metadata": {},
   "source": [
    "## Programming Exercises"
   ]
  },
  {
   "cell_type": "markdown",
   "id": "b4da8661",
   "metadata": {},
   "source": [
    "### Problem 1 Day of the Week \n",
    "\n",
    "Write a program that asks the user for a number in the range of 1 through 7. The program should display the corresponding day of the week, where 1 = Monday, 2 = Tuesday, 3 = Wednesday, 4 = Thursday, 5 = Friday, 6 = Saturday, and 7 = Sunday. The program should display an error message if the user enters a number that is outside the range of 1 through 7."
   ]
  },
  {
   "cell_type": "code",
   "execution_count": 39,
   "id": "f402d866",
   "metadata": {},
   "outputs": [
    {
     "ename": "SyntaxError",
     "evalue": "invalid syntax. Maybe you meant '==' or ':=' instead of '='? (3712911332.py, line 2)",
     "output_type": "error",
     "traceback": [
      "\u001b[1;36m  Cell \u001b[1;32mIn[39], line 2\u001b[1;36m\u001b[0m\n\u001b[1;33m    if day = 1:\u001b[0m\n\u001b[1;37m       ^\u001b[0m\n\u001b[1;31mSyntaxError\u001b[0m\u001b[1;31m:\u001b[0m invalid syntax. Maybe you meant '==' or ':=' instead of '='?\n"
     ]
    }
   ],
   "source": [
    "day = int(input('Pick a number between 1 and 7: '))\n",
    "if day = 1:\n",
    "    Print('Your day is Monday!')\n",
    "elif day = 2:\n",
    "    Print('Your day is Tuesday!')\n",
    "elif day = 3:\n",
    "    Print('Your day is Wednesday!')\n",
    "elif day = 4:\n",
    "    Print('Your day is Thursday!')\n",
    "elif day = 5:\n",
    "    Print('Your day is Friday!')\n",
    "elif day = 6:\n",
    "    Print('Your day is Saturday!')\n",
    "elif day = 7:\n",
    "    Print('Your day is Sunday!')"
   ]
  },
  {
   "cell_type": "markdown",
   "id": "fe1dceef",
   "metadata": {},
   "source": [
    "I recieved an error message for using only one equal sign rather than 2. I will change all the equal signs in the if statements to double equal signs."
   ]
  },
  {
   "cell_type": "code",
   "execution_count": 40,
   "id": "44d996b3",
   "metadata": {},
   "outputs": [
    {
     "name": "stdout",
     "output_type": "stream",
     "text": [
      "Pick a number between 1 and 7: 3\n"
     ]
    },
    {
     "ename": "NameError",
     "evalue": "name 'Print' is not defined",
     "output_type": "error",
     "traceback": [
      "\u001b[1;31m---------------------------------------------------------------------------\u001b[0m",
      "\u001b[1;31mNameError\u001b[0m                                 Traceback (most recent call last)",
      "Cell \u001b[1;32mIn[40], line 7\u001b[0m\n\u001b[0;32m      5\u001b[0m     Print(\u001b[38;5;124m'\u001b[39m\u001b[38;5;124mYour day is Tuesday!\u001b[39m\u001b[38;5;124m'\u001b[39m)\n\u001b[0;32m      6\u001b[0m \u001b[38;5;28;01melif\u001b[39;00m day \u001b[38;5;241m==\u001b[39m \u001b[38;5;241m3\u001b[39m:\n\u001b[1;32m----> 7\u001b[0m     Print(\u001b[38;5;124m'\u001b[39m\u001b[38;5;124mYour day is Wednesday!\u001b[39m\u001b[38;5;124m'\u001b[39m)\n\u001b[0;32m      8\u001b[0m \u001b[38;5;28;01melif\u001b[39;00m day \u001b[38;5;241m==\u001b[39m \u001b[38;5;241m4\u001b[39m:\n\u001b[0;32m      9\u001b[0m     Print(\u001b[38;5;124m'\u001b[39m\u001b[38;5;124mYour day is Thursday!\u001b[39m\u001b[38;5;124m'\u001b[39m)\n",
      "\u001b[1;31mNameError\u001b[0m: name 'Print' is not defined"
     ]
    }
   ],
   "source": [
    "day = int(input('Pick a number between 1 and 7: '))\n",
    "if day == 1:\n",
    "    Print('Your day is Monday!')\n",
    "elif day == 2:\n",
    "    Print('Your day is Tuesday!')\n",
    "elif day == 3:\n",
    "    Print('Your day is Wednesday!')\n",
    "elif day == 4:\n",
    "    Print('Your day is Thursday!')\n",
    "elif day == 5:\n",
    "    Print('Your day is Friday!')\n",
    "elif day == 6:\n",
    "    Print('Your day is Saturday!')\n",
    "elif day == 7:\n",
    "    Print('Your day is Sunday!')"
   ]
  },
  {
   "cell_type": "markdown",
   "id": "cfb7b400",
   "metadata": {},
   "source": [
    "This was not printing as the p in print was capitalized. I will change all the \"P\"s to \"p\"s"
   ]
  },
  {
   "cell_type": "code",
   "execution_count": 41,
   "id": "5ddf466d",
   "metadata": {},
   "outputs": [
    {
     "name": "stdout",
     "output_type": "stream",
     "text": [
      "Pick a number between 1 and 7: 3\n",
      "Your day is Wednesday!\n"
     ]
    }
   ],
   "source": [
    "day = int(input('Pick a number between 1 and 7: '))\n",
    "if day == 1:\n",
    "    print('Your day is Monday!')\n",
    "elif day == 2:\n",
    "    print('Your day is Tuesday!')\n",
    "elif day == 3:\n",
    "    print('Your day is Wednesday!')\n",
    "elif day == 4:\n",
    "    print('Your day is Thursday!')\n",
    "elif day == 5:\n",
    "    print('Your day is Friday!')\n",
    "elif day == 6:\n",
    "    print('Your day is Saturday!')\n",
    "elif day == 7:\n",
    "    print('Your day is Sunday!')"
   ]
  },
  {
   "cell_type": "code",
   "execution_count": 42,
   "id": "4e15dad7",
   "metadata": {},
   "outputs": [
    {
     "name": "stdout",
     "output_type": "stream",
     "text": [
      "Pick a number between 1 and 7: 7\n",
      "Your day is Sunday!\n"
     ]
    }
   ],
   "source": [
    "day = int(input('Pick a number between 1 and 7: '))\n",
    "if day == 1:\n",
    "    print('Your day is Monday!')\n",
    "elif day == 2:\n",
    "    print('Your day is Tuesday!')\n",
    "elif day == 3:\n",
    "    print('Your day is Wednesday!')\n",
    "elif day == 4:\n",
    "    print('Your day is Thursday!')\n",
    "elif day == 5:\n",
    "    print('Your day is Friday!')\n",
    "elif day == 6:\n",
    "    print('Your day is Saturday!')\n",
    "elif day == 7:\n",
    "    print('Your day is Sunday!')"
   ]
  },
  {
   "cell_type": "code",
   "execution_count": 43,
   "id": "e021c960",
   "metadata": {},
   "outputs": [
    {
     "name": "stdout",
     "output_type": "stream",
     "text": [
      "Pick a number between 1 and 7: 9\n"
     ]
    }
   ],
   "source": [
    "day = int(input('Pick a number between 1 and 7: '))\n",
    "if day == 1:\n",
    "    print('Your day is Monday!')\n",
    "elif day == 2:\n",
    "    print('Your day is Tuesday!')\n",
    "elif day == 3:\n",
    "    print('Your day is Wednesday!')\n",
    "elif day == 4:\n",
    "    print('Your day is Thursday!')\n",
    "elif day == 5:\n",
    "    print('Your day is Friday!')\n",
    "elif day == 6:\n",
    "    print('Your day is Saturday!')\n",
    "elif day == 7:\n",
    "    print('Your day is Sunday!')"
   ]
  },
  {
   "cell_type": "markdown",
   "id": "77eeaa23",
   "metadata": {},
   "source": [
    "the numbers between 1 and 7 work fine, but the numbers outside of that domain do not display an error message. I will need to add an else statement for this"
   ]
  },
  {
   "cell_type": "code",
   "execution_count": 44,
   "id": "8afc6bba",
   "metadata": {},
   "outputs": [
    {
     "name": "stdout",
     "output_type": "stream",
     "text": [
      "Pick a number between 1 and 7: 9\n",
      "The number is outside the range. Please try again.\n"
     ]
    }
   ],
   "source": [
    "day = int(input('Pick a number between 1 and 7: '))\n",
    "if day == 1:\n",
    "    print('Your day is Monday!')\n",
    "elif day == 2:\n",
    "    print('Your day is Tuesday!')\n",
    "elif day == 3:\n",
    "    print('Your day is Wednesday!')\n",
    "elif day == 4:\n",
    "    print('Your day is Thursday!')\n",
    "elif day == 5:\n",
    "    print('Your day is Friday!')\n",
    "elif day == 6:\n",
    "    print('Your day is Saturday!')\n",
    "elif day == 7:\n",
    "    print('Your day is Sunday!')\n",
    "else:\n",
    "    print('The number is outside the range. Please try again.')"
   ]
  },
  {
   "cell_type": "markdown",
   "id": "27517035",
   "metadata": {},
   "source": [
    "This program now works for any number you enter"
   ]
  },
  {
   "cell_type": "markdown",
   "id": "a2acaefd",
   "metadata": {},
   "source": [
    "### Problem 5 Mass and Weight\n",
    "\n",
    "Scientists measure an object’s mass in kilograms and its weight in newtons. If you know the amount of mass of an object in kilograms, you can calculate its weight in newtons with the following formula:\n",
    "\n",
    "weight = mass * 9.8\n",
    "\n",
    "Write a program that asks the user to enter an object’s mass, then calculates its weight. If the object weighs more than 500 newtons, display a message indicating that it is too heavy. If the object weighs less than 100 newtons, display a message indicating that it is too light."
   ]
  },
  {
   "cell_type": "code",
   "execution_count": 34,
   "id": "60ac6d52",
   "metadata": {},
   "outputs": [
    {
     "name": "stdout",
     "output_type": "stream",
     "text": [
      "enter mass in kilograms: 60\n"
     ]
    },
    {
     "ename": "TypeError",
     "evalue": "can't multiply sequence by non-int of type 'float'",
     "output_type": "error",
     "traceback": [
      "\u001b[1;31m---------------------------------------------------------------------------\u001b[0m",
      "\u001b[1;31mTypeError\u001b[0m                                 Traceback (most recent call last)",
      "Cell \u001b[1;32mIn[34], line 2\u001b[0m\n\u001b[0;32m      1\u001b[0m mass \u001b[38;5;241m=\u001b[39m \u001b[38;5;28minput\u001b[39m(\u001b[38;5;124m'\u001b[39m\u001b[38;5;124menter mass in kilograms: \u001b[39m\u001b[38;5;124m'\u001b[39m)\n\u001b[1;32m----> 2\u001b[0m weight \u001b[38;5;241m=\u001b[39m mass \u001b[38;5;241m*\u001b[39m \u001b[38;5;241m9.8\u001b[39m\n\u001b[0;32m      3\u001b[0m \u001b[38;5;28;01mif\u001b[39;00m weight \u001b[38;5;241m>\u001b[39m \u001b[38;5;241m500\u001b[39m:\n\u001b[0;32m      4\u001b[0m     \u001b[38;5;28mprint\u001b[39m(\u001b[38;5;124m'\u001b[39m\u001b[38;5;124mObject is too heavy.\u001b[39m\u001b[38;5;124m'\u001b[39m)\n",
      "\u001b[1;31mTypeError\u001b[0m: can't multiply sequence by non-int of type 'float'"
     ]
    }
   ],
   "source": [
    "mass = input('enter mass in kilograms: ')\n",
    "weight = mass * 9.8\n",
    "if weight > 500:\n",
    "    print('Object is too heavy.')\n",
    "elif weight < 100:\n",
    "    print('Object is too light.')\n",
    "else:\n",
    "    print(f'The object weights {weight} Newtons.')"
   ]
  },
  {
   "cell_type": "markdown",
   "id": "60c73313",
   "metadata": {},
   "source": [
    "since I cannot multiply mass by a float since mass in an int, I will try to make mass into a float so the program can multiply mass by 9.8"
   ]
  },
  {
   "cell_type": "code",
   "execution_count": 35,
   "id": "f53bf259",
   "metadata": {},
   "outputs": [
    {
     "name": "stdout",
     "output_type": "stream",
     "text": [
      "enter mass in kilograms: 60\n",
      "Object is too heavy.\n"
     ]
    }
   ],
   "source": [
    "mass = float(input('enter mass in kilograms: '))\n",
    "weight = mass * 9.8\n",
    "if weight > 500:\n",
    "    print('Object is too heavy.')\n",
    "elif weight < 100:\n",
    "    print('Object is too light.')\n",
    "else:\n",
    "    print(f'The object weights {weight} Newtons.')"
   ]
  },
  {
   "cell_type": "markdown",
   "id": "75f7a045",
   "metadata": {},
   "source": [
    "We know this code works. However, I want the final weight to still be shown. I will just move the final print statement towards the beginnning."
   ]
  },
  {
   "cell_type": "code",
   "execution_count": 37,
   "id": "c929405d",
   "metadata": {},
   "outputs": [
    {
     "name": "stdout",
     "output_type": "stream",
     "text": [
      "enter mass in kilograms: 23\n",
      "The object weights 225.4 Newtons.\n"
     ]
    }
   ],
   "source": [
    "mass = float(input('enter mass in kilograms: '))\n",
    "weight = mass * 9.8\n",
    "print(f'The object weights {weight} Newtons.')\n",
    "if weight > 500:\n",
    "    print('The object is too heavy.')\n",
    "elif weight < 100:\n",
    "    print('The object is too light.')"
   ]
  },
  {
   "cell_type": "code",
   "execution_count": 38,
   "id": "9a2d940a",
   "metadata": {},
   "outputs": [
    {
     "name": "stdout",
     "output_type": "stream",
     "text": [
      "enter mass in kilograms: 2\n",
      "The object weights 19.6 Newtons.\n",
      "The object is too light.\n"
     ]
    }
   ],
   "source": [
    "mass = float(input('enter mass in kilograms: '))\n",
    "weight = mass * 9.8\n",
    "print(f'The object weights {weight} Newtons.')\n",
    "if weight > 500:\n",
    "    print('The object is too heavy.')\n",
    "elif weight < 100:\n",
    "    print('The object is too light.')"
   ]
  },
  {
   "cell_type": "markdown",
   "id": "27b67710",
   "metadata": {},
   "source": [
    "This code now works with any number you put in."
   ]
  },
  {
   "cell_type": "markdown",
   "id": "c835c6bc",
   "metadata": {},
   "source": [
    "### Problem 15 Time Calculator\n",
    "\n",
    "Write a program that asks the user to enter a number of seconds and works as follows:\n",
    "\n",
    "• There are 60 seconds in a minute. If the number of seconds entered by the user is greater than or equal to 60, the program should convert the number of seconds to minutes and seconds.\n",
    "\n",
    "• There are 3,600 seconds in an hour. If the number of seconds entered by the user is greater than or equal to 3,600, the program should convert the number of seconds to hours, minutes, and seconds.\n",
    "\n",
    "• There are 86,400 seconds in a day. If the number of seconds entered by the user is greater than or equal to 86,400, the program should convert the number of seconds to days, hours, minutes, and seconds."
   ]
  },
  {
   "cell_type": "code",
   "execution_count": 9,
   "id": "5e874bc0",
   "metadata": {},
   "outputs": [
    {
     "name": "stdout",
     "output_type": "stream",
     "text": [
      "enter a number of seconds20\n",
      "the amount of time is {answer}\n"
     ]
    }
   ],
   "source": [
    "answer = int(input('enter a number of seconds'))\n",
    "if answer >= 60:\n",
    "    print('conversion')\n",
    "else:\n",
    "    print('the amount of time is {answer}')"
   ]
  },
  {
   "cell_type": "markdown",
   "id": "c2f970d9",
   "metadata": {},
   "source": [
    "I found that my answer wasnt defined in the print statement so I tried using an f string. I will worry about the conversion when i finish setting up the program."
   ]
  },
  {
   "cell_type": "code",
   "execution_count": 11,
   "id": "f1b53359",
   "metadata": {},
   "outputs": [
    {
     "name": "stdout",
     "output_type": "stream",
     "text": [
      "enter a number of seconds: 20\n",
      "the amount of time is 20 seconds\n"
     ]
    }
   ],
   "source": [
    "answer = int(input('enter a number of seconds: '))\n",
    "if answer >= 60:\n",
    "    print('conversion')\n",
    "else:\n",
    "    print(f'the amount of time is {answer} seconds')"
   ]
  },
  {
   "cell_type": "code",
   "execution_count": 12,
   "id": "cbf673b3",
   "metadata": {},
   "outputs": [
    {
     "name": "stdout",
     "output_type": "stream",
     "text": [
      "enter a number of seconds: 70\n",
      "conversion\n"
     ]
    }
   ],
   "source": [
    "answer = int(input('enter a number of seconds: '))\n",
    "if answer >= 60:\n",
    "    print('conversion')\n",
    "else:\n",
    "    print(f'the amount of time is {answer} seconds')"
   ]
  },
  {
   "cell_type": "markdown",
   "id": "63e747d3",
   "metadata": {},
   "source": [
    "I got the program to work. Now, I just need to finish up with the setup process"
   ]
  },
  {
   "cell_type": "code",
   "execution_count": 13,
   "id": "2cbdc22a",
   "metadata": {},
   "outputs": [
    {
     "name": "stdout",
     "output_type": "stream",
     "text": [
      "enter a number of seconds: 90000\n",
      "the amount of time is conversion minutes, and conversion seconds.\n"
     ]
    }
   ],
   "source": [
    "answer = int(input('enter a number of seconds: '))\n",
    "if answer >= 60:\n",
    "    print(f'the amount of time is conversion minutes, and conversion seconds.')\n",
    "elif answer >= 3600:\n",
    "    print(f'the amount of time is conversion hours, conversion minutes, and conversion seconds.')\n",
    "elif answer >= 86400:\n",
    "    print(f'the amount of time is conversion days, conversion hours, conversion minutes, and conversion seconds.')\n",
    "else:\n",
    "    print(f'the amount of time is {answer} seconds.')"
   ]
  },
  {
   "cell_type": "markdown",
   "id": "3e682325",
   "metadata": {},
   "source": [
    "even though 90000 is greater than 86400, the program ignored this as 90000 is also greater than 60. I will try switching the order to see if that works"
   ]
  },
  {
   "cell_type": "code",
   "execution_count": 18,
   "id": "e09a7b0d",
   "metadata": {},
   "outputs": [
    {
     "name": "stdout",
     "output_type": "stream",
     "text": [
      "enter a number of seconds: 90000\n",
      "the amount of time is conversion days, conversion hours, conversion minutes, and conversion seconds.\n"
     ]
    }
   ],
   "source": [
    "answer = int(input('enter a number of seconds: '))\n",
    "if answer >= 86400:\n",
    "    print(f'the amount of time is conversion days, conversion hours, conversion minutes, and conversion seconds.')\n",
    "elif answer >= 3600:\n",
    "    print(f'the amount of time is conversion hours, conversion minutes, and conversion seconds.')\n",
    "elif answer >= 60:\n",
    "    print(f'the amount of time is conversion minutes, and conversion seconds.')\n",
    "else:\n",
    "    print(f'the amount of time is {answer} seconds.')"
   ]
  },
  {
   "cell_type": "code",
   "execution_count": 15,
   "id": "b0fa58c1",
   "metadata": {},
   "outputs": [
    {
     "name": "stdout",
     "output_type": "stream",
     "text": [
      "enter a number of seconds: 70\n",
      "the amount of time is conversion minutes, and conversion seconds.\n"
     ]
    }
   ],
   "source": [
    "answer = int(input('enter a number of seconds: '))\n",
    "if answer >= 86400:\n",
    "    print(f'the amount of time is conversion days, conversion hours, conversion minutes, and conversion seconds.')\n",
    "elif answer >= 3600:\n",
    "    print(f'the amount of time is conversion hours, conversion minutes, and conversion seconds.')\n",
    "elif answer >= 60:\n",
    "    print(f'the amount of time is conversion minutes, and conversion seconds.')\n",
    "else:\n",
    "    print(f'the amount of time is {answer} seconds.')"
   ]
  },
  {
   "cell_type": "markdown",
   "id": "7e5728b3",
   "metadata": {},
   "source": [
    "I have the program all setup now, I only need to do the conversions now."
   ]
  },
  {
   "cell_type": "code",
   "execution_count": 16,
   "id": "9bec8ffc",
   "metadata": {},
   "outputs": [
    {
     "name": "stdout",
     "output_type": "stream",
     "text": [
      "enter a number of seconds: 90000\n",
      "the amount of time is conversion minutes, and conversion seconds.\n"
     ]
    }
   ],
   "source": [
    "total_seconds = int(input('enter a number of seconds: '))\n",
    "if answer >= 86400:\n",
    "    days = seconds / 86400\n",
    "    hours_in_seconds = seconds // 86400\n",
    "    hours = hours_in_seconds / 3600\n",
    "    minutes_in_seconds = hours_in_seconds // 3600\n",
    "    minutes = minutes_in_seconds / 60\n",
    "    seconds = minutes_in_seconds // 60\n",
    "    print(f'the amount of time is {days} days, {hours} hours, {minutes} minutes, and {seconds} seconds.')\n",
    "elif answer >= 3600:\n",
    "    print(f'the amount of time is conversion hours, conversion minutes, and conversion seconds.')\n",
    "elif answer >= 60:\n",
    "    print(f'the amount of time is conversion minutes, and conversion seconds.')\n",
    "else:\n",
    "    print(f'the amount of time is {total_seconds} seconds.')"
   ]
  },
  {
   "cell_type": "markdown",
   "id": "1348e09c",
   "metadata": {},
   "source": [
    "I realized one of my variables in line 3 was incorrect. the seconds should be total_seconds instead. same with line 4"
   ]
  },
  {
   "cell_type": "code",
   "execution_count": 17,
   "id": "0c97a6ef",
   "metadata": {},
   "outputs": [
    {
     "name": "stdout",
     "output_type": "stream",
     "text": [
      "enter a number of seconds: 90000\n",
      "the amount of time is conversion minutes, and conversion seconds.\n"
     ]
    }
   ],
   "source": [
    "total_seconds = int(input('enter a number of seconds: '))\n",
    "if answer >= 86400:\n",
    "    days = total_seconds / 86400\n",
    "    hours_in_seconds = total_seconds // 86400\n",
    "    hours = hours_in_seconds / 3600\n",
    "    minutes_in_seconds = hours_in_seconds // 3600\n",
    "    minutes = minutes_in_seconds / 60\n",
    "    seconds = minutes_in_seconds // 60\n",
    "    print(f'the amount of time is {days} days, {hours} hours, {minutes} minutes, and {seconds} seconds.')\n",
    "elif answer >= 3600:\n",
    "    print(f'the amount of time is conversion hours, conversion minutes, and conversion seconds.')\n",
    "elif answer >= 60:\n",
    "    print(f'the amount of time is conversion minutes, and conversion seconds.')\n",
    "else:\n",
    "    print(f'the amount of time is {total_seconds} seconds.')"
   ]
  },
  {
   "cell_type": "markdown",
   "id": "574a941a",
   "metadata": {},
   "source": [
    "I still noticed there were more variables named \"answer\" when it should have been changed to \"total_seconds\" "
   ]
  },
  {
   "cell_type": "code",
   "execution_count": 19,
   "id": "6fed49b8",
   "metadata": {},
   "outputs": [
    {
     "name": "stdout",
     "output_type": "stream",
     "text": [
      "enter a number of seconds: 90000\n",
      "the amount of time is 1.0416666666666667 days, 0.0002777777777777778 hours, 0.0 minutes, and 0 seconds.\n"
     ]
    }
   ],
   "source": [
    "total_seconds = int(input('enter a number of seconds: '))\n",
    "if total_seconds >= 86400:\n",
    "    days = total_seconds / 86400\n",
    "    hours_in_seconds = total_seconds // 86400\n",
    "    hours = hours_in_seconds / 3600\n",
    "    minutes_in_seconds = hours_in_seconds // 3600\n",
    "    minutes = minutes_in_seconds / 60\n",
    "    seconds = minutes_in_seconds // 60\n",
    "    print(f'the amount of time is {days} days, {hours} hours, {minutes} minutes, and {seconds} seconds.')\n",
    "elif total_seconds >= 3600:\n",
    "    print(f'the amount of time is conversion hours, conversion minutes, and conversion seconds.')\n",
    "elif total_seconds >= 60:\n",
    "    print(f'the amount of time is conversion minutes, and conversion seconds.')\n",
    "else:\n",
    "    print(f'the amount of time is {total_seconds} seconds.')"
   ]
  },
  {
   "cell_type": "markdown",
   "id": "ae9fa734",
   "metadata": {},
   "source": [
    "I didn't want my answer to be in decimals, so I added int in front so the answer would come out as an integer"
   ]
  },
  {
   "cell_type": "code",
   "execution_count": 20,
   "id": "d5f39e8e",
   "metadata": {},
   "outputs": [
    {
     "name": "stdout",
     "output_type": "stream",
     "text": [
      "enter a number of seconds: 90000\n",
      "the amount of time is 1 days, 0 hours, 0 minutes, and 0 seconds.\n"
     ]
    }
   ],
   "source": [
    "total_seconds = int(input('enter a number of seconds: '))\n",
    "if total_seconds >= 86400:\n",
    "    days = int(total_seconds / 86400)\n",
    "    hours_in_seconds = total_seconds // 86400\n",
    "    hours = int(hours_in_seconds / 3600)\n",
    "    minutes_in_seconds = hours_in_seconds // 3600\n",
    "    minutes = int(minutes_in_seconds / 60)\n",
    "    seconds = minutes_in_seconds // 60\n",
    "    print(f'the amount of time is {days} days, {hours} hours, {minutes} minutes, and {seconds} seconds.')\n",
    "elif total_seconds >= 3600:\n",
    "    print(f'the amount of time is conversion hours, conversion minutes, and conversion seconds.')\n",
    "elif total_seconds >= 60:\n",
    "    print(f'the amount of time is conversion minutes, and conversion seconds.')\n",
    "else:\n",
    "    print(f'the amount of time is {total_seconds} seconds.')"
   ]
  },
  {
   "cell_type": "markdown",
   "id": "1958c3f9",
   "metadata": {},
   "source": [
    "the conversion only showed days and didnt show hours, minutes, or seconds. I then realized I was using the wrong operators the \n",
    "whole time. Instead of //, I need to use % to get the remainder. I also added more if an else statements within the first if and else statement so the program can run in a more organized way."
   ]
  },
  {
   "cell_type": "code",
   "execution_count": 26,
   "id": "467c4ef3",
   "metadata": {},
   "outputs": [
    {
     "name": "stdout",
     "output_type": "stream",
     "text": [
      "enter a number of seconds: 92636\n",
      "the amount of time is 1 days, 1 hours, 43 minutes, and 56 seconds.\n"
     ]
    }
   ],
   "source": [
    "total_seconds = int(input('enter a number of seconds: '))\n",
    "if total_seconds >= 86400:\n",
    "    days = int(total_seconds / 86400)\n",
    "    hours_in_seconds = total_seconds % 86400\n",
    "    if hours_in_seconds < 3600:\n",
    "        hours = 0\n",
    "    else:\n",
    "        hours = int(hours_in_seconds / 3600)\n",
    "        minutes_in_seconds = hours_in_seconds % 3600\n",
    "        if minutes_in_seconds < 60:\n",
    "            minutes = 0\n",
    "        else:\n",
    "            minutes = int(minutes_in_seconds / 60)\n",
    "            seconds = minutes_in_seconds % 60\n",
    "    print(f'the amount of time is {days} days, {hours} hours, {minutes} minutes, and {seconds} seconds.')\n",
    "elif total_seconds >= 3600:\n",
    "    print(f'the amount of time is conversion hours, conversion minutes, and conversion seconds.')\n",
    "elif total_seconds >= 60:\n",
    "    print(f'the amount of time is conversion minutes, and conversion seconds.')\n",
    "else:\n",
    "    print(f'the amount of time is {total_seconds} seconds.')"
   ]
  },
  {
   "cell_type": "markdown",
   "id": "81e95fd1",
   "metadata": {},
   "source": [
    "I have finally recieved a correct answer. All I need to do now is apply these statements to all of the if statements."
   ]
  },
  {
   "cell_type": "code",
   "execution_count": 27,
   "id": "c0acd058",
   "metadata": {},
   "outputs": [
    {
     "name": "stdout",
     "output_type": "stream",
     "text": [
      "enter a number of seconds: 89534\n",
      "the amount of time is 1 days, 0 hours, 43 minutes, and 56 seconds.\n"
     ]
    }
   ],
   "source": [
    "total_seconds = int(input('enter a number of seconds: '))\n",
    "if total_seconds >= 86400:\n",
    "    days = int(total_seconds / 86400)\n",
    "    hours_in_seconds = total_seconds % 86400\n",
    "    if hours_in_seconds < 3600:\n",
    "        hours = 0\n",
    "    else:\n",
    "        hours = int(hours_in_seconds / 3600)\n",
    "        minutes_in_seconds = hours_in_seconds % 3600\n",
    "        if minutes_in_seconds < 60:\n",
    "            minutes = 0\n",
    "        else:\n",
    "            minutes = int(minutes_in_seconds / 60)\n",
    "            seconds = minutes_in_seconds % 60\n",
    "    print(f'the amount of time is {days} days, {hours} hours, {minutes} minutes, and {seconds} seconds.')\n",
    "    \n",
    "elif total_seconds >= 3600:\n",
    "    hours = int(hours_in_seconds / 3600)\n",
    "    minutes_in_seconds = hours_in_seconds % 3600\n",
    "    if minutes_in_seconds < 60:\n",
    "        minutes = 0\n",
    "    else:\n",
    "        minutes = int(minutes_in_seconds / 60)\n",
    "        seconds = minutes_in_seconds % 60\n",
    "    print(f'the amount of time is {hours} hours, {minutes} minutes, and {seconds} seconds.')\n",
    "    \n",
    "elif total_seconds >= 60:\n",
    "    minutes = int(minutes_in_seconds / 60)\n",
    "    seconds = minutes_in_seconds % 60\n",
    "    print(f'the amount of time is {minutes} minutes, and {seconds} seconds.')\n",
    "    \n",
    "else:\n",
    "    print(f'the amount of time is {total_seconds} seconds.')"
   ]
  },
  {
   "cell_type": "markdown",
   "id": "c4343879",
   "metadata": {},
   "source": [
    "Since some statements in the if blocks were indented too much, the program did not calculate minutes or seconds. I removed some indents so that the program would still calculate minutes and seconds regardless what the outcome of days, hours, or minutes were."
   ]
  },
  {
   "cell_type": "code",
   "execution_count": 28,
   "id": "c316e9c0",
   "metadata": {},
   "outputs": [
    {
     "name": "stdout",
     "output_type": "stream",
     "text": [
      "enter a number of seconds: 89534\n",
      "the amount of time is 1 days, 0 hours, 52 minutes, and 14 seconds.\n"
     ]
    }
   ],
   "source": [
    "total_seconds = int(input('enter a number of seconds: '))\n",
    "if total_seconds >= 86400:\n",
    "    days = int(total_seconds / 86400)\n",
    "    hours_in_seconds = total_seconds % 86400\n",
    "    if hours_in_seconds < 3600:\n",
    "        hours = 0\n",
    "    else:\n",
    "        hours = int(hours_in_seconds / 3600)\n",
    "    minutes_in_seconds = hours_in_seconds % 3600\n",
    "    if minutes_in_seconds < 60:\n",
    "        minutes = 0\n",
    "    else:\n",
    "        minutes = int(minutes_in_seconds / 60)\n",
    "    seconds = minutes_in_seconds % 60\n",
    "    print(f'the amount of time is {days} days, {hours} hours, {minutes} minutes, and {seconds} seconds.')\n",
    "    \n",
    "elif total_seconds >= 3600:\n",
    "    hours = int(hours_in_seconds / 3600)\n",
    "    minutes_in_seconds = hours_in_seconds % 3600\n",
    "    if minutes_in_seconds < 60:\n",
    "        minutes = 0\n",
    "    else:\n",
    "        minutes = int(minutes_in_seconds / 60)\n",
    "        seconds = minutes_in_seconds % 60\n",
    "    print(f'the amount of time is {hours} hours, {minutes} minutes, and {seconds} seconds.')\n",
    "    \n",
    "elif total_seconds >= 60:\n",
    "    minutes = int(minutes_in_seconds / 60)\n",
    "    seconds = minutes_in_seconds % 60\n",
    "    print(f'the amount of time is {minutes} minutes, and {seconds} seconds.')\n",
    "    \n",
    "else:\n",
    "    print(f'the amount of time is {total_seconds} seconds.')"
   ]
  },
  {
   "cell_type": "markdown",
   "id": "fe722027",
   "metadata": {},
   "source": [
    "This finally worked for numbers greater than 86400. I will now test numbers between 3600 and 86400"
   ]
  },
  {
   "cell_type": "code",
   "execution_count": 29,
   "id": "c387efa4",
   "metadata": {},
   "outputs": [
    {
     "name": "stdout",
     "output_type": "stream",
     "text": [
      "enter a number of seconds: 4273\n",
      "the amount of time is 0 hours, 52 minutes, and 14 seconds.\n"
     ]
    }
   ],
   "source": [
    "total_seconds = int(input('enter a number of seconds: '))\n",
    "if total_seconds >= 86400:\n",
    "    days = int(total_seconds / 86400)\n",
    "    hours_in_seconds = total_seconds % 86400\n",
    "    if hours_in_seconds < 3600:\n",
    "        hours = 0\n",
    "    else:\n",
    "        hours = int(hours_in_seconds / 3600)\n",
    "    minutes_in_seconds = hours_in_seconds % 3600\n",
    "    if minutes_in_seconds < 60:\n",
    "        minutes = 0\n",
    "    else:\n",
    "        minutes = int(minutes_in_seconds / 60)\n",
    "    seconds = minutes_in_seconds % 60\n",
    "    print(f'the amount of time is {days} days, {hours} hours, {minutes} minutes, and {seconds} seconds.')\n",
    "    \n",
    "elif total_seconds >= 3600:\n",
    "    hours = int(hours_in_seconds / 3600)\n",
    "    minutes_in_seconds = hours_in_seconds % 3600\n",
    "    if minutes_in_seconds < 60:\n",
    "        minutes = 0\n",
    "    else:\n",
    "        minutes = int(minutes_in_seconds / 60)\n",
    "    seconds = minutes_in_seconds % 60\n",
    "    print(f'the amount of time is {hours} hours, {minutes} minutes, and {seconds} seconds.')\n",
    "    \n",
    "elif total_seconds >= 60:\n",
    "    minutes = int(minutes_in_seconds / 60)\n",
    "    seconds = minutes_in_seconds % 60\n",
    "    print(f'the amount of time is {minutes} minutes, and {seconds} seconds.')\n",
    "    \n",
    "else:\n",
    "    print(f'the amount of time is {total_seconds} seconds.')"
   ]
  },
  {
   "cell_type": "markdown",
   "id": "bff5f504",
   "metadata": {},
   "source": [
    "Another missed variable I needed to change, I need to change the \"hours_in_seconds\" variable in the first elif statement to \"total_seconds\""
   ]
  },
  {
   "cell_type": "code",
   "execution_count": 30,
   "id": "6d828cb2",
   "metadata": {},
   "outputs": [
    {
     "name": "stdout",
     "output_type": "stream",
     "text": [
      "enter a number of seconds: 4273\n",
      "the amount of time is 1 hours, 11 minutes, and 13 seconds.\n"
     ]
    }
   ],
   "source": [
    "total_seconds = int(input('enter a number of seconds: '))\n",
    "if total_seconds >= 86400:\n",
    "    days = int(total_seconds / 86400)\n",
    "    hours_in_seconds = total_seconds % 86400\n",
    "    if hours_in_seconds < 3600:\n",
    "        hours = 0\n",
    "    else:\n",
    "        hours = int(hours_in_seconds / 3600)\n",
    "    minutes_in_seconds = hours_in_seconds % 3600\n",
    "    if minutes_in_seconds < 60:\n",
    "        minutes = 0\n",
    "    else:\n",
    "        minutes = int(minutes_in_seconds / 60)\n",
    "    seconds = minutes_in_seconds % 60\n",
    "    print(f'the amount of time is {days} days, {hours} hours, {minutes} minutes, and {seconds} seconds.')\n",
    "    \n",
    "elif total_seconds >= 3600:\n",
    "    hours = int(total_seconds / 3600)\n",
    "    minutes_in_seconds = total_seconds % 3600\n",
    "    if minutes_in_seconds < 60:\n",
    "        minutes = 0\n",
    "    else:\n",
    "        minutes = int(minutes_in_seconds / 60)\n",
    "    seconds = minutes_in_seconds % 60\n",
    "    print(f'the amount of time is {hours} hours, {minutes} minutes, and {seconds} seconds.')\n",
    "    \n",
    "elif total_seconds >= 60:\n",
    "    minutes = int(total_seconds / 60)\n",
    "    seconds = total_seconds % 60\n",
    "    print(f'the amount of time is {minutes} minutes, and {seconds} seconds.')\n",
    "    \n",
    "else:\n",
    "    print(f'the amount of time is {total_seconds} seconds.')"
   ]
  },
  {
   "cell_type": "markdown",
   "id": "0187db54",
   "metadata": {},
   "source": [
    "I got the correct answer for this segment. Now I will try numbers between 60 and 3600"
   ]
  },
  {
   "cell_type": "code",
   "execution_count": 31,
   "id": "d5be944b",
   "metadata": {},
   "outputs": [
    {
     "name": "stdout",
     "output_type": "stream",
     "text": [
      "enter a number of seconds: 523\n",
      "the amount of time is 8 minutes, and 43 seconds.\n"
     ]
    }
   ],
   "source": [
    "total_seconds = int(input('enter a number of seconds: '))\n",
    "if total_seconds >= 86400:\n",
    "    days = int(total_seconds / 86400)\n",
    "    hours_in_seconds = total_seconds % 86400\n",
    "    if hours_in_seconds < 3600:\n",
    "        hours = 0\n",
    "    else:\n",
    "        hours = int(hours_in_seconds / 3600)\n",
    "    minutes_in_seconds = hours_in_seconds % 3600\n",
    "    if minutes_in_seconds < 60:\n",
    "        minutes = 0\n",
    "    else:\n",
    "        minutes = int(minutes_in_seconds / 60)\n",
    "    seconds = minutes_in_seconds % 60\n",
    "    print(f'the amount of time is {days} days, {hours} hours, {minutes} minutes, and {seconds} seconds.')\n",
    "    \n",
    "elif total_seconds >= 3600:\n",
    "    hours = int(total_seconds / 3600)\n",
    "    minutes_in_seconds = total_seconds % 3600\n",
    "    if minutes_in_seconds < 60:\n",
    "        minutes = 0\n",
    "    else:\n",
    "        minutes = int(minutes_in_seconds / 60)\n",
    "    seconds = minutes_in_seconds % 60\n",
    "    print(f'the amount of time is {hours} hours, {minutes} minutes, and {seconds} seconds.')\n",
    "    \n",
    "elif total_seconds >= 60:\n",
    "    minutes = int(total_seconds / 60)\n",
    "    seconds = total_seconds % 60\n",
    "    print(f'the amount of time is {minutes} minutes, and {seconds} seconds.')\n",
    "    \n",
    "else:\n",
    "    print(f'the amount of time is {total_seconds} seconds.')"
   ]
  },
  {
   "cell_type": "markdown",
   "id": "5c6041d4",
   "metadata": {},
   "source": [
    "This segment worked, now I will try numbers less than 60"
   ]
  },
  {
   "cell_type": "code",
   "execution_count": 32,
   "id": "ce978053",
   "metadata": {},
   "outputs": [
    {
     "name": "stdout",
     "output_type": "stream",
     "text": [
      "enter a number of seconds: 42\n",
      "the amount of time is 42 seconds.\n"
     ]
    }
   ],
   "source": [
    "total_seconds = int(input('enter a number of seconds: '))\n",
    "if total_seconds >= 86400:\n",
    "    days = int(total_seconds / 86400)\n",
    "    hours_in_seconds = total_seconds % 86400\n",
    "    if hours_in_seconds < 3600:\n",
    "        hours = 0\n",
    "    else:\n",
    "        hours = int(hours_in_seconds / 3600)\n",
    "    minutes_in_seconds = hours_in_seconds % 3600\n",
    "    if minutes_in_seconds < 60:\n",
    "        minutes = 0\n",
    "    else:\n",
    "        minutes = int(minutes_in_seconds / 60)\n",
    "    seconds = minutes_in_seconds % 60\n",
    "    print(f'the amount of time is {days} days, {hours} hours, {minutes} minutes, and {seconds} seconds.')\n",
    "    \n",
    "elif total_seconds >= 3600:\n",
    "    hours = int(total_seconds / 3600)\n",
    "    minutes_in_seconds = total_seconds % 3600\n",
    "    if minutes_in_seconds < 60:\n",
    "        minutes = 0\n",
    "    else:\n",
    "        minutes = int(minutes_in_seconds / 60)\n",
    "    seconds = minutes_in_seconds % 60\n",
    "    print(f'the amount of time is {hours} hours, {minutes} minutes, and {seconds} seconds.')\n",
    "    \n",
    "elif total_seconds >= 60:\n",
    "    minutes = int(total_seconds / 60)\n",
    "    seconds = total_seconds % 60\n",
    "    print(f'the amount of time is {minutes} minutes, and {seconds} seconds.')\n",
    "    \n",
    "else:\n",
    "    print(f'the amount of time is {total_seconds} seconds.')"
   ]
  },
  {
   "cell_type": "markdown",
   "id": "886394bc",
   "metadata": {},
   "source": [
    "this segment worked too. Now I will try with an absurdly large number"
   ]
  },
  {
   "cell_type": "code",
   "execution_count": 33,
   "id": "78c3019f",
   "metadata": {},
   "outputs": [
    {
     "name": "stdout",
     "output_type": "stream",
     "text": [
      "enter a number of seconds: 6405886376\n",
      "the amount of time is 74142 days, 4 hours, 52 minutes, and 56 seconds.\n"
     ]
    }
   ],
   "source": [
    "total_seconds = int(input('enter a number of seconds: '))\n",
    "if total_seconds >= 86400:\n",
    "    days = int(total_seconds / 86400)\n",
    "    hours_in_seconds = total_seconds % 86400\n",
    "    if hours_in_seconds < 3600:\n",
    "        hours = 0\n",
    "    else:\n",
    "        hours = int(hours_in_seconds / 3600)\n",
    "    minutes_in_seconds = hours_in_seconds % 3600\n",
    "    if minutes_in_seconds < 60:\n",
    "        minutes = 0\n",
    "    else:\n",
    "        minutes = int(minutes_in_seconds / 60)\n",
    "    seconds = minutes_in_seconds % 60\n",
    "    print(f'the amount of time is {days} days, {hours} hours, {minutes} minutes, and {seconds} seconds.')\n",
    "    \n",
    "elif total_seconds >= 3600:\n",
    "    hours = int(total_seconds / 3600)\n",
    "    minutes_in_seconds = total_seconds % 3600\n",
    "    if minutes_in_seconds < 60:\n",
    "        minutes = 0\n",
    "    else:\n",
    "        minutes = int(minutes_in_seconds / 60)\n",
    "    seconds = minutes_in_seconds % 60\n",
    "    print(f'the amount of time is {hours} hours, {minutes} minutes, and {seconds} seconds.')\n",
    "    \n",
    "elif total_seconds >= 60:\n",
    "    minutes = int(total_seconds / 60)\n",
    "    seconds = total_seconds % 60\n",
    "    print(f'the amount of time is {minutes} minutes, and {seconds} seconds.')\n",
    "    \n",
    "else:\n",
    "    print(f'the amount of time is {total_seconds} seconds.')"
   ]
  },
  {
   "cell_type": "markdown",
   "id": "60a08e32",
   "metadata": {},
   "source": [
    "This program finally works for any number you put in."
   ]
  },
  {
   "cell_type": "markdown",
   "id": "ad32c610",
   "metadata": {},
   "source": [
    "### Problem 17 Wi-Fi Diagnostic Tree\n",
    "\n",
    "Figure 3-19 shows a simplified flowchart for troubleshooting a bad Wi-Fi connection. Use the flowchart to create a program that leads a person through the steps of fixing a bad Wi-Fi connection. Here is an example of the program’s output:\n",
    "\n",
    "Reboot the computer and try to connect.\n",
    "\n",
    "Did that fix the problem? no Enter\n",
    "\n",
    "Reboot the router and try to connect.\n",
    "\n",
    "Did that fix the problem? yes Enter\n",
    "\n",
    "Notice the program ends as soon as a solution is found to the problem. Here is another\n",
    "\n",
    "example of the program’s output:\n",
    "\n",
    "Reboot the computer and try to connect.\n",
    "\n",
    "Did that fix the problem? no Enter\n",
    "\n",
    "eboot the router and try to connect.\n",
    "\n",
    "Did that fix the problem? no Enter\n",
    "\n",
    "Make sure the cables between the router and modem are plugged in firmly.\n",
    "\n",
    "Did that fix the problem? no Enter\n",
    "\n",
    "Move the router to a new location.\n",
    "\n",
    "Did that fix the problem? no Enter\n",
    "\n",
    "Get a new router."
   ]
  },
  {
   "cell_type": "code",
   "execution_count": 7,
   "id": "bb332683",
   "metadata": {
    "scrolled": true
   },
   "outputs": [
    {
     "name": "stdout",
     "output_type": "stream",
     "text": [
      "Reboot the computer and try to connect.\n",
      "Did that fix the problem? no\n",
      "Reboot the router and try to connect.\n",
      "Did that fix the problem? no\n",
      "Make sure the cables between the router and modem are plugged in firmly.\n",
      "Did that fix the problem? no\n",
      "Move the router to a new location.\n",
      "Did that fix the problem? no\n",
      "Get a new router\n"
     ]
    }
   ],
   "source": [
    "print('Reboot the computer and try to connect.')\n",
    "answer = input('Did that fix the problem? ')\n",
    "if answer == 'yes':\n",
    "    print('ok')\n",
    "else:\n",
    "    print('Reboot the router and try to connect.')\n",
    "    answer = input('Did that fix the problem? ')\n",
    "    if answer == 'yes':\n",
    "        print('ok')\n",
    "    else:\n",
    "        print('Make sure the cables between the router and modem are plugged in firmly.')\n",
    "        answer = input('Did that fix the problem? ')\n",
    "        if answer == 'yes':\n",
    "            print('ok')\n",
    "        else:\n",
    "            print('Move the router to a new location.')\n",
    "            answer = input('Did that fix the problem? ')\n",
    "            if answer == 'yes':\n",
    "                print('ok')\n",
    "            else:\n",
    "                print('Get a new router')"
   ]
  },
  {
   "cell_type": "markdown",
   "id": "f4a99533",
   "metadata": {},
   "source": [
    "Using the algorithm workbench problem 1, I was able to use the same format for this problem. Fortunately, this code works. I just need to do some more testing to make sure there is nothing wrong with it."
   ]
  },
  {
   "cell_type": "code",
   "execution_count": 8,
   "id": "1dba7d42",
   "metadata": {},
   "outputs": [
    {
     "name": "stdout",
     "output_type": "stream",
     "text": [
      "Reboot the computer and try to connect.\n",
      "Did that fix the problem? no\n",
      "Reboot the router and try to connect.\n",
      "Did that fix the problem? yes\n",
      "ok\n"
     ]
    }
   ],
   "source": [
    "print('Reboot the computer and try to connect.')\n",
    "answer = input('Did that fix the problem? ')\n",
    "if answer == 'yes':\n",
    "    print('ok')\n",
    "else:\n",
    "    print('Reboot the router and try to connect.')\n",
    "    answer = input('Did that fix the problem? ')\n",
    "    if answer == 'yes':\n",
    "        print('ok')\n",
    "    else:\n",
    "        print('Make sure the cables between the router and modem are plugged in firmly.')\n",
    "        answer = input('Did that fix the problem? ')\n",
    "        if answer == 'yes':\n",
    "            print('ok')\n",
    "        else:\n",
    "            print('Move the router to a new location.')\n",
    "            answer = input('Did that fix the problem? ')\n",
    "            if answer == 'yes':\n",
    "                print('ok')\n",
    "            else:\n",
    "                print('Get a new router')"
   ]
  },
  {
   "cell_type": "markdown",
   "id": "9301a9b0",
   "metadata": {},
   "source": [
    "I want to change the \"ok\" to \"your wifi connection is now fixed\". I also want to tell the user to say y or n, for yes or no, so there arent any unecessary errors."
   ]
  },
  {
   "cell_type": "code",
   "execution_count": 53,
   "id": "6b8c2202",
   "metadata": {},
   "outputs": [
    {
     "name": "stdout",
     "output_type": "stream",
     "text": [
      "Reboot the computer and try to connect.\n",
      "Did that fix the problem? y or n: n\n",
      "Reboot the router and try to connect.\n",
      "Did that fix the problem? y or n: n\n",
      "Make sure the cables between the router and modem are plugged in firmly.\n",
      "Did that fix the problem? y or n: y\n",
      "Your Wifi connection is now fixed!\n"
     ]
    }
   ],
   "source": [
    "print('Reboot the computer and try to connect.')\n",
    "answer = input('Did that fix the problem? y or n: ')\n",
    "if answer == 'y':\n",
    "    print('Your Wifi connection is now fixed!')\n",
    "else:\n",
    "    print('Reboot the router and try to connect.')\n",
    "    answer = input('Did that fix the problem? y or n: ')\n",
    "    if answer == 'y':\n",
    "        print('Your Wifi connection is now fixed!')\n",
    "    else:\n",
    "        print('Make sure the cables between the router and modem are plugged in firmly.')\n",
    "        answer = input('Did that fix the problem? y or n: ')\n",
    "        if answer == 'y':\n",
    "            print('Your Wifi connection is now fixed!')\n",
    "        else:\n",
    "            print('Move the router to a new location.')\n",
    "            answer = input('Did that fix the problem? y or n:')\n",
    "            if answer == 'y':\n",
    "                print('Your Wifi connection is now fixed!')\n",
    "            else:\n",
    "                print('Get a new router')"
   ]
  },
  {
   "cell_type": "markdown",
   "id": "38066fc9",
   "metadata": {},
   "source": [
    "This program now works perfectly."
   ]
  }
 ],
 "metadata": {
  "kernelspec": {
   "display_name": "Python 3 (ipykernel)",
   "language": "python",
   "name": "python3"
  },
  "language_info": {
   "codemirror_mode": {
    "name": "ipython",
    "version": 3
   },
   "file_extension": ".py",
   "mimetype": "text/x-python",
   "name": "python",
   "nbconvert_exporter": "python",
   "pygments_lexer": "ipython3",
   "version": "3.11.5"
  }
 },
 "nbformat": 4,
 "nbformat_minor": 5
}
