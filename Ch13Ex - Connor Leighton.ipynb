{
 "cells": [
  {
   "cell_type": "markdown",
   "id": "f26fa1e9",
   "metadata": {},
   "source": [
    "# Chapter 13 Exercises"
   ]
  },
  {
   "cell_type": "markdown",
   "id": "0b7f4594",
   "metadata": {},
   "source": [
    "## Programming Exercises"
   ]
  },
  {
   "cell_type": "markdown",
   "id": "b927c79a",
   "metadata": {},
   "source": [
    "### Question 3: Miles Per Gallon Calculator\n",
    "\n",
    "Write a GUI program that calculates a car’s gas mileage. The program’s window should have Entry widgets that let the user enter the number of gallons of gas the car holds, and the number of miles it can be driven on a full tank. When a Calculate MPG button is clicked, the program should display the number of miles that the car may be driven per gallon of gas. Use the following formula to calculate miles-per-gallon:"
   ]
  },
  {
   "cell_type": "code",
   "execution_count": 2,
   "id": "b7422115",
   "metadata": {},
   "outputs": [],
   "source": [
    "import tkinter as tk\n",
    "\n",
    "def calculate_mpg():\n",
    "    try:\n",
    "        gallons = float(entry_gallons.get())\n",
    "        miles = float(entry_miles.get())\n",
    "        mpg = miles / gallons\n",
    "        result_label.config(text = f\"MPG: {mpg:.2f}\")\n",
    "    except ValueError:\n",
    "        result_label.config(text = \"Please enter valid numbers\")\n",
    "        \n",
    "#Create the main window\n",
    "root = tk.Tk()\n",
    "root.title(\"Miles Per Gallon Calculator\")\n",
    "\n",
    "#Create entry widgets\n",
    "label_gallons = tk.Label(root, text = \"gallons of gas:\")\n",
    "label_gallons.grid(row = 0, column = 0, padx = 5, pady = 5)\n",
    "entry_gallons = tk.Entry(root)\n",
    "entry_gallons.grid(row = 0, column = 1, padx = 5, pady = 5)\n",
    "\n",
    "label_miles = tk.Label(root, text = \"miles per tank:\")\n",
    "label_miles.grid(row = 1, column = 0, padx = 5, pady = 5)\n",
    "entry_miles = tk.Entry(root)\n",
    "entry_miles.grid(row = 1, column = 1, padx = 5, pady = 5)\n",
    "\n",
    "#Create MPG button\n",
    "calculate_button = tk.Button(root, text = \"calculate MPG\", command=calculate_mpg)\n",
    "calculate_button.grid(row = 2, column = 0, columnspan = 2, padx = 5, pady = 5)\n",
    "\n",
    "#Create label to display results\n",
    "result_label = tk.Label(root, text = \"\")\n",
    "result_label.grid(row = 3, column = 0, columnspan = 2, padx = 5, pady = 5)\n",
    "\n",
    "#Start event loop\n",
    "root.mainloop()"
   ]
  },
  {
   "cell_type": "code",
   "execution_count": null,
   "id": "79885c0f",
   "metadata": {},
   "outputs": [],
   "source": []
  }
 ],
 "metadata": {
  "kernelspec": {
   "display_name": "Python 3 (ipykernel)",
   "language": "python",
   "name": "python3"
  },
  "language_info": {
   "codemirror_mode": {
    "name": "ipython",
    "version": 3
   },
   "file_extension": ".py",
   "mimetype": "text/x-python",
   "name": "python",
   "nbconvert_exporter": "python",
   "pygments_lexer": "ipython3",
   "version": "3.11.5"
  }
 },
 "nbformat": 4,
 "nbformat_minor": 5
}
